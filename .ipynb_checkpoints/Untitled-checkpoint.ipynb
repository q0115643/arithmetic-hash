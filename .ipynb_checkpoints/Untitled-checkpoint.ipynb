{
 "cells": [
  {
   "cell_type": "markdown",
   "metadata": {},
   "source": [
    "## Parsing from raw Brown Corpus"
   ]
  },
  {
   "cell_type": "code",
   "execution_count": 1,
   "metadata": {},
   "outputs": [],
   "source": [
    "brown_fp = './data/corpora/brown.txt'\n",
    "tokens_csv_fp = './data/tokens.csv'"
   ]
  },
  {
   "cell_type": "code",
   "execution_count": 2,
   "metadata": {},
   "outputs": [],
   "source": [
    "from collections import Counter\n",
    "from nltk.tokenize import word_tokenize\n",
    "from tqdm import tqdm_notebook\n",
    "from util import list_to_string, only_alphabets\n",
    "import csv\n",
    "import sys\n",
    "import logging\n",
    "logging.basicConfig(level=logging.DEBUG, format='%(asctime)s %(message)s', datefmt='%m-%d %H:%M', stream=sys.stdout)"
   ]
  },
  {
   "cell_type": "code",
   "execution_count": 3,
   "metadata": {},
   "outputs": [
    {
     "name": "stdout",
     "output_type": "stream",
     "text": [
      "01-14 15:10 Tokenizing Brown Corpus...\n"
     ]
    },
    {
     "data": {
      "application/vnd.jupyter.widget-view+json": {
       "model_id": "3a3d92e887b44ddea24160f33bae4389",
       "version_major": 2,
       "version_minor": 0
      },
      "text/plain": [
       "HBox(children=(IntProgress(value=0, max=51763), HTML(value='')))"
      ]
     },
     "metadata": {},
     "output_type": "display_data"
    },
    {
     "name": "stdout",
     "output_type": "stream",
     "text": [
      "\n"
     ]
    }
   ],
   "source": [
    "tokens = []\n",
    "logging.info('Tokenizing Brown Corpus...')\n",
    "with open(brown_fp, 'r') as brown:\n",
    "    brown = list(brown)\n",
    "    for line in tqdm_notebook(brown, total=len(brown)):\n",
    "        words = word_tokenize(only_alphabets(line))\n",
    "        tokens += words"
   ]
  },
  {
   "cell_type": "code",
   "execution_count": 4,
   "metadata": {},
   "outputs": [
    {
     "name": "stdout",
     "output_type": "stream",
     "text": [
      "01-14 15:10 Writing Token-Count info on new csv file...\n"
     ]
    },
    {
     "data": {
      "application/vnd.jupyter.widget-view+json": {
       "model_id": "1460689a72a2432b8aee26d298d377e5",
       "version_major": 2,
       "version_minor": 0
      },
      "text/plain": [
       "HBox(children=(IntProgress(value=0, max=41143), HTML(value='')))"
      ]
     },
     "metadata": {},
     "output_type": "display_data"
    },
    {
     "name": "stdout",
     "output_type": "stream",
     "text": [
      "\n"
     ]
    }
   ],
   "source": [
    "logging.info(\"Writing Token-Count info on new csv file...\")\n",
    "with open(tokens_csv_fp, 'w') as csvfile:\n",
    "    fieldnames = [\n",
    "        'token',\n",
    "        'count'\n",
    "    ]\n",
    "    writer = csv.DictWriter(\n",
    "        csvfile,\n",
    "        fieldnames=fieldnames,\n",
    "        quoting=csv.QUOTE_ALL)\n",
    "    writer.writeheader()\n",
    "    output = []\n",
    "    token_counter = sorted(Counter(tokens).items(), key=lambda pair: pair[1], reverse=True)\n",
    "    for tok, cnt in tqdm_notebook(token_counter):\n",
    "        output.append({'token': tok,\n",
    "                       'count': cnt})\n",
    "    writer.writerows(output)"
   ]
  },
  {
   "cell_type": "markdown",
   "metadata": {},
   "source": [
    "## Dataloader"
   ]
  },
  {
   "cell_type": "code",
   "execution_count": 5,
   "metadata": {},
   "outputs": [],
   "source": [
    "batch_size = 256"
   ]
  },
  {
   "cell_type": "code",
   "execution_count": 6,
   "metadata": {},
   "outputs": [
    {
     "name": "stdout",
     "output_type": "stream",
     "text": [
      "01-14 15:10 PyTorch version: 1.0.0\n",
      "01-14 15:10 GPU Detected: True\n"
     ]
    }
   ],
   "source": [
    "import torch\n",
    "from torch.utils.data import Dataset\n",
    "from torch.utils.data import DataLoader\n",
    "import torch.nn.functional as F\n",
    "from sklearn.model_selection import train_test_split\n",
    "import numpy as np\n",
    "from util import to_categorical\n",
    "logging.info(\"PyTorch version: {}\".format(torch.__version__))\n",
    "logging.info(\"GPU Detected: {}\".format(torch.cuda.is_available()))\n",
    "using_GPU = torch.cuda.is_available()"
   ]
  },
  {
   "cell_type": "code",
   "execution_count": 7,
   "metadata": {},
   "outputs": [
    {
     "name": "stdout",
     "output_type": "stream",
     "text": [
      "01-14 15:10 int2char\n",
      "{1: 'a', 2: 'b', 3: 'c', 4: 'd', 5: 'e', 6: 'f', 7: 'g', 8: 'h', 9: 'i', 10: 'j', 11: 'k', 12: 'l', 13: 'm', 14: 'n', 15: 'o', 16: 'p', 17: 'q', 18: 'r', 19: 's', 20: 't', 21: 'u', 22: 'v', 23: 'w', 24: 'x', 25: 'y', 26: 'z', 0: '<PAD>'}\n",
      "01-14 15:10 char2int\n",
      "{'a': 1, 'b': 2, 'c': 3, 'd': 4, 'e': 5, 'f': 6, 'g': 7, 'h': 8, 'i': 9, 'j': 10, 'k': 11, 'l': 12, 'm': 13, 'n': 14, 'o': 15, 'p': 16, 'q': 17, 'r': 18, 's': 19, 't': 20, 'u': 21, 'v': 22, 'w': 23, 'x': 24, 'y': 25, 'z': 26, '<PAD>': 0}\n"
     ]
    }
   ],
   "source": [
    "import string\n",
    "alphabets = list(string.ascii_lowercase)\n",
    "alphabet_size = len(alphabets) + 1\n",
    "int2char = dict(enumerate(alphabets, start=1))\n",
    "int2char[0] = '<PAD>'\n",
    "char2int = {char: index for index, char in int2char.items()}\n",
    "logging.info('int2char')\n",
    "print(int2char)\n",
    "logging.info('char2int')\n",
    "print(char2int)"
   ]
  },
  {
   "cell_type": "code",
   "execution_count": 8,
   "metadata": {},
   "outputs": [],
   "source": [
    "tokens = []\n",
    "with open(tokens_csv_fp) as f:\n",
    "    lines = csv.reader(f)\n",
    "    next(lines)\n",
    "    for line in lines:\n",
    "        tok = line[0]\n",
    "        cnt = int(line[1])\n",
    "        for i in range(cnt):\n",
    "            tokens.append(tok)\n",
    "tokens = [np.array([char2int[char] for char in token]) for token in tokens]"
   ]
  },
  {
   "cell_type": "code",
   "execution_count": 9,
   "metadata": {},
   "outputs": [
    {
     "name": "stdout",
     "output_type": "stream",
     "text": [
      "01-14 15:10 One-hot Encoding Tokens...\n"
     ]
    },
    {
     "data": {
      "application/vnd.jupyter.widget-view+json": {
       "model_id": "5c1ae365abcb4af79f53d56474b91b18",
       "version_major": 2,
       "version_minor": 0
      },
      "text/plain": [
       "HBox(children=(IntProgress(value=0, max=1023530), HTML(value='')))"
      ]
     },
     "metadata": {},
     "output_type": "display_data"
    },
    {
     "name": "stdout",
     "output_type": "stream",
     "text": [
      "\n"
     ]
    }
   ],
   "source": [
    "encoded_tokens = []\n",
    "logging.info('One-hot Encoding Tokens...')\n",
    "for token in tqdm_notebook(tokens):\n",
    "    encoded_tokens.append(to_categorical(token, alphabet_size))"
   ]
  },
  {
   "cell_type": "code",
   "execution_count": 10,
   "metadata": {},
   "outputs": [],
   "source": [
    "class CharDataset(Dataset):\n",
    "    def __init__(self, tokens):\n",
    "        self.tokens = tokens\n",
    "\n",
    "    def __getitem__(self, idx):\n",
    "        example_token = self.tokens[idx]\n",
    "        # Truncate the sequence if necessary\n",
    "        example_length = example_token.shape[0]\n",
    "        return example_token, example_length\n",
    "\n",
    "    def __len__(self):\n",
    "        return len(self.tokens)\n",
    "\n",
    "    @staticmethod\n",
    "    def collate_fn(batch):\n",
    "        batch_inputs = []\n",
    "        batch_padded_example_text = []\n",
    "        batch_lengths = []\n",
    "        batch_targets = []\n",
    "\n",
    "        # Get the length of the longest sequence in the batch\n",
    "        max_length = -1\n",
    "        for token, __ in batch:\n",
    "            if len(token) > max_length:\n",
    "                max_length = len(token)\n",
    "\n",
    "        # Iterate over each example in the batch\n",
    "        for token, length in batch:\n",
    "            amount_to_pad = max_length - length\n",
    "            # Tensor of shape (amount_to_pad,), converted to LongTensor\n",
    "            pad_tensor = torch.zeros(amount_to_pad, token.shape[1])\n",
    "            batch_targets.append([np.where(x == 1)[0][0] for x in np.array(token[1:])] + [0] * amount_to_pad)\n",
    "            token = torch.Tensor(token)\n",
    "            padded_example_text = torch.cat((token, pad_tensor), dim=0)\n",
    "            # Add the padded example to our batch\n",
    "            batch_lengths.append(length-1)\n",
    "            batch_inputs.append(padded_example_text.narrow(0, 0, max_length-1))\n",
    "\n",
    "        # Stack the list of LongTensors into a single LongTensor\n",
    "        return (torch.stack(batch_inputs),\n",
    "                torch.LongTensor(batch_targets),\n",
    "                torch.LongTensor(batch_lengths))"
   ]
  },
  {
   "cell_type": "code",
   "execution_count": 11,
   "metadata": {},
   "outputs": [],
   "source": [
    "train_tokens, val_test_tokens = train_test_split(encoded_tokens, test_size=0.05)\n",
    "val_tokens, test_tokens = train_test_split(val_test_tokens, test_size=0.5)\n",
    "training_dataset = CharDataset(train_tokens)\n",
    "val_dataset = CharDataset(val_tokens)\n",
    "test_dataset = CharDataset(test_tokens)"
   ]
  },
  {
   "cell_type": "code",
   "execution_count": 12,
   "metadata": {},
   "outputs": [],
   "source": [
    "train_dataloader = DataLoader(dataset=training_dataset,\n",
    "                              batch_size=batch_size,\n",
    "                              shuffle=True,\n",
    "                              collate_fn=CharDataset.collate_fn)\n",
    "val_dataloader = DataLoader(dataset=val_dataset,\n",
    "                            batch_size=batch_size,\n",
    "                            shuffle=False,\n",
    "                            collate_fn=CharDataset.collate_fn)\n",
    "test_dataloader = DataLoader(dataset=test_dataset,\n",
    "                             batch_size=batch_size,\n",
    "                             shuffle=False,\n",
    "                             collate_fn=CharDataset.collate_fn)"
   ]
  },
  {
   "cell_type": "markdown",
   "metadata": {},
   "source": [
    "## Define Model"
   ]
  },
  {
   "cell_type": "code",
   "execution_count": 13,
   "metadata": {},
   "outputs": [],
   "source": [
    "import torch.nn as nn\n",
    "from allennlp.nn.util import sort_batch_by_length\n",
    "from torch.nn.utils.rnn import pack_padded_sequence, pad_packed_sequence\n",
    "hidden_dim = 64\n",
    "dropout1 = 0.2\n",
    "dropout2 = 0\n",
    "dropout3 = 0.2\n",
    "lr = 0.5"
   ]
  },
  {
   "cell_type": "code",
   "execution_count": 14,
   "metadata": {},
   "outputs": [],
   "source": [
    "class CharLSTM(nn.ModuleList):\n",
    "    def __init__(self, alphabet_size, hidden_dim, batch_size, dropout1=0.2, dropout2=0, dropout3=0.2):\n",
    "        super(CharLSTM, self).__init__()\n",
    "        self.hidden_dim = hidden_dim\n",
    "        self.batch_size = batch_size\n",
    "        self.alphabet_size = alphabet_size\n",
    "        self.dropout_to_LSTM = nn.Dropout(dropout1)\n",
    "        self.rnn = nn.LSTM(input_size=alphabet_size, hidden_size=hidden_dim,\n",
    "                           num_layers=1, dropout=dropout2, batch_first=True, bidirectional=False)\n",
    "        self.dropout_to_linear_layer = nn.Dropout(dropout3)\n",
    "        self.fc = nn.Linear(in_features=hidden_dim, out_features=alphabet_size)\n",
    "        \n",
    "    def forward(self, inputs, lengths):\n",
    "        total_length = inputs.size(1)\n",
    "        embedded_input = self.dropout_to_LSTM(inputs)\n",
    "        (sorted_input, sorted_lengths, input_unsort_indices, _) = sort_batch_by_length(embedded_input, lengths)\n",
    "        packed_input = pack_padded_sequence(sorted_input, sorted_lengths.data.tolist(), batch_first=True)\n",
    "        self.rnn.flatten_parameters()\n",
    "        packed_sorted_output, hidden = self.rnn(packed_input)\n",
    "        sorted_output, _ = pad_packed_sequence(packed_sorted_output, batch_first=True, total_length=total_length)\n",
    "        output = sorted_output[input_unsort_indices]\n",
    "        output = self.fc(output)\n",
    "        output = F.log_softmax(output, dim=2)\n",
    "        return output\n",
    "    \n",
    "    def forward2(self, inputs, hidden):\n",
    "        output, hidden = self.rnn(inputs, hidden) #(batch, seq_len, input_size) -> (1, 1, input_size)\n",
    "        output = self.fc(output)\n",
    "        output = F.softmax(output, dim=2)\n",
    "        return output, hidden\n",
    "    \n",
    "    def init_hidden(self):\n",
    "        return (Variable(torch.zeros(1, 1, self.hidden_dim)),\n",
    "                Variable(torch.zeros(1, 1, self.hidden_dim)))"
   ]
  },
  {
   "cell_type": "code",
   "execution_count": 23,
   "metadata": {},
   "outputs": [],
   "source": [
    "RNN_model = CharLSTM(alphabet_size=alphabet_size,\n",
    "                     hidden_dim=hidden_dim,\n",
    "                     batch_size=batch_size,\n",
    "                     dropout1=dropout1, dropout2=dropout2, dropout3=dropout3)\n",
    "if using_GPU:\n",
    "    RNN_model = RNN_model.cuda()\n",
    "loss_criterion = nn.NLLLoss(reduction='mean')\n",
    "optimizer = torch.optim.Adam(RNN_model.parameters(), lr=lr)\n",
    "#optimizer = torch.optim.SGD(RNN_model.parameters(), lr=lr, momentum=0.9, nesterov=True, weight_decay=1e-5)"
   ]
  },
  {
   "cell_type": "markdown",
   "metadata": {},
   "source": [
    "## Train Model"
   ]
  },
  {
   "cell_type": "code",
   "execution_count": 24,
   "metadata": {},
   "outputs": [],
   "source": [
    "from torch.autograd import Variable\n",
    "model_path = './data/checkpoint/rnn.pkl'"
   ]
  },
  {
   "cell_type": "code",
   "execution_count": 25,
   "metadata": {},
   "outputs": [
    {
     "name": "stdout",
     "output_type": "stream",
     "text": [
      "01-14 15:12 ******************************\n",
      "01-14 15:12 Epoch 0. Learning Rate 0.0078125\n",
      "01-14 15:12 ******************************\n",
      "01-14 15:12 Iteration 400. Training Loss 0.9249.\n",
      "01-14 15:12 Validation Loss 0.8711. Validataion Accuracy 0.78.\n",
      "01-14 15:12 New Best Validation Loss 9999999.0000 -> 0.8711\n",
      "01-14 15:13 Iteration 800. Training Loss 0.7222.\n",
      "01-14 15:13 Validation Loss 0.7158. Validataion Accuracy 0.79.\n",
      "01-14 15:13 New Best Validation Loss 0.8711 -> 0.7158\n",
      "01-14 15:13 Iteration 1200. Training Loss 0.7150.\n",
      "01-14 15:13 Validation Loss 0.6729. Validataion Accuracy 0.80.\n",
      "01-14 15:13 New Best Validation Loss 0.7158 -> 0.6729\n",
      "01-14 15:13 Stop By KeyboardInterrupt...\n"
     ]
    }
   ],
   "source": [
    "num_iter = 0\n",
    "min_val_loss = 9999999\n",
    "min_train_loss = 9999999\n",
    "train_loss_record = []\n",
    "eval_loss_record = []\n",
    "RNN_model.train()\n",
    "try:\n",
    "    for epoch in range(30):\n",
    "        logging.info(\"*\" * 30)\n",
    "        logging.info('Epoch {}. Learning Rate {}'.format(epoch, lr))\n",
    "        logging.info(\"*\" * 30)\n",
    "        for (inputs, targets, lengths) in train_dataloader:\n",
    "            inputs = Variable(inputs) # shape(batch_size, longest_length, alphabet_num) (ex. 128, 13, 28)\n",
    "            lengths = Variable(lengths)\n",
    "            targets = Variable(targets)\n",
    "            if using_GPU:\n",
    "                inputs = inputs.cuda() # [128, maxlen, 26]\n",
    "                lengths = lengths.cuda()\n",
    "                targets = targets.cuda()\n",
    "            output = RNN_model(inputs, lengths) # [batch_size, maxlen, hidden_dim]\n",
    "            batch_loss = loss_criterion(output.view(-1, alphabet_size), targets.view(-1))\n",
    "            optimizer.zero_grad()\n",
    "            batch_loss.backward()\n",
    "            optimizer.step()\n",
    "            train_loss_record.append(batch_loss.item())\n",
    "            num_iter += 1\n",
    "            if num_iter % 400 == 0:\n",
    "                RNN_model.eval()\n",
    "                total_eval_loss = 0\n",
    "                corrects = 0\n",
    "                total_len = 0\n",
    "                for (v_inputs, v_targets, v_lengths) in val_dataloader:\n",
    "                    with torch.no_grad():\n",
    "                        v_inputs = Variable(v_inputs) # shape(batch_size, longest_length, alphabet_num) (ex. 128, 13, 28)\n",
    "                        v_targets = Variable(v_targets)\n",
    "                        v_lengths = Variable(v_lengths)\n",
    "                        if using_GPU:\n",
    "                            v_inputs = v_inputs.cuda() # [128, maxlen, 26]\n",
    "                            v_targets = v_targets.cuda()\n",
    "                            v_lengths = v_lengths.cuda()\n",
    "                        predicted = RNN_model(v_inputs, v_lengths)\n",
    "                        total_eval_loss += loss_criterion(predicted.view(-1, alphabet_size), v_targets.view(-1)).item()\n",
    "                        total_len += predicted.view(-1, alphabet_size).shape[0]\n",
    "                        corrects += (torch.max(predicted.view(-1, alphabet_size), 1)[1].data == v_targets.view(-1).data).sum()\n",
    "                avg_eval_loss = total_eval_loss / test_dataloader.__len__()\n",
    "                accuracy = float(corrects) / float(total_len)\n",
    "                logging.info(\"Iteration {}. Training Loss {:.4f}.\".format(num_iter, batch_loss))\n",
    "                logging.info(\"Validation Loss {:.4f}. Validataion Accuracy {:.2f}.\".format(avg_eval_loss, accuracy))\n",
    "                if min_val_loss > avg_eval_loss:\n",
    "                    logging.info(\"New Best Validation Loss {:.4f} -> {:.4f}\".format(min_val_loss, avg_eval_loss))\n",
    "                    min_val_loss = avg_eval_loss\n",
    "                    torch.save({'model': RNN_model.state_dict(),\n",
    "                                'optimizer': optimizer.state_dict(),\n",
    "                                'train_loss_record': train_loss_record,\n",
    "                                'eval_loss_record': eval_loss_record\n",
    "                               }, model_path)\n",
    "                elif min_train_loss < batch_loss:\n",
    "                    new_lr = lr/2\n",
    "                    logging.info(\"Learning Rate Decay {} -> {}\".format(lr, new_lr))\n",
    "                    lr = new_lr\n",
    "                    for param_group in optimizer.param_groups:\n",
    "                        param_group['lr'] = lr\n",
    "                if min_train_loss > batch_loss:\n",
    "                    min_train_loss = batch_loss\n",
    "                eval_loss_record.append(avg_eval_loss)\n",
    "                RNN_model.train()\n",
    "except KeyboardInterrupt:\n",
    "    logging.info(\"Stop By KeyboardInterrupt...\")"
   ]
  },
  {
   "cell_type": "code",
   "execution_count": 26,
   "metadata": {},
   "outputs": [],
   "source": [
    "import matplotlib.pyplot as plt"
   ]
  },
  {
   "cell_type": "code",
   "execution_count": 27,
   "metadata": {},
   "outputs": [
    {
     "data": {
      "text/plain": [
       "[<matplotlib.lines.Line2D at 0x7f2269afcb70>]"
      ]
     },
     "execution_count": 27,
     "metadata": {},
     "output_type": "execute_result"
    },
    {
     "name": "stdout",
     "output_type": "stream",
     "text": [
      "01-14 15:13 update_title_pos\n",
      "01-14 15:13 update_title_pos\n",
      "01-14 15:13 update_title_pos\n",
      "01-14 15:13 update_title_pos\n",
      "01-14 15:13 update_title_pos\n"
     ]
    },
    {
     "data": {
      "image/png": "[encoded data removed]",
      "text/plain": [
       "<Figure size 432x288 with 1 Axes>"
      ]
     },
     "metadata": {
      "needs_background": "light"
     },
     "output_type": "display_data"
    }
   ],
   "source": [
    "plt.figure()\n",
    "plt.title(\"Validation Loss in Gradient Descent\")\n",
    "plt.plot(eval_loss_record)"
   ]
  },
  {
   "cell_type": "code",
   "execution_count": 28,
   "metadata": {},
   "outputs": [
    {
     "data": {
      "text/plain": [
       "[<matplotlib.lines.Line2D at 0x7f2269a927f0>]"
      ]
     },
     "execution_count": 28,
     "metadata": {},
     "output_type": "execute_result"
    },
    {
     "name": "stdout",
     "output_type": "stream",
     "text": [
      "01-14 15:13 update_title_pos\n",
      "01-14 15:13 update_title_pos\n",
      "01-14 15:13 update_title_pos\n",
      "01-14 15:13 update_title_pos\n",
      "01-14 15:13 update_title_pos\n"
     ]
    },
    {
     "data": {
      "image/png": "[encoded data removed]",
      "text/plain": [
       "<Figure size 432x288 with 1 Axes>"
      ]
     },
     "metadata": {
      "needs_background": "light"
     },
     "output_type": "display_data"
    }
   ],
   "source": [
    "plt.figure()\n",
    "plt.title(\"Training Loss in Gradient Descent\")\n",
    "plt.plot(train_loss_record)"
   ]
  },
  {
   "cell_type": "markdown",
   "metadata": {},
   "source": [
    "## Checkout Performance"
   ]
  },
  {
   "cell_type": "code",
   "execution_count": 59,
   "metadata": {},
   "outputs": [
    {
     "name": "stdout",
     "output_type": "stream",
     "text": [
      "[('a', 0.11359608414018153), ('b', 0.045774916221312516), ('c', 0.048276064209158503), ('d', 0.030625384698054772), ('e', 0.024376422772170822), ('f', 0.041670493292819945), ('g', 0.017116254530888202), ('h', 0.05375221048723535), ('i', 0.06712065108008558), ('j', 0.007162467148007386), ('k', 0.005085341904975916), ('l', 0.024102859711000166), ('m', 0.03973308061317206), ('n', 0.021799067931570153), ('o', 0.07066036168944731), ('p', 0.039085322364757265), ('q', 0.0019295965921858665), ('r', 0.02630797338622219), ('s', 0.07485369261282034), ('t', 0.15950485085928112), ('u', 0.011582464607778961), ('v', 0.00669154787842076), ('w', 0.06041053999394253), ('x', 3.712641544458882e-05), ('y', 0.008524420388264144), ('z', 0.00022080447080202829)]\n"
     ]
    }
   ],
   "source": [
    "char_probs = []\n",
    "with open(tokens_csv_fp) as f:\n",
    "    lines = csv.reader(f)\n",
    "    next(lines)\n",
    "    for line in lines:\n",
    "        tok = line[0]\n",
    "        cnt = int(line[1])\n",
    "        for i in range(cnt):\n",
    "            char_probs.append(tok[0])\n",
    "char_probs = sorted(Counter(char_probs).items(), key=lambda pair: pair[0], reverse=False)\n",
    "total_cnt = 0\n",
    "for (_, cnt) in char_probs:\n",
    "    total_cnt += cnt\n",
    "for idx, (c, cnt) in enumerate(char_probs):\n",
    "    char_probs[idx] = (c, float(cnt)/float(total_cnt))\n",
    "print(char_probs)"
   ]
  },
  {
   "cell_type": "code",
   "execution_count": 51,
   "metadata": {},
   "outputs": [
    {
     "name": "stdout",
     "output_type": "stream",
     "text": [
      "[('a', 0.12485569), ('b', 0.045451034), ('c', 0.048998136), ('d', 0.029929033), ('e', 0.024552286), ('f', 0.04027108), ('g', 0.0199972), ('h', 0.046577778), ('i', 0.06258376), ('j', 0.0069594653), ('k', 0.0055682063), ('l', 0.02272542), ('m', 0.039102856), ('n', 0.021448389), ('o', 0.072766975), ('p', 0.043410394), ('q', 0.0019123388), ('r', 0.02184446), ('s', 0.08109022), ('t', 0.15931515), ('u', 0.010583877), ('v', 0.0067904806), ('w', 0.05527479), ('x', 0.00025028008), ('y', 0.0069943178), ('z', 0.00044793842)]\n"
     ]
    }
   ],
   "source": [
    "RNN_model = CharLSTM(alphabet_size=alphabet_size,\n",
    "                     hidden_dim=hidden_dim,\n",
    "                     batch_size=batch_size,\n",
    "                     dropout1=dropout1, dropout2=dropout2, dropout3=dropout3)\n",
    "if using_GPU:\n",
    "    RNN_model = RNN_model.cuda()\n",
    "state = torch.load(model_path)\n",
    "RNN_model.load_state_dict(state['model'])\n",
    "RNN_model.eval()\n",
    "hidden = RNN_model.init_hidden()\n",
    "start = [torch.Tensor(np.zeros((1, alphabet_size)))]\n",
    "start = torch.stack(start)\n",
    "# second = [torch.Tensor(np.zeros((1, alphabet_size)))]\n",
    "# second[0][0][1] = 1\n",
    "# second = torch.stack(second)\n",
    "with torch.no_grad():\n",
    "    start = Variable(start)\n",
    "    if using_GPU:\n",
    "        start = start.cuda()\n",
    "        second = second.cuda()\n",
    "        hidden = (hidden[0].cuda(), hidden[1].cuda())\n",
    "    output, hidden = RNN_model.forward2(start, hidden)\n",
    "predicted_char_probs = []\n",
    "for idx, prob in enumerate(list(output.cpu().numpy()[0][0])):\n",
    "    if idx != 0:\n",
    "        predicted_char_probs.append((int2char[idx], prob))\n",
    "print(predicted_char_probs)"
   ]
  },
  {
   "cell_type": "code",
   "execution_count": 65,
   "metadata": {},
   "outputs": [
    {
     "name": "stdout",
     "output_type": "stream",
     "text": [
      "char: a \tactual: 0.1136  \tpredicted: 0.1249 \tdifference: 0.01126\n",
      "char: b \tactual: 0.0458  \tpredicted: 0.0455 \tdifference: -0.00032\n",
      "char: c \tactual: 0.0483  \tpredicted: 0.0490 \tdifference: 0.00072\n",
      "char: d \tactual: 0.0306  \tpredicted: 0.0299 \tdifference: -0.00070\n",
      "char: e \tactual: 0.0244  \tpredicted: 0.0246 \tdifference: 0.00018\n",
      "char: f \tactual: 0.0417  \tpredicted: 0.0403 \tdifference: -0.00140\n",
      "char: g \tactual: 0.0171  \tpredicted: 0.0200 \tdifference: 0.00288\n",
      "char: h \tactual: 0.0538  \tpredicted: 0.0466 \tdifference: -0.00717\n",
      "char: i \tactual: 0.0671  \tpredicted: 0.0626 \tdifference: -0.00454\n",
      "char: j \tactual: 0.0072  \tpredicted: 0.0070 \tdifference: -0.00020\n",
      "char: k \tactual: 0.0051  \tpredicted: 0.0056 \tdifference: 0.00048\n",
      "char: l \tactual: 0.0241  \tpredicted: 0.0227 \tdifference: -0.00138\n",
      "char: m \tactual: 0.0397  \tpredicted: 0.0391 \tdifference: -0.00063\n",
      "char: n \tactual: 0.0218  \tpredicted: 0.0214 \tdifference: -0.00035\n",
      "char: o \tactual: 0.0707  \tpredicted: 0.0728 \tdifference: 0.00211\n",
      "char: p \tactual: 0.0391  \tpredicted: 0.0434 \tdifference: 0.00433\n",
      "char: q \tactual: 0.0019  \tpredicted: 0.0019 \tdifference: -0.00002\n",
      "char: r \tactual: 0.0263  \tpredicted: 0.0218 \tdifference: -0.00446\n",
      "char: s \tactual: 0.0749  \tpredicted: 0.0811 \tdifference: 0.00624\n",
      "char: t \tactual: 0.1595  \tpredicted: 0.1593 \tdifference: -0.00019\n",
      "char: u \tactual: 0.0116  \tpredicted: 0.0106 \tdifference: -0.00100\n",
      "char: v \tactual: 0.0067  \tpredicted: 0.0068 \tdifference: 0.00010\n",
      "char: w \tactual: 0.0604  \tpredicted: 0.0553 \tdifference: -0.00514\n",
      "char: x \tactual: 0.0000  \tpredicted: 0.0003 \tdifference: 0.00021\n",
      "char: y \tactual: 0.0085  \tpredicted: 0.0070 \tdifference: -0.00153\n",
      "char: z \tactual: 0.0002  \tpredicted: 0.0004 \tdifference: 0.00023\n"
     ]
    }
   ],
   "source": [
    "for actual, predicted in zip(char_probs, predicted_char_probs):\n",
    "    difference = predicted[1] - actual[1]\n",
    "    print('char: {} \\tactual: {:.4f}  \\tpredicted: {:.4f} \\tdifference: {:.5f}'.format(actual[0],\n",
    "                                                                                       actual[1],\n",
    "                                                                                       predicted[1],\n",
    "                                                                                       difference))"
   ]
  },
  {
   "cell_type": "code",
   "execution_count": null,
   "metadata": {},
   "outputs": [],
   "source": []
  }
 ],
 "metadata": {
  "kernelspec": {
   "display_name": "Python (other-env)",
   "language": "python",
   "name": "other-env"
  },
  "language_info": {
   "codemirror_mode": {
    "name": "ipython",
    "version": 3
   },
   "file_extension": ".py",
   "mimetype": "text/x-python",
   "name": "python",
   "nbconvert_exporter": "python",
   "pygments_lexer": "ipython3",
   "version": "3.7.1"
  }
 },
 "nbformat": 4,
 "nbformat_minor": 2
}
