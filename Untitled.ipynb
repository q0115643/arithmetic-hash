{
 "cells": [
  {
   "cell_type": "markdown",
   "metadata": {},
   "source": [
    "## Parsing from raw Brown Corpus"
   ]
  },
  {
   "cell_type": "code",
   "execution_count": 1,
   "metadata": {},
   "outputs": [],
   "source": [
    "brown_fp = './data/corpora/brown.txt'\n",
    "tokens_csv_fp = './data/tokens.csv'"
   ]
  },
  {
   "cell_type": "code",
   "execution_count": 2,
   "metadata": {},
   "outputs": [],
   "source": [
    "from collections import Counter\n",
    "from nltk.tokenize import word_tokenize\n",
    "from tqdm import tqdm_notebook\n",
    "from util import list_to_string, only_alphabets\n",
    "import csv\n",
    "import sys\n",
    "import logging\n",
    "logging.basicConfig(level=logging.DEBUG, format='%(asctime)s %(message)s', datefmt='%m-%d %H:%M', stream=sys.stdout)"
   ]
  },
  {
   "cell_type": "code",
   "execution_count": 3,
   "metadata": {},
   "outputs": [
    {
     "name": "stdout",
     "output_type": "stream",
     "text": [
      "01-14 15:25 Tokenizing Brown Corpus...\n"
     ]
    },
    {
     "data": {
      "application/vnd.jupyter.widget-view+json": {
       "model_id": "831d4e89301f4d9aa0f483fea476a180",
       "version_major": 2,
       "version_minor": 0
      },
      "text/plain": [
       "HBox(children=(IntProgress(value=0, max=51763), HTML(value='')))"
      ]
     },
     "metadata": {},
     "output_type": "display_data"
    },
    {
     "name": "stdout",
     "output_type": "stream",
     "text": [
      "\n"
     ]
    }
   ],
   "source": [
    "tokens = []\n",
    "logging.info('Tokenizing Brown Corpus...')\n",
    "with open(brown_fp, 'r') as brown:\n",
    "    brown = list(brown)\n",
    "    for line in tqdm_notebook(brown, total=len(brown)):\n",
    "        words = word_tokenize(only_alphabets(line))\n",
    "        tokens += words"
   ]
  },
  {
   "cell_type": "code",
   "execution_count": 4,
   "metadata": {},
   "outputs": [
    {
     "name": "stdout",
     "output_type": "stream",
     "text": [
      "01-14 15:25 Writing Token-Count info on new csv file...\n"
     ]
    },
    {
     "data": {
      "application/vnd.jupyter.widget-view+json": {
       "model_id": "bd2c80d32f584c03a3e14eb6a00fe0d5",
       "version_major": 2,
       "version_minor": 0
      },
      "text/plain": [
       "HBox(children=(IntProgress(value=0, max=41143), HTML(value='')))"
      ]
     },
     "metadata": {},
     "output_type": "display_data"
    },
    {
     "name": "stdout",
     "output_type": "stream",
     "text": [
      "\n"
     ]
    }
   ],
   "source": [
    "logging.info(\"Writing Token-Count info on new csv file...\")\n",
    "with open(tokens_csv_fp, 'w') as csvfile:\n",
    "    fieldnames = [\n",
    "        'token',\n",
    "        'count'\n",
    "    ]\n",
    "    writer = csv.DictWriter(\n",
    "        csvfile,\n",
    "        fieldnames=fieldnames,\n",
    "        quoting=csv.QUOTE_ALL)\n",
    "    writer.writeheader()\n",
    "    output = []\n",
    "    token_counter = sorted(Counter(tokens).items(), key=lambda pair: pair[1], reverse=True)\n",
    "    for tok, cnt in tqdm_notebook(token_counter):\n",
    "        output.append({'token': tok,\n",
    "                       'count': cnt})\n",
    "    writer.writerows(output)"
   ]
  },
  {
   "cell_type": "markdown",
   "metadata": {},
   "source": [
    "## Dataloader"
   ]
  },
  {
   "cell_type": "code",
   "execution_count": 5,
   "metadata": {},
   "outputs": [],
   "source": [
    "batch_size = 256"
   ]
  },
  {
   "cell_type": "code",
   "execution_count": 6,
   "metadata": {},
   "outputs": [
    {
     "name": "stdout",
     "output_type": "stream",
     "text": [
      "01-14 15:25 PyTorch version: 1.0.0\n",
      "01-14 15:25 GPU Detected: True\n"
     ]
    }
   ],
   "source": [
    "import torch\n",
    "from torch.utils.data import Dataset\n",
    "from torch.utils.data import DataLoader\n",
    "import torch.nn.functional as F\n",
    "from sklearn.model_selection import train_test_split\n",
    "import numpy as np\n",
    "from util import to_categorical\n",
    "logging.info(\"PyTorch version: {}\".format(torch.__version__))\n",
    "logging.info(\"GPU Detected: {}\".format(torch.cuda.is_available()))\n",
    "using_GPU = torch.cuda.is_available()"
   ]
  },
  {
   "cell_type": "code",
   "execution_count": 7,
   "metadata": {},
   "outputs": [
    {
     "name": "stdout",
     "output_type": "stream",
     "text": [
      "01-14 15:25 int2char\n",
      "{1: 'a', 2: 'b', 3: 'c', 4: 'd', 5: 'e', 6: 'f', 7: 'g', 8: 'h', 9: 'i', 10: 'j', 11: 'k', 12: 'l', 13: 'm', 14: 'n', 15: 'o', 16: 'p', 17: 'q', 18: 'r', 19: 's', 20: 't', 21: 'u', 22: 'v', 23: 'w', 24: 'x', 25: 'y', 26: 'z', 0: '<PAD>'}\n",
      "01-14 15:25 char2int\n",
      "{'a': 1, 'b': 2, 'c': 3, 'd': 4, 'e': 5, 'f': 6, 'g': 7, 'h': 8, 'i': 9, 'j': 10, 'k': 11, 'l': 12, 'm': 13, 'n': 14, 'o': 15, 'p': 16, 'q': 17, 'r': 18, 's': 19, 't': 20, 'u': 21, 'v': 22, 'w': 23, 'x': 24, 'y': 25, 'z': 26, '<PAD>': 0}\n"
     ]
    }
   ],
   "source": [
    "import string\n",
    "alphabets = list(string.ascii_lowercase)\n",
    "alphabet_size = len(alphabets) + 1\n",
    "int2char = dict(enumerate(alphabets, start=1))\n",
    "int2char[0] = '<PAD>'\n",
    "char2int = {char: index for index, char in int2char.items()}\n",
    "logging.info('int2char')\n",
    "print(int2char)\n",
    "logging.info('char2int')\n",
    "print(char2int)"
   ]
  },
  {
   "cell_type": "code",
   "execution_count": 8,
   "metadata": {},
   "outputs": [],
   "source": [
    "tokens = []\n",
    "with open(tokens_csv_fp) as f:\n",
    "    lines = csv.reader(f)\n",
    "    next(lines)\n",
    "    for line in lines:\n",
    "        tok = line[0]\n",
    "        cnt = int(line[1])\n",
    "        for i in range(cnt):\n",
    "            tokens.append(tok)\n",
    "tokens = [np.array([char2int[char] for char in token]) for token in tokens]"
   ]
  },
  {
   "cell_type": "code",
   "execution_count": 9,
   "metadata": {},
   "outputs": [
    {
     "name": "stdout",
     "output_type": "stream",
     "text": [
      "01-14 15:25 One-hot Encoding Tokens...\n"
     ]
    },
    {
     "data": {
      "application/vnd.jupyter.widget-view+json": {
       "model_id": "98ca912651a5406b84eedce10d4627bd",
       "version_major": 2,
       "version_minor": 0
      },
      "text/plain": [
       "HBox(children=(IntProgress(value=0, max=1023530), HTML(value='')))"
      ]
     },
     "metadata": {},
     "output_type": "display_data"
    },
    {
     "name": "stdout",
     "output_type": "stream",
     "text": [
      "\n"
     ]
    }
   ],
   "source": [
    "encoded_tokens = []\n",
    "logging.info('One-hot Encoding Tokens...')\n",
    "for token in tqdm_notebook(tokens):\n",
    "    encoded_tokens.append(to_categorical(token, alphabet_size))"
   ]
  },
  {
   "cell_type": "code",
   "execution_count": 10,
   "metadata": {},
   "outputs": [],
   "source": [
    "class CharDataset(Dataset):\n",
    "    def __init__(self, tokens):\n",
    "        self.tokens = tokens\n",
    "\n",
    "    def __getitem__(self, idx):\n",
    "        example_token = self.tokens[idx]\n",
    "        # Truncate the sequence if necessary\n",
    "        example_length = example_token.shape[0]\n",
    "        return example_token, example_length\n",
    "\n",
    "    def __len__(self):\n",
    "        return len(self.tokens)\n",
    "\n",
    "    @staticmethod\n",
    "    def collate_fn(batch):\n",
    "        batch_inputs = []\n",
    "        batch_padded_example_text = []\n",
    "        batch_lengths = []\n",
    "        batch_targets = []\n",
    "\n",
    "        # Get the length of the longest sequence in the batch\n",
    "        max_length = -1\n",
    "        for token, __ in batch:\n",
    "            if len(token) > max_length:\n",
    "                max_length = len(token)\n",
    "\n",
    "        # Iterate over each example in the batch\n",
    "        for token, length in batch:\n",
    "            amount_to_pad = max_length - length\n",
    "            # Tensor of shape (amount_to_pad,), converted to LongTensor\n",
    "            pad_tensor = torch.zeros(amount_to_pad, token.shape[1])\n",
    "            batch_targets.append([np.where(x == 1)[0][0] for x in np.array(token[1:])] + [0] * amount_to_pad)\n",
    "            token = torch.Tensor(token)\n",
    "            padded_example_text = torch.cat((token, pad_tensor), dim=0)\n",
    "            # Add the padded example to our batch\n",
    "            batch_lengths.append(length-1)\n",
    "            batch_inputs.append(padded_example_text.narrow(0, 0, max_length-1))\n",
    "\n",
    "        # Stack the list of LongTensors into a single LongTensor\n",
    "        return (torch.stack(batch_inputs),\n",
    "                torch.LongTensor(batch_targets),\n",
    "                torch.LongTensor(batch_lengths))"
   ]
  },
  {
   "cell_type": "code",
   "execution_count": 11,
   "metadata": {},
   "outputs": [],
   "source": [
    "train_tokens, val_test_tokens = train_test_split(encoded_tokens, test_size=0.05)\n",
    "val_tokens, test_tokens = train_test_split(val_test_tokens, test_size=0.5)\n",
    "training_dataset = CharDataset(train_tokens)\n",
    "val_dataset = CharDataset(val_tokens)\n",
    "test_dataset = CharDataset(test_tokens)"
   ]
  },
  {
   "cell_type": "code",
   "execution_count": 12,
   "metadata": {},
   "outputs": [],
   "source": [
    "train_dataloader = DataLoader(dataset=training_dataset,\n",
    "                              batch_size=batch_size,\n",
    "                              shuffle=True,\n",
    "                              collate_fn=CharDataset.collate_fn)\n",
    "val_dataloader = DataLoader(dataset=val_dataset,\n",
    "                            batch_size=batch_size,\n",
    "                            shuffle=False,\n",
    "                            collate_fn=CharDataset.collate_fn)\n",
    "test_dataloader = DataLoader(dataset=test_dataset,\n",
    "                             batch_size=batch_size,\n",
    "                             shuffle=False,\n",
    "                             collate_fn=CharDataset.collate_fn)"
   ]
  },
  {
   "cell_type": "markdown",
   "metadata": {},
   "source": [
    "## Define Model"
   ]
  },
  {
   "cell_type": "code",
   "execution_count": 13,
   "metadata": {},
   "outputs": [],
   "source": [
    "import torch.nn as nn\n",
    "from allennlp.nn.util import sort_batch_by_length\n",
    "from torch.nn.utils.rnn import pack_padded_sequence, pad_packed_sequence\n",
    "hidden_dim = 64\n",
    "dropout1 = 0.2\n",
    "dropout2 = 0\n",
    "dropout3 = 0.2\n",
    "lr = 0.5"
   ]
  },
  {
   "cell_type": "code",
   "execution_count": 14,
   "metadata": {},
   "outputs": [],
   "source": [
    "class CharLSTM(nn.ModuleList):\n",
    "    def __init__(self, alphabet_size, hidden_dim, batch_size, dropout1=0.2, dropout2=0, dropout3=0.2):\n",
    "        super(CharLSTM, self).__init__()\n",
    "        self.hidden_dim = hidden_dim\n",
    "        self.batch_size = batch_size\n",
    "        self.alphabet_size = alphabet_size\n",
    "        self.dropout_to_LSTM = nn.Dropout(dropout1)\n",
    "        self.rnn = nn.LSTM(input_size=alphabet_size, hidden_size=hidden_dim,\n",
    "                           num_layers=1, dropout=dropout2, batch_first=True, bidirectional=False)\n",
    "        self.dropout_to_linear_layer = nn.Dropout(dropout3)\n",
    "        self.fc = nn.Linear(in_features=hidden_dim, out_features=alphabet_size)\n",
    "        \n",
    "    def forward(self, inputs, lengths):\n",
    "        total_length = inputs.size(1)\n",
    "        embedded_input = self.dropout_to_LSTM(inputs)\n",
    "        (sorted_input, sorted_lengths, input_unsort_indices, _) = sort_batch_by_length(embedded_input, lengths)\n",
    "        packed_input = pack_padded_sequence(sorted_input, sorted_lengths.data.tolist(), batch_first=True)\n",
    "        self.rnn.flatten_parameters()\n",
    "        packed_sorted_output, hidden = self.rnn(packed_input)\n",
    "        sorted_output, _ = pad_packed_sequence(packed_sorted_output, batch_first=True, total_length=total_length)\n",
    "        output = sorted_output[input_unsort_indices]\n",
    "        output = self.fc(output)\n",
    "        output = F.log_softmax(output, dim=2)\n",
    "        return output\n",
    "    \n",
    "    def forward2(self, inputs, hidden):\n",
    "        output, hidden = self.rnn(inputs, hidden) #(batch, seq_len, input_size) -> (1, 1, input_size)\n",
    "        output = self.fc(output)\n",
    "        output = F.softmax(output, dim=2)\n",
    "        return output, hidden\n",
    "    \n",
    "    def init_hidden(self):\n",
    "        return (Variable(torch.zeros(1, 1, self.hidden_dim)),\n",
    "                Variable(torch.zeros(1, 1, self.hidden_dim)))"
   ]
  },
  {
   "cell_type": "code",
   "execution_count": 15,
   "metadata": {},
   "outputs": [],
   "source": [
    "RNN_model = CharLSTM(alphabet_size=alphabet_size,\n",
    "                     hidden_dim=hidden_dim,\n",
    "                     batch_size=batch_size,\n",
    "                     dropout1=dropout1, dropout2=dropout2, dropout3=dropout3)\n",
    "if using_GPU:\n",
    "    RNN_model = RNN_model.cuda()\n",
    "loss_criterion = nn.NLLLoss(reduction='mean')\n",
    "optimizer = torch.optim.Adam(RNN_model.parameters(), lr=lr)\n",
    "#optimizer = torch.optim.SGD(RNN_model.parameters(), lr=lr, momentum=0.9, nesterov=True, weight_decay=1e-5)"
   ]
  },
  {
   "cell_type": "markdown",
   "metadata": {},
   "source": [
    "## Train Model"
   ]
  },
  {
   "cell_type": "code",
   "execution_count": 16,
   "metadata": {},
   "outputs": [],
   "source": [
    "from torch.autograd import Variable\n",
    "model_path = './data/checkpoint/rnn.pkl'"
   ]
  },
  {
   "cell_type": "code",
   "execution_count": 17,
   "metadata": {},
   "outputs": [
    {
     "name": "stdout",
     "output_type": "stream",
     "text": [
      "01-14 15:25 ******************************\n",
      "01-14 15:25 Epoch 0. Learning Rate 0.5\n",
      "01-14 15:25 ******************************\n",
      "01-14 15:26 Iteration 400. Training Loss 0.7688.\n",
      "01-14 15:26 Validation Loss 0.8281. Validataion Accuracy 0.75.\n",
      "01-14 15:26 New Best Validation Loss 9999999.0000 -> 0.8281\n",
      "01-14 15:26 Iteration 800. Training Loss 0.8117.\n",
      "01-14 15:26 Validation Loss 0.8172. Validataion Accuracy 0.75.\n",
      "01-14 15:26 New Best Validation Loss 0.8281 -> 0.8172\n",
      "01-14 15:26 Iteration 1200. Training Loss 0.7884.\n",
      "01-14 15:26 Validation Loss 0.8187. Validataion Accuracy 0.75.\n",
      "01-14 15:26 Learning Rate Decay 0.5 -> 0.25\n",
      "01-14 15:26 Iteration 1600. Training Loss 0.7946.\n",
      "01-14 15:26 Validation Loss 0.7989. Validataion Accuracy 0.76.\n",
      "01-14 15:26 New Best Validation Loss 0.8172 -> 0.7989\n",
      "01-14 15:26 Iteration 2000. Training Loss 0.7790.\n",
      "01-14 15:26 Validation Loss 0.8001. Validataion Accuracy 0.75.\n",
      "01-14 15:26 Learning Rate Decay 0.25 -> 0.125\n",
      "01-14 15:26 Iteration 2400. Training Loss 0.8909.\n",
      "01-14 15:26 Validation Loss 0.7893. Validataion Accuracy 0.76.\n",
      "01-14 15:26 New Best Validation Loss 0.7989 -> 0.7893\n",
      "01-14 15:27 Iteration 2800. Training Loss 0.8197.\n",
      "01-14 15:27 Validation Loss 0.7882. Validataion Accuracy 0.76.\n",
      "01-14 15:27 New Best Validation Loss 0.7893 -> 0.7882\n",
      "01-14 15:27 Iteration 3200. Training Loss 0.8739.\n",
      "01-14 15:27 Validation Loss 0.7856. Validataion Accuracy 0.76.\n",
      "01-14 15:27 New Best Validation Loss 0.7882 -> 0.7856\n",
      "01-14 15:27 Iteration 3600. Training Loss 0.7984.\n",
      "01-14 15:27 Validation Loss 0.7812. Validataion Accuracy 0.76.\n",
      "01-14 15:27 New Best Validation Loss 0.7856 -> 0.7812\n",
      "01-14 15:27 ******************************\n",
      "01-14 15:27 Epoch 1. Learning Rate 0.125\n",
      "01-14 15:27 ******************************\n",
      "01-14 15:27 Iteration 4000. Training Loss 0.9137.\n",
      "01-14 15:27 Validation Loss 0.7811. Validataion Accuracy 0.76.\n",
      "01-14 15:27 New Best Validation Loss 0.7812 -> 0.7811\n",
      "01-14 15:27 Iteration 4400. Training Loss 0.7106.\n",
      "01-14 15:27 Validation Loss 0.7762. Validataion Accuracy 0.76.\n",
      "01-14 15:27 New Best Validation Loss 0.7811 -> 0.7762\n",
      "01-14 15:27 Iteration 4800. Training Loss 0.8375.\n",
      "01-14 15:27 Validation Loss 0.7719. Validataion Accuracy 0.76.\n",
      "01-14 15:27 New Best Validation Loss 0.7762 -> 0.7719\n",
      "01-14 15:28 Iteration 5200. Training Loss 0.5839.\n",
      "01-14 15:28 Validation Loss 0.7797. Validataion Accuracy 0.76.\n",
      "01-14 15:28 Iteration 5600. Training Loss 0.7943.\n",
      "01-14 15:28 Validation Loss 0.7747. Validataion Accuracy 0.76.\n",
      "01-14 15:28 Learning Rate Decay 0.125 -> 0.0625\n",
      "01-14 15:28 Iteration 6000. Training Loss 0.7432.\n",
      "01-14 15:28 Validation Loss 0.7678. Validataion Accuracy 0.76.\n",
      "01-14 15:28 New Best Validation Loss 0.7719 -> 0.7678\n",
      "01-14 15:28 Iteration 6400. Training Loss 0.8331.\n",
      "01-14 15:28 Validation Loss 0.7660. Validataion Accuracy 0.76.\n",
      "01-14 15:28 New Best Validation Loss 0.7678 -> 0.7660\n",
      "01-14 15:28 Iteration 6800. Training Loss 0.7084.\n",
      "01-14 15:28 Validation Loss 0.7688. Validataion Accuracy 0.76.\n",
      "01-14 15:28 Learning Rate Decay 0.0625 -> 0.03125\n",
      "01-14 15:28 Iteration 7200. Training Loss 0.8591.\n",
      "01-14 15:28 Validation Loss 0.7625. Validataion Accuracy 0.76.\n",
      "01-14 15:28 New Best Validation Loss 0.7660 -> 0.7625\n",
      "01-14 15:29 ******************************\n",
      "01-14 15:29 Epoch 2. Learning Rate 0.03125\n",
      "01-14 15:29 ******************************\n",
      "01-14 15:29 Iteration 7600. Training Loss 0.7455.\n",
      "01-14 15:29 Validation Loss 0.7612. Validataion Accuracy 0.76.\n",
      "01-14 15:29 New Best Validation Loss 0.7625 -> 0.7612\n",
      "01-14 15:29 Iteration 8000. Training Loss 0.7989.\n",
      "01-14 15:29 Validation Loss 0.7622. Validataion Accuracy 0.76.\n",
      "01-14 15:29 Learning Rate Decay 0.03125 -> 0.015625\n",
      "01-14 15:29 Iteration 8400. Training Loss 0.9664.\n",
      "01-14 15:29 Validation Loss 0.7616. Validataion Accuracy 0.76.\n",
      "01-14 15:29 Learning Rate Decay 0.015625 -> 0.0078125\n",
      "01-14 15:29 Iteration 8800. Training Loss 0.8636.\n",
      "01-14 15:29 Validation Loss 0.7607. Validataion Accuracy 0.76.\n",
      "01-14 15:29 New Best Validation Loss 0.7612 -> 0.7607\n",
      "01-14 15:29 Iteration 9200. Training Loss 0.7749.\n",
      "01-14 15:29 Validation Loss 0.7615. Validataion Accuracy 0.76.\n",
      "01-14 15:29 Learning Rate Decay 0.0078125 -> 0.00390625\n",
      "01-14 15:29 Iteration 9600. Training Loss 0.8254.\n",
      "01-14 15:29 Validation Loss 0.7608. Validataion Accuracy 0.77.\n",
      "01-14 15:29 Learning Rate Decay 0.00390625 -> 0.001953125\n",
      "01-14 15:30 Iteration 10000. Training Loss 0.7199.\n",
      "01-14 15:30 Validation Loss 0.7613. Validataion Accuracy 0.76.\n",
      "01-14 15:30 Learning Rate Decay 0.001953125 -> 0.0009765625\n",
      "01-14 15:30 Iteration 10400. Training Loss 0.6645.\n",
      "01-14 15:30 Validation Loss 0.7615. Validataion Accuracy 0.76.\n",
      "01-14 15:30 Learning Rate Decay 0.0009765625 -> 0.00048828125\n",
      "01-14 15:30 Iteration 10800. Training Loss 0.7688.\n",
      "01-14 15:30 Validation Loss 0.7618. Validataion Accuracy 0.76.\n",
      "01-14 15:30 Learning Rate Decay 0.00048828125 -> 0.000244140625\n",
      "01-14 15:30 Iteration 11200. Training Loss 0.7614.\n",
      "01-14 15:30 Validation Loss 0.7614. Validataion Accuracy 0.76.\n",
      "01-14 15:30 Learning Rate Decay 0.000244140625 -> 0.0001220703125\n",
      "01-14 15:30 ******************************\n",
      "01-14 15:30 Epoch 3. Learning Rate 0.0001220703125\n",
      "01-14 15:30 ******************************\n",
      "01-14 15:30 Iteration 11600. Training Loss 0.8119.\n",
      "01-14 15:30 Validation Loss 0.7614. Validataion Accuracy 0.76.\n",
      "01-14 15:30 Learning Rate Decay 0.0001220703125 -> 6.103515625e-05\n",
      "01-14 15:30 Iteration 12000. Training Loss 0.8418.\n",
      "01-14 15:30 Validation Loss 0.7615. Validataion Accuracy 0.76.\n",
      "01-14 15:30 Learning Rate Decay 6.103515625e-05 -> 3.0517578125e-05\n",
      "01-14 15:31 Iteration 12400. Training Loss 0.8558.\n",
      "01-14 15:31 Validation Loss 0.7614. Validataion Accuracy 0.76.\n",
      "01-14 15:31 Learning Rate Decay 3.0517578125e-05 -> 1.52587890625e-05\n",
      "01-14 15:31 Iteration 12800. Training Loss 0.6287.\n",
      "01-14 15:31 Validation Loss 0.7614. Validataion Accuracy 0.76.\n",
      "01-14 15:31 Learning Rate Decay 1.52587890625e-05 -> 7.62939453125e-06\n",
      "01-14 15:31 Iteration 13200. Training Loss 0.6123.\n",
      "01-14 15:31 Validation Loss 0.7614. Validataion Accuracy 0.76.\n",
      "01-14 15:31 Learning Rate Decay 7.62939453125e-06 -> 3.814697265625e-06\n",
      "01-14 15:31 Iteration 13600. Training Loss 0.6950.\n",
      "01-14 15:31 Validation Loss 0.7614. Validataion Accuracy 0.76.\n",
      "01-14 15:31 Learning Rate Decay 3.814697265625e-06 -> 1.9073486328125e-06\n",
      "01-14 15:31 Iteration 14000. Training Loss 0.7514.\n",
      "01-14 15:31 Validation Loss 0.7614. Validataion Accuracy 0.76.\n",
      "01-14 15:31 Learning Rate Decay 1.9073486328125e-06 -> 9.5367431640625e-07\n",
      "01-14 15:31 Iteration 14400. Training Loss 0.7625.\n",
      "01-14 15:31 Validation Loss 0.7614. Validataion Accuracy 0.76.\n",
      "01-14 15:31 Learning Rate Decay 9.5367431640625e-07 -> 4.76837158203125e-07\n",
      "01-14 15:32 Iteration 14800. Training Loss 0.7159.\n",
      "01-14 15:32 Validation Loss 0.7614. Validataion Accuracy 0.76.\n",
      "01-14 15:32 Learning Rate Decay 4.76837158203125e-07 -> 2.384185791015625e-07\n",
      "01-14 15:32 ******************************\n",
      "01-14 15:32 Epoch 4. Learning Rate 2.384185791015625e-07\n",
      "01-14 15:32 ******************************\n",
      "01-14 15:32 Iteration 15200. Training Loss 0.8000.\n",
      "01-14 15:32 Validation Loss 0.7614. Validataion Accuracy 0.76.\n",
      "01-14 15:32 Learning Rate Decay 2.384185791015625e-07 -> 1.1920928955078125e-07\n",
      "01-14 15:32 Iteration 15600. Training Loss 0.5897.\n",
      "01-14 15:32 Validation Loss 0.7614. Validataion Accuracy 0.76.\n",
      "01-14 15:32 Learning Rate Decay 1.1920928955078125e-07 -> 5.960464477539063e-08\n",
      "01-14 15:32 Iteration 16000. Training Loss 0.8001.\n",
      "01-14 15:32 Validation Loss 0.7614. Validataion Accuracy 0.76.\n",
      "01-14 15:32 Learning Rate Decay 5.960464477539063e-08 -> 2.9802322387695312e-08\n",
      "01-14 15:32 Iteration 16400. Training Loss 0.8044.\n",
      "01-14 15:32 Validation Loss 0.7614. Validataion Accuracy 0.76.\n",
      "01-14 15:32 Learning Rate Decay 2.9802322387695312e-08 -> 1.4901161193847656e-08\n",
      "01-14 15:32 Iteration 16800. Training Loss 0.7661.\n",
      "01-14 15:32 Validation Loss 0.7614. Validataion Accuracy 0.76.\n",
      "01-14 15:32 Learning Rate Decay 1.4901161193847656e-08 -> 7.450580596923828e-09\n",
      "01-14 15:33 Iteration 17200. Training Loss 0.8185.\n",
      "01-14 15:33 Validation Loss 0.7614. Validataion Accuracy 0.76.\n",
      "01-14 15:33 Learning Rate Decay 7.450580596923828e-09 -> 3.725290298461914e-09\n",
      "01-14 15:33 Stop By KeyboardInterrupt...\n"
     ]
    }
   ],
   "source": [
    "num_iter = 0\n",
    "min_val_loss = 9999999\n",
    "min_train_loss = 9999999\n",
    "train_loss_record = []\n",
    "eval_loss_record = []\n",
    "RNN_model.train()\n",
    "try:\n",
    "    for epoch in range(30):\n",
    "        logging.info(\"*\" * 30)\n",
    "        logging.info('Epoch {}. Learning Rate {}'.format(epoch, lr))\n",
    "        logging.info(\"*\" * 30)\n",
    "        for (inputs, targets, lengths) in train_dataloader:\n",
    "            inputs = Variable(inputs) # shape(batch_size, longest_length, alphabet_num) (ex. 128, 13, 28)\n",
    "            lengths = Variable(lengths)\n",
    "            targets = Variable(targets)\n",
    "            if using_GPU:\n",
    "                inputs = inputs.cuda() # [128, maxlen, 26]\n",
    "                lengths = lengths.cuda()\n",
    "                targets = targets.cuda()\n",
    "            output = RNN_model(inputs, lengths) # [batch_size, maxlen, hidden_dim]\n",
    "            batch_loss = loss_criterion(output.view(-1, alphabet_size), targets.view(-1))\n",
    "            optimizer.zero_grad()\n",
    "            batch_loss.backward()\n",
    "            optimizer.step()\n",
    "            train_loss_record.append(batch_loss.item())\n",
    "            num_iter += 1\n",
    "            if num_iter % 400 == 0:\n",
    "                RNN_model.eval()\n",
    "                total_eval_loss = 0\n",
    "                corrects = 0\n",
    "                total_len = 0\n",
    "                for (v_inputs, v_targets, v_lengths) in val_dataloader:\n",
    "                    with torch.no_grad():\n",
    "                        v_inputs = Variable(v_inputs) # shape(batch_size, longest_length, alphabet_num) (ex. 128, 13, 28)\n",
    "                        v_targets = Variable(v_targets)\n",
    "                        v_lengths = Variable(v_lengths)\n",
    "                        if using_GPU:\n",
    "                            v_inputs = v_inputs.cuda() # [128, maxlen, 26]\n",
    "                            v_targets = v_targets.cuda()\n",
    "                            v_lengths = v_lengths.cuda()\n",
    "                        predicted = RNN_model(v_inputs, v_lengths)\n",
    "                        total_eval_loss += loss_criterion(predicted.view(-1, alphabet_size), v_targets.view(-1)).item()\n",
    "                        total_len += predicted.view(-1, alphabet_size).shape[0]\n",
    "                        corrects += (torch.max(predicted.view(-1, alphabet_size), 1)[1].data == v_targets.view(-1).data).sum()\n",
    "                avg_eval_loss = total_eval_loss / test_dataloader.__len__()\n",
    "                accuracy = float(corrects) / float(total_len)\n",
    "                logging.info(\"Iteration {}. Training Loss {:.4f}.\".format(num_iter, batch_loss))\n",
    "                logging.info(\"Validation Loss {:.4f}. Validataion Accuracy {:.2f}.\".format(avg_eval_loss, accuracy))\n",
    "                if min_val_loss > avg_eval_loss:\n",
    "                    logging.info(\"New Best Validation Loss {:.4f} -> {:.4f}\".format(min_val_loss, avg_eval_loss))\n",
    "                    min_val_loss = avg_eval_loss\n",
    "                    torch.save({'model': RNN_model.state_dict(),\n",
    "                                'optimizer': optimizer.state_dict(),\n",
    "                                'train_loss_record': train_loss_record,\n",
    "                                'eval_loss_record': eval_loss_record\n",
    "                               }, model_path)\n",
    "                elif min_train_loss < batch_loss:\n",
    "                    new_lr = lr/2\n",
    "                    logging.info(\"Learning Rate Decay {} -> {}\".format(lr, new_lr))\n",
    "                    lr = new_lr\n",
    "                    for param_group in optimizer.param_groups:\n",
    "                        param_group['lr'] = lr\n",
    "                if min_train_loss > batch_loss:\n",
    "                    min_train_loss = batch_loss\n",
    "                eval_loss_record.append(avg_eval_loss)\n",
    "                RNN_model.train()\n",
    "except KeyboardInterrupt:\n",
    "    logging.info(\"Stop By KeyboardInterrupt...\")"
   ]
  },
  {
   "cell_type": "code",
   "execution_count": 18,
   "metadata": {},
   "outputs": [
    {
     "name": "stdout",
     "output_type": "stream",
     "text": [
      "01-14 15:33 $HOME=/home/labry\n",
      "01-14 15:33 CONFIGDIR=/home/labry/.config/matplotlib\n",
      "01-14 15:33 matplotlib data path: /home/labry/miniconda3/envs/nlp/lib/python3.7/site-packages/matplotlib/mpl-data\n",
      "01-14 15:33 loaded rc file /home/labry/miniconda3/envs/nlp/lib/python3.7/site-packages/matplotlib/mpl-data/matplotlibrc\n",
      "01-14 15:33 matplotlib version 3.0.2\n",
      "01-14 15:33 interactive is False\n",
      "01-14 15:33 platform is linux\n",
      "01-14 15:33 loaded modules: ['sys', 'builtins', '_frozen_importlib', '_imp', '_thread', '_warnings', '_weakref', 'zipimport', '_frozen_importlib_external', '_io', 'marshal', 'posix', 'encodings', 'codecs', '_codecs', 'encodings.aliases', 'encodings.utf_8', '_signal', '__main__', 'encodings.latin_1', 'io', 'abc', '_abc', '_bootlocale', '_locale', 'site', 'os', 'stat', '_stat', 'posixpath', 'genericpath', 'os.path', '_collections_abc', '_sitebuiltins', 'types', 'importlib', 'importlib._bootstrap', 'importlib._bootstrap_external', 'warnings', 'importlib.util', 'importlib.abc', 'importlib.machinery', 'contextlib', 'collections', 'operator', '_operator', 'keyword', 'heapq', '_heapq', 'itertools', 'reprlib', '_collections', 'functools', '_functools', 'mpl_toolkits', 'google', 'sphinxcontrib', 'runpy', 'pkgutil', 'weakref', '_weakrefset', 'ipykernel', 'ipykernel._version', 'ipykernel.connect', '__future__', 'json', 'json.decoder', 're', 'enum', 'sre_compile', '_sre', 'sre_parse', 'sre_constants', 'copyreg', 'json.scanner', '_json', 'json.encoder', 'subprocess', 'time', 'signal', 'errno', '_posixsubprocess', 'select', 'selectors', 'collections.abc', 'math', 'threading', 'traceback', 'linecache', 'tokenize', 'token', 'IPython', 'IPython.core', 'IPython.core.getipython', 'IPython.core.release', 'IPython.core.application', 'atexit', 'copy', 'glob', 'fnmatch', 'logging', 'string', '_string', 'shutil', 'zlib', 'bz2', '_compression', '_bz2', 'lzma', '_lzma', 'pwd', 'grp', 'traitlets', 'traitlets.traitlets', 'inspect', 'dis', 'opcode', '_opcode', 'six', 'struct', '_struct', 'traitlets.utils', 'traitlets.utils.getargspec', 'traitlets.utils.importstring', 'ipython_genutils', 'ipython_genutils._version', 'ipython_genutils.py3compat', 'ipython_genutils.encoding', 'locale', 'platform', 'traitlets.utils.sentinel', 'traitlets.utils.bunch', 'traitlets._version', 'traitlets.config', 'traitlets.config.application', 'decorator', 'traitlets.config.configurable', 'traitlets.config.loader', 'argparse', 'gettext', 'ast', '_ast', 'ipython_genutils.path', 'random', 'hashlib', '_hashlib', '_blake2', '_sha3', 'bisect', '_bisect', '_random', 'ipython_genutils.text', 'textwrap', 'ipython_genutils.importstring', 'IPython.core.crashhandler', 'pprint', 'IPython.core.ultratb', 'pydoc', 'urllib', 'urllib.parse', 'IPython.core.debugger', 'bdb', 'IPython.utils', 'IPython.utils.PyColorize', 'IPython.utils.coloransi', 'IPython.utils.ipstruct', 'IPython.utils.colorable', 'pygments', 'pygments.util', 'IPython.utils.py3compat', 'IPython.utils.encoding', 'IPython.core.excolors', 'IPython.testing', 'IPython.testing.skipdoctest', 'pdb', 'cmd', 'code', 'codeop', 'IPython.core.display_trap', 'IPython.utils.path', 'IPython.utils.process', 'IPython.utils._process_posix', 'pexpect', 'pexpect.exceptions', 'pexpect.utils', 'pexpect.expect', 'pexpect.pty_spawn', 'pty', 'tty', 'termios', 'ptyprocess', 'ptyprocess.ptyprocess', 'fcntl', 'resource', 'ptyprocess.util', 'pexpect.spawnbase', 'pexpect.run', 'IPython.utils._process_common', 'shlex', 'IPython.utils.decorators', 'IPython.utils.data', 'IPython.utils.terminal', 'IPython.utils.sysinfo', 'IPython.utils._sysinfo', 'IPython.core.profiledir', 'IPython.paths', 'tempfile', 'IPython.utils.importstring', 'IPython.terminal', 'IPython.terminal.embed', 'IPython.core.compilerop', 'IPython.core.magic_arguments', 'IPython.core.error', 'IPython.utils.text', 'pathlib', 'ntpath', 'IPython.core.magic', 'getopt', 'IPython.core.oinspect', 'IPython.core.page', 'IPython.core.display', 'binascii', 'mimetypes', 'IPython.lib', 'IPython.lib.security', 'getpass', 'IPython.lib.pretty', 'datetime', '_datetime', 'IPython.utils.openpy', 'IPython.utils.dir2', 'IPython.utils.wildcard', 'pygments.lexers', 'pygments.lexers._mapping', 'pygments.modeline', 'pygments.plugin', 'pygments.lexers.python', 'pygments.lexer', 'pygments.filter', 'pygments.filters', 'pygments.token', 'pygments.regexopt', 'pygments.unistring', 'pygments.formatters', 'pygments.formatters._mapping', 'pygments.formatters.html', 'pygments.formatter', 'pygments.styles', 'IPython.core.inputtransformer2', 'typing', 'typing.io', 'typing.re', 'IPython.core.interactiveshell', 'asyncio', 'asyncio.base_events', 'concurrent', 'concurrent.futures', 'concurrent.futures._base', 'socket', '_socket', 'ssl', '_ssl', 'base64', 'asyncio.constants', 'asyncio.coroutines', 'asyncio.base_futures', 'asyncio.format_helpers', 'asyncio.log', 'asyncio.events', 'contextvars', '_contextvars', 'asyncio.base_tasks', '_asyncio', 'asyncio.futures', 'asyncio.protocols', 'asyncio.sslproto', 'asyncio.transports', 'asyncio.tasks', 'asyncio.locks', 'asyncio.runners', 'asyncio.queues', 'asyncio.streams', 'asyncio.subprocess', 'asyncio.unix_events', 'asyncio.base_subprocess', 'asyncio.selector_events', 'pickleshare', 'pickle', '_compat_pickle', '_pickle', 'IPython.core.prefilter', 'IPython.core.autocall', 'IPython.core.macro', 'IPython.core.splitinput', 'IPython.core.alias', 'IPython.core.builtin_trap', 'IPython.core.events', 'backcall', 'backcall.backcall', 'IPython.core.displayhook', 'IPython.core.displaypub', 'IPython.core.extensions', 'IPython.core.formatters', 'IPython.utils.sentinel', 'IPython.core.history', 'sqlite3', 'sqlite3.dbapi2', '_sqlite3', 'IPython.core.logger', 'IPython.core.payload', 'IPython.core.usage', 'IPython.display', 'IPython.lib.display', 'html', 'html.entities', 'IPython.utils.io', 'IPython.utils.capture', 'IPython.utils.strdispatch', 'IPython.core.hooks', 'IPython.utils.syspathcontext', 'IPython.utils.tempdir', 'IPython.utils.contexts', 'IPython.core.async_helpers', 'IPython.terminal.interactiveshell', 'prompt_toolkit', 'prompt_toolkit.application', 'prompt_toolkit.application.application', 'prompt_toolkit.buffer', 'prompt_toolkit.application.current', 'prompt_toolkit.eventloop', 'prompt_toolkit.eventloop.base', 'prompt_toolkit.log', 'prompt_toolkit.eventloop.coroutine', 'prompt_toolkit.eventloop.defaults', 'prompt_toolkit.utils', 'six.moves', 'wcwidth', 'wcwidth.wcwidth', 'wcwidth.table_wide', 'wcwidth.table_zero', 'prompt_toolkit.cache', 'prompt_toolkit.eventloop.future', 'prompt_toolkit.eventloop.context', 'prompt_toolkit.eventloop.async_generator', 'queue', '_queue', 'six.moves.queue', 'prompt_toolkit.eventloop.event', 'prompt_toolkit.application.run_in_terminal', 'prompt_toolkit.auto_suggest', 'prompt_toolkit.filters', 'prompt_toolkit.filters.base', 'prompt_toolkit.filters.app', 'prompt_toolkit.enums', 'prompt_toolkit.filters.utils', 'prompt_toolkit.filters.cli', 'prompt_toolkit.clipboard', 'prompt_toolkit.clipboard.base', 'prompt_toolkit.selection', 'prompt_toolkit.clipboard.in_memory', 'prompt_toolkit.completion', 'prompt_toolkit.completion.base', 'prompt_toolkit.completion.filesystem', 'prompt_toolkit.completion.word_completer', 'prompt_toolkit.document', 'prompt_toolkit.history', 'prompt_toolkit.search', 'prompt_toolkit.key_binding', 'prompt_toolkit.key_binding.key_bindings', 'prompt_toolkit.keys', 'prompt_toolkit.key_binding.vi_state', 'prompt_toolkit.validation', 'prompt_toolkit.input', 'prompt_toolkit.input.base', 'prompt_toolkit.input.defaults', 'prompt_toolkit.input.typeahead', 'prompt_toolkit.key_binding.bindings', 'prompt_toolkit.key_binding.bindings.page_navigation', 'prompt_toolkit.key_binding.bindings.scroll', 'prompt_toolkit.key_binding.defaults', 'prompt_toolkit.key_binding.bindings.basic', 'prompt_toolkit.key_binding.key_processor', 'prompt_toolkit.key_binding.bindings.named_commands', 'prompt_toolkit.key_binding.bindings.completion', 'prompt_toolkit.key_binding.bindings.emacs', 'prompt_toolkit.key_binding.bindings.vi', 'prompt_toolkit.input.vt100_parser', 'prompt_toolkit.input.ansi_escape_sequences', 'prompt_toolkit.key_binding.digraphs', 'prompt_toolkit.key_binding.bindings.mouse', 'prompt_toolkit.layout', 'prompt_toolkit.layout.containers', 'prompt_toolkit.layout.controls', 'prompt_toolkit.formatted_text', 'prompt_toolkit.formatted_text.base', 'prompt_toolkit.formatted_text.html', 'xml', 'xml.dom', 'xml.dom.domreg', 'xml.dom.minidom', 'xml.dom.minicompat', 'xml.dom.xmlbuilder', 'xml.dom.NodeFilter', 'prompt_toolkit.formatted_text.ansi', 'prompt_toolkit.output', 'prompt_toolkit.output.base', 'prompt_toolkit.layout.screen', 'prompt_toolkit.output.defaults', 'prompt_toolkit.output.color_depth', 'prompt_toolkit.output.vt100', 'prompt_toolkit.styles', 'prompt_toolkit.styles.base', 'prompt_toolkit.styles.defaults', 'prompt_toolkit.styles.style', 'prompt_toolkit.styles.named_colors', 'prompt_toolkit.styles.pygments', 'prompt_toolkit.styles.style_transformation', 'colorsys', 'array', 'prompt_toolkit.formatted_text.pygments', 'prompt_toolkit.formatted_text.utils', 'prompt_toolkit.lexers', 'prompt_toolkit.lexers.base', 'prompt_toolkit.lexers.pygments', 'prompt_toolkit.mouse_events', 'prompt_toolkit.layout.processors', 'prompt_toolkit.layout.utils', 'prompt_toolkit.layout.dimension', 'prompt_toolkit.layout.margins', 'prompt_toolkit.layout.layout', 'prompt_toolkit.layout.menus', 'prompt_toolkit.renderer', 'prompt_toolkit.layout.mouse_handlers', 'prompt_toolkit.key_binding.bindings.cpr', 'prompt_toolkit.key_binding.emacs_state', 'prompt_toolkit.layout.dummy', 'prompt_toolkit.application.dummy', 'prompt_toolkit.shortcuts', 'prompt_toolkit.shortcuts.dialogs', 'prompt_toolkit.key_binding.bindings.focus', 'prompt_toolkit.widgets', 'prompt_toolkit.widgets.base', 'prompt_toolkit.widgets.toolbars', 'prompt_toolkit.widgets.dialogs', 'prompt_toolkit.widgets.menus', 'prompt_toolkit.shortcuts.prompt', 'prompt_toolkit.key_binding.bindings.auto_suggest', 'prompt_toolkit.key_binding.bindings.open_in_editor', 'prompt_toolkit.shortcuts.utils', 'prompt_toolkit.shortcuts.progress_bar', 'prompt_toolkit.shortcuts.progress_bar.base', 'prompt_toolkit.shortcuts.progress_bar.formatters', 'prompt_toolkit.patch_stdout', 'pygments.style', 'IPython.terminal.debugger', 'IPython.core.completer', 'unicodedata', 'IPython.core.latex_symbols', 'IPython.utils.generics', 'jedi', 'jedi.api', 'parso', 'parso.parser', 'parso.tree', 'parso._compatibility', 'parso.pgen2', 'parso.pgen2.generator', 'parso.pgen2.grammar_parser', 'parso.python', 'parso.python.tokenize', 'parso.python.token', 'parso.utils', 'parso.grammar', 'parso.python.diff', 'difflib', 'parso.python.parser', 'parso.python.tree', 'parso.python.prefix', 'parso.cache', 'gc', 'parso.python.errors', 'parso.normalizer', 'parso.python.pep8', 'jedi._compatibility', 'jedi.parser_utils', 'jedi.debug', 'colorama', 'colorama.initialise', 'colorama.ansitowin32', 'colorama.ansi', 'colorama.winterm', 'colorama.win32', 'ctypes', '_ctypes', 'ctypes._endian', 'jedi.settings', 'jedi.cache', 'jedi.api.classes', 'jedi.evaluate', 'jedi.evaluate.utils', 'jedi.evaluate.imports', 'jedi.evaluate.sys_path', 'jedi.evaluate.cache', 'jedi.evaluate.base_context', 'jedi.common', 'jedi.common.context', 'jedi.evaluate.helpers', 'jedi.common.utils', 'jedi.evaluate.compiled', 'jedi.evaluate.compiled.context', 'jedi.evaluate.filters', 'jedi.evaluate.flow_analysis', 'jedi.evaluate.recursion', 'jedi.evaluate.lazy_context', 'jedi.evaluate.compiled.access', 'jedi.evaluate.compiled.getattr_static', 'jedi.evaluate.compiled.fake', 'jedi.evaluate.analysis', 'jedi.evaluate.context', 'jedi.evaluate.context.module', 'jedi.evaluate.context.klass', 'jedi.evaluate.context.function', 'jedi.evaluate.docstrings', 'jedi.evaluate.pep0484', 'jedi.evaluate.arguments', 'jedi.evaluate.context.iterable', 'jedi.evaluate.param', 'jedi.evaluate.context.asynchronous', 'jedi.evaluate.parser_cache', 'jedi.evaluate.context.instance', 'jedi.evaluate.syntax_tree', 'jedi.evaluate.finder', 'jedi.api.keywords', 'pydoc_data', 'pydoc_data.topics', 'jedi.api.interpreter', 'jedi.evaluate.compiled.mixed', 'jedi.api.helpers', 'jedi.api.completion', 'jedi.api.environment', 'filecmp', 'jedi.evaluate.compiled.subprocess', 'jedi.evaluate.compiled.subprocess.functions', 'jedi.api.exceptions', 'jedi.api.project', 'jedi.evaluate.usages', 'IPython.terminal.ptutils', 'IPython.terminal.shortcuts', 'IPython.terminal.magics', 'IPython.lib.clipboard', 'IPython.terminal.pt_inputhooks', 'IPython.terminal.prompts', 'IPython.terminal.ipapp', 'IPython.core.magics', 'IPython.core.magics.auto', 'IPython.core.magics.basic', 'IPython.core.magics.code', 'urllib.request', 'email', 'http', 'http.client', 'email.parser', 'email.feedparser', 'email.errors', 'email._policybase', 'email.header', 'email.quoprimime', 'email.base64mime', 'email.charset', 'email.encoders', 'quopri', 'email.utils', 'email._parseaddr', 'calendar', 'email.message', 'uu', 'email._encoded_words', 'email.iterators', 'urllib.error', 'urllib.response', 'IPython.core.magics.config', 'IPython.core.magics.display', 'IPython.core.magics.execution', 'timeit', 'cProfile', '_lsprof', 'profile', 'pstats', 'IPython.utils.module_paths', 'IPython.utils.timing', 'IPython.core.magics.extension', 'IPython.core.magics.history', 'IPython.core.magics.logging', 'IPython.core.magics.namespace', 'IPython.core.magics.osm', 'IPython.core.magics.pylab', 'IPython.core.pylabtools', 'IPython.core.magics.script', 'IPython.lib.backgroundjobs', 'IPython.core.shellapp', 'IPython.extensions', 'IPython.extensions.storemagic', 'IPython.utils.frame', 'jupyter_client', 'jupyter_client._version', 'jupyter_client.connect', 'zmq', 'zmq.backend', 'zmq.backend.select', 'zmq.backend.cython', 'cython_runtime', 'zmq.backend.cython.constants', '_cython_0_28_5', 'zmq.backend.cython.error', 'zmq.backend.cython.message', 'zmq.error', 'zmq.backend.cython.context', 'zmq.backend.cython.socket', 'zmq.backend.cython.utils', 'zmq.backend.cython._poll', 'zmq.backend.cython._version', 'zmq.backend.cython._device', 'zmq.sugar', 'zmq.sugar.constants', 'zmq.utils', 'zmq.utils.constant_names', 'zmq.sugar.context', 'zmq.sugar.attrsettr', 'zmq.sugar.socket', 'zmq.sugar.poll', 'zmq.utils.jsonapi', 'zmq.utils.strtypes', 'zmq.sugar.frame', 'zmq.sugar.tracker', 'zmq.sugar.version', 'zmq.sugar.stopwatch', 'jupyter_client.localinterfaces', 'jupyter_core', 'jupyter_core.version', 'jupyter_core.paths', 'jupyter_client.launcher', 'traitlets.log', 'jupyter_client.client', 'jupyter_client.channels', 'jupyter_client.channelsabc', 'jupyter_client.clientabc', 'jupyter_client.manager', 'jupyter_client.kernelspec', 'jupyter_client.managerabc', 'jupyter_client.blocking', 'jupyter_client.blocking.client', 'jupyter_client.blocking.channels', 'jupyter_client.multikernelmanager', 'uuid', 'ipykernel.kernelapp', 'tornado', 'tornado.ioloop', 'numbers', 'tornado.concurrent', 'tornado.log', 'logging.handlers', 'tornado.escape', 'tornado.util', 'tornado.speedups', 'curses', '_curses', 'tornado.stack_context', 'tornado.platform', 'tornado.platform.auto', 'tornado.platform.posix', 'tornado.platform.common', 'tornado.platform.interface', 'concurrent.futures.thread', 'zmq.eventloop', 'zmq.eventloop.ioloop', 'tornado.platform.asyncio', 'tornado.gen', 'zmq.eventloop.zmqstream', 'ipykernel.iostream', 'imp', 'jupyter_client.session', 'hmac', 'jupyter_client.jsonutil', 'dateutil', 'dateutil._version', 'dateutil.parser', 'dateutil.parser._parser', 'decimal', '_decimal', 'dateutil.relativedelta', 'dateutil._common', 'dateutil.tz', 'dateutil.tz.tz', 'dateutil.tz._common', 'dateutil.tz._factories', 'dateutil.parser.isoparser', '_strptime', 'jupyter_client.adapter', 'ipykernel.heartbeat', 'ipykernel.ipkernel', 'IPython.utils.tokenutil', 'ipykernel.comm', 'ipykernel.comm.manager', 'ipykernel.comm.comm', 'ipykernel.kernelbase', 'tornado.queues', 'tornado.locks', 'ipykernel.jsonutil', 'ipykernel.zmqshell', 'IPython.core.payloadpage', 'ipykernel.displayhook', 'ipykernel.parentpoller', 'faulthandler', 'ipykernel.datapub', 'ipykernel.serialize', 'ipykernel.pickleutil', 'ipykernel.codeutil', 'IPython.core.completerlib', 'storemagic', 'ipywidgets', 'ipywidgets._version', 'ipywidgets.widgets', 'ipywidgets.widgets.widget', 'ipywidgets.widgets.domwidget', 'ipywidgets.widgets.trait_types', 'ipywidgets.widgets.widget_layout', 'ipywidgets.widgets.widget_style', 'ipywidgets.widgets.valuewidget', 'ipywidgets.widgets.widget_core', 'ipywidgets.widgets.widget_bool', 'ipywidgets.widgets.widget_description', 'ipywidgets.widgets.widget_button', 'ipywidgets.widgets.widget_box', 'ipywidgets.widgets.docutils', 'ipywidgets.widgets.widget_float', 'ipywidgets.widgets.widget_int', 'ipywidgets.widgets.widget_color', 'ipywidgets.widgets.widget_date', 'ipywidgets.widgets.widget_output', 'ipywidgets.widgets.widget_selection', 'ipywidgets.widgets.widget_selectioncontainer', 'ipywidgets.widgets.widget_string', 'ipywidgets.widgets.widget_controller', 'ipywidgets.widgets.interaction', 'ipywidgets.widgets.widget_link', 'ipywidgets.widgets.widget_media', 'nltk', 'nltk.internals', 'xml.etree', 'xml.etree.cElementTree', 'xml.etree.ElementTree', 'xml.etree.ElementPath', 'pyexpat.errors', 'pyexpat.model', 'pyexpat', '_elementtree', 'nltk.compat', 'fractions', 'unidecode', 'nltk.collocations', 'nltk.probability', 'nltk.util', 'six.moves.urllib', 'six.moves.urllib.request', 'nltk.collections', 'nltk.metrics', 'nltk.metrics.scores', 'scipy', 'numpy', 'numpy._globals', 'numpy.__config__', 'numpy.version', 'numpy._import_tools', 'numpy.add_newdocs', 'numpy.lib', 'numpy.lib.info', 'numpy.lib.type_check', 'numpy.core', 'numpy.core.info', 'numpy.core.multiarray', 'numpy.core.umath', 'numpy.core._internal', 'numpy.compat', 'numpy.compat._inspect', 'numpy.compat.py3k', 'numpy.core.numerictypes', 'numpy.core.numeric', 'numpy.core.fromnumeric', 'numpy.core._methods', 'numpy.core.arrayprint', 'numpy.core.defchararray', 'numpy.core.records', 'numpy.core.memmap', 'numpy.core.function_base', 'numpy.core.machar', 'numpy.core.getlimits', 'numpy.core.shape_base', 'numpy.core.einsumfunc', 'numpy.testing', 'unittest', 'unittest.result', 'unittest.util', 'unittest.case', 'unittest.suite', 'unittest.loader', 'unittest.main', 'unittest.runner', 'unittest.signals', 'numpy.testing._private', 'numpy.testing._private.utils', 'numpy.lib.utils', 'numpy.testing._private.decorators', 'numpy.testing._private.nosetester', 'numpy.testing._private.pytesttester', 'numpy.lib.ufunclike', 'numpy.lib.index_tricks', 'numpy.lib.function_base', 'numpy.lib.twodim_base', 'numpy.lib.histograms', 'numpy.matrixlib', 'numpy.matrixlib.defmatrix', 'numpy.linalg', 'numpy.linalg.info', 'numpy.linalg.linalg', 'numpy.linalg.lapack_lite', 'numpy.linalg._umath_linalg', 'numpy.lib.stride_tricks', 'numpy.lib.mixins', 'numpy.lib.nanfunctions', 'numpy.lib.shape_base', 'numpy.lib.scimath', 'numpy.lib.polynomial', 'numpy.lib.arraysetops', 'numpy.lib.npyio', 'numpy.lib.format', 'numpy.lib._datasource', 'numpy.lib._iotools', 'numpy.lib.financial', 'numpy.lib.arrayterator', 'numpy.lib.arraypad', 'numpy.lib._version', 'numpy.core._multiarray_tests', 'numpy._distributor_init', 'numpy._mklinit', 'numpy.fft', 'numpy.fft.info', 'numpy.fft.fftpack', 'numpy.fft.fftpack_lite', 'numpy.fft.helper', 'mkl_fft', 'mkl_fft._pydfti', '_cython_0_29', 'mkl_fft._version', 'mkl_fft._numpy_fft', 'numpy.polynomial', 'numpy.polynomial.polynomial', 'numpy.polynomial.polyutils', 'numpy.polynomial._polybase', 'numpy.polynomial.chebyshev', 'numpy.polynomial.legendre', 'numpy.polynomial.hermite', 'numpy.polynomial.hermite_e', 'numpy.polynomial.laguerre', 'numpy.random', 'numpy.random.info', 'numpy.random.mtrand', 'mtrand', 'numpy.ctypeslib', 'numpy.ma', 'numpy.ma.core', 'numpy.ma.extras', 'scipy._distributor_init', 'scipy.__config__', 'scipy.version', 'scipy._lib', 'scipy._lib._testutils', 'scipy._lib._version', 'scipy._lib.six', 'scipy._lib._ccallback', 'scipy._lib._ccallback_c', 'scipy.stats', 'scipy.stats.stats', 'scipy.special', 'scipy.special.sf_error', 'scipy.special._ufuncs', 'scipy.special._ufuncs_cxx', 'scipy.special.basic', 'scipy.special.specfun', 'scipy.special.orthogonal', 'scipy.linalg', 'scipy.linalg.linalg_version', 'scipy.linalg.misc', 'scipy.linalg.blas', 'scipy.linalg._fblas', 'scipy.linalg.lapack', 'scipy.linalg._flapack', 'scipy._lib._util', 'scipy.linalg.basic', 'scipy.linalg.flinalg', 'scipy.linalg._flinalg', 'scipy.linalg.decomp', 'scipy.linalg.decomp_svd', 'scipy.linalg._solve_toeplitz', 'scipy.linalg.decomp_lu', 'scipy.linalg._decomp_ldl', 'scipy.linalg.decomp_cholesky', 'scipy.linalg.decomp_qr', 'scipy.linalg._decomp_qz', 'scipy.linalg.decomp_schur', 'scipy.linalg._decomp_polar', 'scipy.linalg.matfuncs', 'scipy.linalg.special_matrices', 'scipy.linalg._expm_frechet', 'scipy.linalg._matfuncs_sqrtm', 'scipy.linalg._solvers', 'scipy.linalg._procrustes', 'scipy.linalg._decomp_update', 'scipy.linalg.cython_blas', 'scipy.linalg.cython_lapack', 'scipy.linalg._sketches', 'numpy.dual', 'scipy.special._comb', 'scipy.special._logsumexp', 'scipy.special.spfun_stats', 'scipy.special._ellip_harm', 'scipy.special._ellip_harm_2', 'scipy.special.lambertw', 'scipy.special._spherical_bessel', 'scipy.stats.distributions', 'scipy.stats._distn_infrastructure', 'scipy.misc', 'scipy.misc.doccer', 'scipy.misc.common', 'scipy.interpolate', 'scipy.interpolate.interpolate', 'scipy.interpolate.fitpack', 'scipy.interpolate._fitpack_impl', 'scipy.interpolate._fitpack', 'scipy.interpolate.dfitpack', 'scipy.interpolate._bsplines', 'scipy.interpolate._bspl', 'scipy.interpolate.polyint', 'scipy.interpolate._ppoly', 'scipy.interpolate.fitpack2', 'scipy.interpolate.interpnd', 'scipy.spatial', 'scipy.spatial.kdtree', 'scipy.sparse', 'scipy.sparse.base', 'scipy._lib._numpy_compat', 'scipy.sparse.sputils', 'scipy.sparse.csr', 'scipy.sparse._sparsetools', 'scipy.sparse.compressed', 'scipy.sparse.data', 'scipy.sparse.dia', 'scipy.sparse.csc', 'scipy.sparse.lil', 'scipy.sparse._csparsetools', 'scipy.sparse.dok', 'scipy.sparse.coo', 'scipy.sparse.bsr', 'scipy.sparse.construct', 'scipy.sparse.extract', 'scipy.sparse._matrix_io', 'scipy.sparse.csgraph', 'scipy.sparse.csgraph._laplacian', 'scipy.sparse.csgraph._shortest_path', 'scipy.sparse.csgraph._validation', 'scipy.sparse.csgraph._tools', 'scipy.sparse.csgraph._traversal', 'scipy.sparse.csgraph._min_spanning_tree', 'scipy.sparse.csgraph._reordering', 'scipy.spatial.ckdtree', 'multiprocessing', 'multiprocessing.context', 'multiprocessing.process', 'multiprocessing.reduction', '__mp_main__', 'scipy.spatial.qhull', 'scipy._lib.messagestream', 'scipy.spatial._spherical_voronoi', 'numpy.matlib', 'scipy.spatial._voronoi', 'scipy.spatial.distance', 'scipy.spatial._distance_wrap', 'scipy.spatial._hausdorff', 'scipy.spatial._plotutils', 'scipy._lib.decorator', 'scipy.spatial._procrustes', 'scipy.interpolate.rbf', 'scipy.interpolate._cubic', 'scipy.interpolate.ndgriddata', 'scipy.interpolate._pade', 'scipy.stats._distr_params', 'scipy.optimize', 'scipy.optimize.optimize', 'scipy.optimize.linesearch', 'scipy.optimize.minpack2', 'scipy.optimize._minimize', 'scipy.sparse.linalg', 'scipy.sparse.linalg.isolve', 'scipy.sparse.linalg.isolve.iterative', 'scipy.sparse.linalg.isolve._iterative', 'scipy.sparse.linalg.interface', 'scipy.sparse.linalg.isolve.utils', 'scipy._lib._threadsafety', 'scipy.sparse.linalg.isolve.minres', 'scipy.sparse.linalg.isolve.lgmres', 'scipy.sparse.linalg.isolve._gcrotmk', 'scipy.sparse.linalg.isolve.lsqr', 'scipy.sparse.linalg.isolve.lsmr', 'scipy.sparse.linalg.dsolve', 'scipy.sparse.linalg.dsolve.linsolve', 'scipy.sparse.linalg.dsolve._superlu', 'scipy.sparse.linalg.dsolve._add_newdocs', 'scipy.sparse.linalg.eigen', 'scipy.sparse.linalg.eigen.arpack', 'scipy.sparse.linalg.eigen.arpack.arpack', 'scipy.sparse.linalg.eigen.arpack._arpack', 'scipy.sparse.linalg.eigen.lobpcg', 'scipy.sparse.linalg.eigen.lobpcg.lobpcg', 'scipy.sparse.linalg.matfuncs', 'scipy.sparse.linalg._onenormest', 'scipy.sparse.linalg._norm', 'scipy.sparse.linalg._expm_multiply', 'scipy.optimize._trustregion_dogleg', 'scipy.optimize._trustregion', 'scipy.optimize._trustregion_ncg', 'scipy.optimize._trustregion_krylov', 'scipy.optimize._trlib', 'scipy.optimize._trlib._trlib', 'scipy.optimize._trustregion_exact', 'scipy.optimize._trustregion_constr', 'scipy.optimize._trustregion_constr.minimize_trustregion_constr', 'scipy.optimize._differentiable_functions', 'scipy.optimize._numdiff', 'scipy.optimize._group_columns', 'scipy.optimize._hessian_update_strategy', 'scipy.optimize._constraints', 'scipy.optimize._trustregion_constr.equality_constrained_sqp', 'scipy.optimize._trustregion_constr.projections', 'scipy.optimize._trustregion_constr.qp_subproblem', 'scipy.optimize._trustregion_constr.canonical_constraint', 'scipy.optimize._trustregion_constr.tr_interior_point', 'scipy.optimize._trustregion_constr.report', 'scipy.optimize.lbfgsb', 'scipy.optimize._lbfgsb', 'scipy.optimize.tnc', 'scipy.optimize.moduleTNC', 'scipy.optimize.cobyla', 'scipy.optimize._cobyla', 'scipy.optimize.slsqp', 'scipy.optimize._slsqp', 'scipy.optimize._root', 'scipy.optimize.minpack', 'scipy.optimize._minpack', 'scipy.optimize._lsq', 'scipy.optimize._lsq.least_squares', 'scipy.optimize._lsq.trf', 'scipy.optimize._lsq.common', 'scipy.optimize._lsq.dogbox', 'scipy.optimize._lsq.lsq_linear', 'scipy.optimize._lsq.trf_linear', 'scipy.optimize._lsq.givens_elimination', 'scipy.optimize._lsq.bvls', 'scipy.optimize._spectral', 'scipy.optimize.nonlin', 'scipy.optimize.zeros', 'scipy.optimize._zeros', 'scipy.optimize.nnls', 'scipy.optimize._nnls', 'scipy.optimize._basinhopping', 'scipy.optimize._linprog', 'scipy.optimize._linprog_ip', 'scipy.optimize._remove_redundancy', 'scipy.optimize._hungarian', 'scipy.optimize._differentialevolution', 'scipy.integrate', 'scipy.integrate.quadrature', 'scipy.integrate.odepack', 'scipy.integrate._odepack', 'scipy.integrate.quadpack', 'scipy.integrate._quadpack', 'scipy.integrate._ode', 'scipy.integrate.vode', 'scipy.integrate._dop', 'scipy.integrate.lsoda', 'scipy.integrate._bvp', 'scipy.integrate._ivp', 'scipy.integrate._ivp.ivp', 'scipy.integrate._ivp.bdf', 'scipy.integrate._ivp.common', 'scipy.integrate._ivp.base', 'scipy.integrate._ivp.radau', 'scipy.integrate._ivp.rk', 'scipy.integrate._ivp.lsoda', 'scipy.stats._constants', 'scipy.stats._continuous_distns', 'scipy.stats._stats', 'scipy.stats._tukeylambda_stats', 'scipy.stats._discrete_distns', 'scipy.stats.mstats_basic', 'scipy.stats._stats_mstats_common', 'scipy.stats.morestats', 'scipy.stats.statlib', 'scipy.stats.contingency', 'scipy.stats._binned_statistic', 'scipy.stats.kde', 'scipy.stats.mvn', 'scipy.stats.mstats', 'scipy.stats.mstats_extras', 'scipy.stats._multivariate', 'nltk.metrics.confusionmatrix', 'nltk.metrics.distance', 'nltk.metrics.paice', 'nltk.metrics.segmentation', 'nltk.metrics.agreement', 'nltk.metrics.association', 'nltk.metrics.spearman', 'nltk.metrics.aline', 'nltk.decorators', 'nltk.featstruct', 'nltk.sem', 'nltk.sem.util', 'nltk.sem.evaluate', 'nltk.sem.logic', 'nltk.sem.skolemize', 'nltk.sem.lfg', 'nltk.sem.relextract', 'nltk.sem.boxer', 'optparse', 'nltk.sem.drt', 'tkinter', '_tkinter', 'tkinter.constants', 'six.moves.tkinter', 'tkinter.font', 'six.moves.tkinter_font', 'nltk.grammar', 'nltk.text', 'nltk.tree', 'nltk.jsontags', 'nltk.chunk', 'nltk.data', 'zipfile', 'gzip', 'nltk.chunk.api', 'nltk.parse', 'nltk.parse.api', 'nltk.parse.chart', 'nltk.parse.featurechart', 'nltk.parse.earleychart', 'nltk.parse.pchart', 'nltk.parse.recursivedescent', 'nltk.parse.shiftreduce', 'nltk.parse.util', 'nltk.parse.viterbi', 'nltk.parse.dependencygraph', 'nltk.parse.projectivedependencyparser', 'nltk.parse.nonprojectivedependencyparser', 'nltk.parse.malt', 'nltk.parse.evaluate', 'nltk.parse.transitionparser', 'sklearn', 'sklearn._config', 'sklearn.__check_build', 'sklearn.__check_build._check_build', 'sklearn.base', 'sklearn.externals', 'sklearn.externals.six', 'sklearn.externals.six.moves', 'sklearn.externals.six.moves.urllib_parse', 'sklearn.externals.six.moves.urllib.parse', 'sklearn.externals.six.moves.urllib_error', 'sklearn.externals.six.moves.urllib.error', 'sklearn.externals.six.moves.urllib_request', 'sklearn.externals.six.moves.urllib.request', 'sklearn.externals.six.moves.urllib_response', 'sklearn.externals.six.moves.urllib.response', 'sklearn.externals.six.moves.urllib_robotparser', 'sklearn.externals.six.moves.urllib.robotparser', 'sklearn.externals.six.moves.urllib', 'sklearn.utils', 'sklearn.utils.murmurhash', 'sklearn.utils.class_weight', 'sklearn.utils._joblib', 'sklearn.externals.joblib', 'sklearn.externals.joblib.memory', 'sklearn.externals.joblib.hashing', 'sklearn.externals.joblib._compat', 'sklearn.externals.joblib.func_inspect', 'sklearn.externals.joblib.logger', 'sklearn.externals.joblib.disk', 'sklearn.externals.joblib._memory_helpers', 'sklearn.externals.joblib._store_backends', 'sklearn.externals.joblib.backports', 'distutils', 'distutils.version', 'sklearn.externals.joblib.numpy_pickle', 'sklearn.externals.joblib.compressor', 'sklearn.externals.joblib.numpy_pickle_utils', 'sklearn.externals.joblib.numpy_pickle_compat', 'sklearn.externals.joblib.parallel', 'sklearn.externals.joblib._multiprocessing_helpers', 'multiprocessing.synchronize', '_multiprocessing', 'multiprocessing.util', 'multiprocessing.semaphore_tracker', 'multiprocessing.spawn', 'sklearn.externals.joblib.format_stack', 'sklearn.externals.joblib.my_exceptions', 'sklearn.externals.joblib._parallel_backends', 'sklearn.externals.joblib.pool', 'sklearn.externals.joblib._memmapping_reducer', 'mmap', 'multiprocessing.pool', 'sklearn.externals.joblib.executor', 'sklearn.externals.joblib.externals', 'sklearn.externals.joblib.externals.loky', 'sklearn.externals.joblib.externals.loky._base', 'sklearn.externals.joblib.externals.loky.backend', 'sklearn.externals.joblib.externals.loky.backend.context', 'sklearn.externals.joblib.externals.loky.backend.process', 'sklearn.externals.joblib.externals.loky.backend.compat', 'sklearn.externals.joblib.externals.loky.backend.compat_posix', 'multiprocessing.connection', 'sklearn.externals.joblib.externals.loky.backend.reduction', 'sklearn.externals.joblib.externals.loky.backend._posix_reduction', 'sklearn.externals.joblib.externals.cloudpickle', 'sklearn.externals.joblib.externals.cloudpickle.cloudpickle', 'sklearn.externals.joblib.externals.loky.reusable_executor', 'sklearn.externals.joblib.externals.loky.process_executor', 'sklearn.externals.joblib.externals.loky.backend.queues', 'multiprocessing.queues', 'sklearn.externals.joblib.externals.loky.backend.utils', 'concurrent.futures.process', 'sklearn.externals.joblib.externals.loky.cloudpickle_wrapper', 'sklearn.exceptions', 'sklearn.utils.fixes', 'sklearn.utils.deprecation', 'sklearn.utils.validation', 'sklearn.utils._show_versions', 'sklearn.datasets', 'sklearn.datasets.base', 'csv', '_csv', 'sklearn.datasets.covtype', 'sklearn.datasets.kddcup99', 'sklearn.datasets.mlcomp', 'sklearn.datasets.lfw', 'sklearn.datasets.twenty_newsgroups', 'tarfile', 'sklearn.feature_extraction', 'sklearn.feature_extraction.dict_vectorizer', 'sklearn.feature_extraction.hashing', 'sklearn.feature_extraction._hashing', 'sklearn.feature_extraction.image', 'sklearn.feature_extraction.text', 'sklearn.preprocessing', 'sklearn.preprocessing._function_transformer', 'sklearn.utils.testing', 'scipy.io', 'scipy.io.matlab', 'scipy.io.matlab.mio', 'scipy.io.matlab.miobase', 'scipy.io.matlab.byteordercodes', 'scipy.io.matlab.mio4', 'scipy.io.matlab.mio_utils', 'scipy.io.matlab.mio5', 'scipy.io.matlab.mio5_utils', 'scipy.io.matlab.streams', 'scipy.io.matlab.mio5_params', 'scipy.io.netcdf', 'scipy.io._fortran', 'scipy.io.mmio', 'scipy.io.idl', 'scipy.io.harwell_boeing', 'scipy.io.harwell_boeing.hb', 'scipy.io.harwell_boeing._fortran_format_parser', 'sklearn.utils._unittest_backport', 'pytest', '_pytest', '_pytest._version', '_pytest.assertion', '_pytest.assertion.rewrite', 'atomicwrites', 'py', 'py._error', 'py.error', 'py._vendored_packages', 'py._vendored_packages.apipkg', 'py._version', 'py.test', 'py.process', 'py.apipkg', 'py.iniconfig', 'py.path', 'py.code', 'py.builtin', 'py.io', 'py.xml', 'py.log', '_pytest.assertion.util', '_pytest._code', '_pytest._code.code', 'attr', 'attr.converters', 'attr._make', 'attr._config', 'attr._compat', 'attr.exceptions', 'attr.filters', 'attr.validators', 'attr._funcs', 'pluggy', 'pluggy._version', 'pluggy.manager', 'pluggy._tracing', 'pluggy.callers', 'pluggy.hooks', '_pytest.compat', '_pytest.outcomes', 'py._path', 'py._path.local', 'py._path.common', '_pytest._code.source', '_pytest.pathlib', '_pytest.assertion.truncate', '_pytest.config', 'pkg_resources', 'plistlib', 'xml.parsers', 'xml.parsers.expat', 'xml.parsers.expat.model', 'xml.parsers.expat.errors', 'pkg_resources.extern', 'pkg_resources._vendor', 'pkg_resources.extern.six', 'pkg_resources._vendor.six', 'pkg_resources.extern.six.moves', 'pkg_resources._vendor.six.moves', 'pkg_resources.py31compat', 'pkg_resources.extern.appdirs', 'pkg_resources._vendor.packaging.__about__', 'pkg_resources.extern.packaging', 'pkg_resources.extern.packaging.version', 'pkg_resources.extern.packaging._structures', 'pkg_resources.extern.packaging.specifiers', 'pkg_resources.extern.packaging._compat', 'pkg_resources.extern.packaging.requirements', 'pkg_resources.extern.pyparsing', 'pkg_resources.extern.six.moves.urllib', 'pkg_resources.extern.packaging.markers', 'sysconfig', '_pytest.hookspec', '_pytest.deprecated', '_pytest.warning_types', '_pytest.config.exceptions', '_pytest.config.findpaths', '_pytest.debugging', 'doctest', '_pytest.fixtures', 'more_itertools', 'more_itertools.more', 'more_itertools.recipes', 'py._code', 'py._code.code', 'py._builtin', '_pytest.nodes', '_pytest.mark', '_pytest.mark.legacy', '_pytest.mark.structures', '_pytest.freeze_support', '_pytest.main', '_pytest.runner', '_pytest.reports', '_pytest.python', '_pytest.python_api', '_pytest.recwarn', 'sklearn.preprocessing.data', 'sklearn.utils.extmath', 'sklearn.utils._logistic_sigmoid', 'sklearn.utils.sparsefuncs_fast', 'sklearn.utils.sparsefuncs', 'sklearn.preprocessing._encoders', 'sklearn.preprocessing.base', 'sklearn.preprocessing.label', 'sklearn.utils.multiclass', 'sklearn.preprocessing._discretization', 'sklearn.preprocessing.imputation', 'sklearn.feature_extraction.stop_words', 'sklearn.datasets.mldata', 'sklearn.datasets.openml', 'sklearn.externals._arff', 'sklearn.datasets.samples_generator', 'sklearn.utils.random', 'sklearn.utils._random', 'sklearn.datasets.svmlight_format', 'sklearn.datasets._svmlight_format', 'sklearn.datasets.olivetti_faces', 'sklearn.datasets.species_distributions', 'sklearn.datasets.california_housing', 'sklearn.datasets.rcv1', 'sklearn.svm', 'sklearn.svm.classes', 'sklearn.svm.base', 'sklearn.svm.libsvm', 'sklearn.svm.liblinear', 'sklearn.svm.libsvm_sparse', 'sklearn.linear_model', 'sklearn.linear_model.base', 'sklearn.utils.seq_dataset', 'sklearn.linear_model.bayes', 'sklearn.linear_model.least_angle', 'sklearn.utils.arrayfuncs', 'sklearn.model_selection', 'sklearn.model_selection._split', 'sklearn.model_selection._validation', 'sklearn.utils.metaestimators', 'sklearn.metrics', 'sklearn.metrics.ranking', 'sklearn.metrics.base', 'sklearn.metrics.classification', 'sklearn.metrics.cluster', 'sklearn.metrics.cluster.supervised', 'sklearn.metrics.cluster.expected_mutual_info_fast', 'sklearn.utils.lgamma', 'sklearn.metrics.cluster.unsupervised', 'sklearn.metrics.pairwise', 'sklearn.metrics.pairwise_fast', 'sklearn.metrics.cluster.bicluster', 'sklearn.utils.linear_assignment_', 'sklearn.metrics.regression', 'sklearn.metrics.scorer', 'sklearn.model_selection._search', 'sklearn.linear_model.coordinate_descent', 'sklearn.linear_model.cd_fast', 'sklearn.linear_model.huber', 'sklearn.linear_model.sgd_fast', 'sklearn.utils.weight_vector', 'sklearn.linear_model.stochastic_gradient', 'sklearn.linear_model.ridge', 'sklearn.linear_model.sag', 'sklearn.linear_model.sag_fast', 'sklearn.linear_model.logistic', 'sklearn.utils.optimize', 'sklearn.linear_model.omp', 'sklearn.linear_model.passive_aggressive', 'sklearn.linear_model.perceptron', 'sklearn.linear_model.randomized_l1', 'sklearn.feature_selection', 'sklearn.feature_selection.univariate_selection', 'sklearn.feature_selection.base', 'sklearn.feature_selection.variance_threshold', 'sklearn.feature_selection.rfe', 'sklearn.feature_selection.from_model', 'sklearn.feature_selection.mutual_info_', 'sklearn.neighbors', 'sklearn.neighbors.ball_tree', 'sklearn.neighbors.dist_metrics', 'sklearn.neighbors.typedefs', 'sklearn.neighbors.kd_tree', 'sklearn.neighbors.graph', 'sklearn.neighbors.base', 'sklearn.neighbors.unsupervised', 'sklearn.neighbors.classification', 'sklearn.neighbors.regression', 'sklearn.neighbors.nearest_centroid', 'sklearn.neighbors.kde', 'sklearn.neighbors.approximate', 'sklearn.random_projection', 'sklearn.neighbors.lof', 'sklearn.linear_model.ransac', 'sklearn.linear_model.theil_sen', 'sklearn.svm.bounds', 'nltk.parse.bllip', 'nltk.parse.corenlp', 'nltk.tag', 'nltk.tag.api', 'nltk.tag.util', 'nltk.tag.sequential', 'nltk.classify', 'nltk.classify.api', 'nltk.classify.megam', 'nltk.classify.weka', 'nltk.classify.naivebayes', 'nltk.classify.positivenaivebayes', 'nltk.classify.decisiontree', 'nltk.classify.rte_classify', 'nltk.tokenize', 'nltk.tokenize.casual', 'nltk.tokenize.mwe', 'nltk.tokenize.api', 'nltk.tokenize.util', 'xml.sax', 'xml.sax.xmlreader', 'xml.sax.handler', 'xml.sax._exceptions', 'xml.sax.saxutils', 'nltk.tokenize.punkt', 'nltk.tokenize.regexp', 'nltk.tokenize.repp', 'nltk.tokenize.sexpr', 'nltk.tokenize.simple', 'nltk.tokenize.texttiling', 'nltk.tokenize.toktok', 'nltk.tokenize.treebank', 'nltk.tokenize.stanford_segmenter', 'nltk.classify.util', 'nltk.classify.maxent', 'nltk.classify.tadm', 'nltk.classify.scikitlearn', 'nltk.classify.senna', 'nltk.classify.textcat', 'regex', '_regex_core', '_regex', 'nltk.tag.brill', 'nltk.tbl', 'nltk.tbl.template', 'nltk.tbl.feature', 'nltk.tbl.rule', 'nltk.tbl.erroranalysis', 'nltk.tag.brill_trainer', 'nltk.tag.tnt', 'nltk.tag.hunpos', 'nltk.tag.stanford', 'nltk.tag.hmm', 'nltk.tag.senna', 'nltk.tag.mapping', 'nltk.tag.crf', 'nltk.tag.perceptron', 'nltk.chunk.util', 'nltk.chunk.regexp', 'nltk.inference', 'nltk.inference.api', 'nltk.inference.mace', 'nltk.inference.prover9', 'nltk.inference.resolution', 'nltk.inference.tableau', 'nltk.inference.discourse', 'nltk.sem.glue', 'nltk.sem.linearlogic', 'nltk.translate', 'nltk.translate.api', 'nltk.translate.ibm_model', 'nltk.translate.ibm1', 'nltk.translate.ibm2', 'nltk.translate.ibm3', 'nltk.translate.ibm4', 'nltk.translate.ibm5', 'nltk.translate.bleu_score', 'nltk.translate.ribes_score', 'nltk.translate.metrics', 'nltk.translate.stack_decoder', 'nltk.stem', 'nltk.stem.api', 'nltk.stem.regexp', 'nltk.stem.lancaster', 'nltk.stem.isri', 'nltk.stem.porter', 'nltk.stem.snowball', 'nltk.corpus', 'nltk.corpus.util', 'nltk.corpus.reader', 'nltk.corpus.reader.plaintext', 'nltk.corpus.reader.util', 'nltk.corpus.reader.api', 'nltk.corpus.reader.tagged', 'nltk.corpus.reader.timit', 'nltk.corpus.reader.cmudict', 'nltk.corpus.reader.conll', 'nltk.corpus.reader.chunked', 'nltk.corpus.reader.bracket_parse', 'nltk.corpus.reader.wordlist', 'nltk.corpus.reader.xmldocs', 'nltk.corpus.reader.ppattach', 'nltk.corpus.reader.senseval', 'nltk.corpus.reader.ieer', 'nltk.corpus.reader.sinica_treebank', 'nltk.corpus.reader.indian', 'nltk.corpus.reader.toolbox', 'nltk.toolbox', 'nltk.corpus.reader.ycoe', 'nltk.corpus.reader.rte', 'nltk.corpus.reader.string_category', 'nltk.corpus.reader.propbank', 'nltk.corpus.reader.verbnet', 'nltk.corpus.reader.bnc', 'nltk.corpus.reader.nps_chat', 'nltk.corpus.reader.wordnet', 'nltk.corpus.reader.switchboard', 'nltk.corpus.reader.dependency', 'nltk.corpus.reader.nombank', 'nltk.corpus.reader.ipipan', 'nltk.corpus.reader.pl196x', 'nltk.corpus.reader.knbc', 'nltk.corpus.reader.chasen', 'nltk.corpus.reader.childes', 'nltk.corpus.reader.aligned', 'nltk.corpus.reader.lin', 'nltk.corpus.reader.semcor', 'nltk.corpus.reader.framenet', 'nltk.corpus.reader.udhr', 'nltk.corpus.reader.sentiwordnet', 'nltk.corpus.reader.twitter', 'nltk.corpus.reader.nkjp', 'nltk.corpus.reader.crubadan', 'nltk.corpus.reader.mte', 'nltk.corpus.reader.reviews', 'nltk.corpus.reader.opinion_lexicon', 'nltk.corpus.reader.pros_cons', 'nltk.corpus.reader.categorized_sents', 'nltk.corpus.reader.comparative_sents', 'nltk.corpus.reader.panlex_lite', 'nltk.stem.util', 'nltk.stem.wordnet', 'nltk.stem.rslp', 'nltk.lazyimport', 'nltk.cluster', 'nltk.cluster.util', 'nltk.cluster.api', 'nltk.cluster.kmeans', 'nltk.cluster.gaac', 'nltk.cluster.em', 'nltk.downloader', 'tkinter.messagebox', 'tkinter.commondialog', 'six.moves.tkinter_messagebox', 'nltk.draw', 'nltk.draw.cfg', 'nltk.draw.tree', 'nltk.draw.util', 'tkinter.filedialog', 'tkinter.dialog', 'six.moves.tkinter_tkfiledialog', 'nltk.draw.table', 'nltk.draw.dispersion', 'six.moves.urllib.error', 'nltk.ccg', 'nltk.ccg.combinator', 'nltk.ccg.api', 'nltk.ccg.chart', 'nltk.ccg.lexicon', 'nltk.ccg.logic', 'nltk.help', 'nltk.misc', 'nltk.misc.chomsky', 'nltk.misc.wordfinder', 'nltk.misc.minimalset', 'nltk.misc.babelfish', 'nltk.wsd', 'nltk.treetransforms', 'tqdm', 'tqdm._tqdm', 'tqdm._utils', 'tqdm._monitor', 'tqdm._tqdm_gui', 'tqdm._tqdm_pandas', 'tqdm._main', 'tqdm._version', 'util', 'tqdm._tqdm_notebook', 'torch', 'torch._utils', 'torch._utils_internal', 'torch.version', 'torch._six', 'torch._nvrtc', 'torch._C._onnx', 'torch._C._jit_tree_views', 'torch._C._jit', 'torch._C', 'torch.random', 'torch.serialization', 'torch._tensor_str', 'torch.tensor', 'torch.utils', 'torch.utils.hooks', 'torch.storage', 'torch.cuda', 'torch.cuda._utils', 'torch.cuda.random', 'torch.cuda.sparse', 'torch.cuda.profiler', 'torch.cuda.nvtx', 'torch.cuda.streams', 'torch.sparse', 'torch.functional', 'torch.nn', 'torch.nn.modules', 'torch.nn.modules.module', 'torch.nn.backends', 'torch.nn.backends.thnn', 'torch.nn.backends.backend', 'torch.nn._functions', 'torch.nn._functions.thnn', 'torch.nn._functions.thnn.auto', 'torch._thnn', 'torch._thnn.utils', 'torch.autograd', 'torch.autograd.variable', 'torch.autograd.function', 'torch.autograd.gradcheck', 'torch.testing', 'torch.autograd.grad_mode', 'torch.autograd.anomaly_mode', 'torch.autograd.profiler', 'torch.nn._functions.thnn.auto_double_backwards', 'torch.nn._functions.thnn.auto_symbolic', 'torch.autograd._functions', 'torch.autograd._functions.tensor', 'torch.autograd._functions.utils', 'torch.nn._functions.thnn.normalization', 'torch.nn._functions.thnn.fold', 'torch.nn._functions.thnn.sparse', 'torch.nn.parameter', 'torch.nn.modules.linear', 'torch.nn.functional', 'torch.nn._reduction', 'torch._jit_internal', 'torch.nn.modules.utils', 'torch.nn._functions.vision', 'torch.backends', 'torch.backends.cudnn', 'torch.nn.grad', 'torch.nn._VF', 'torch.nn.init', 'torch.nn.modules.conv', 'torch.nn.modules.activation', 'torch.nn.modules.loss', 'torch.nn.modules.container', 'torch.nn.modules.pooling', 'torch.nn.modules.batchnorm', 'torch.nn.modules.instancenorm', 'torch.nn.modules.normalization', 'torch.nn.modules.dropout', 'torch.nn.modules.padding', 'torch.nn.modules.sparse', 'torch.nn.modules.rnn', 'torch.nn.utils', 'torch.nn.utils.rnn', 'torch.nn.utils.clip_grad', 'torch.nn.utils.weight_norm', 'torch.nn.utils.convert_parameters', 'torch.nn.utils.spectral_norm', 'torch.nn.modules.pixelshuffle', 'torch.nn.modules.upsampling', 'torch.nn.modules.distance', 'torch.nn.modules.fold', 'torch.nn.modules.adaptive', 'torch.nn.parallel', 'torch.nn.parallel.parallel_apply', 'torch.nn.parallel.replicate', 'torch.cuda.comm', 'torch.cuda.nccl', 'torch.nn.parallel.data_parallel', 'torch.nn.parallel.scatter_gather', 'torch.nn.parallel._functions', 'torch.nn.parallel.distributed', 'torch.distributed', 'torch.distributed.distributed_c10d', 'torch.distributed.rendezvous', 'torch.nn.parallel.distributed_cpu', 'torch.nn.parallel.deprecated', 'torch.nn.parallel.deprecated.distributed', 'torch.distributed.deprecated', 'torch.nn.parallel.deprecated.distributed_cpu', 'torch.optim', 'torch.optim.adadelta', 'torch.optim.optimizer', 'torch.optim.adagrad', 'torch.optim.adam', 'torch.optim.sparse_adam', 'torch.optim.adamax', 'torch.optim.asgd', 'torch.optim.sgd', 'torch.optim.rprop', 'torch.optim.rmsprop', 'torch.optim.lbfgs', 'torch.optim.lr_scheduler', 'torch.multiprocessing', 'torch.multiprocessing.reductions', 'multiprocessing.resource_sharer', 'torch.multiprocessing.spawn', 'torch.utils.backcompat', 'torch.onnx', 'torch.jit', 'torch.jit.frontend', 'torch.jit.annotations', 'torch.distributions', 'torch.distributions.bernoulli', 'torch.distributions.constraints', 'torch.distributions.utils', 'torch.distributions.exp_family', 'torch.distributions.distribution', 'torch.distributions.beta', 'torch.distributions.dirichlet', 'torch.distributions.binomial', 'torch.distributions.categorical', 'torch.distributions.cauchy', 'torch.distributions.chi2', 'torch.distributions.gamma', 'torch.distributions.constraint_registry', 'torch.distributions.transforms', 'torch.distributions.exponential', 'torch.distributions.fishersnedecor', 'torch.distributions.geometric', 'torch.distributions.gumbel', 'torch.distributions.uniform', 'torch.distributions.transformed_distribution', 'torch.distributions.half_cauchy', 'torch.distributions.half_normal', 'torch.distributions.normal', 'torch.distributions.independent', 'torch.distributions.kl', 'torch.distributions.laplace', 'torch.distributions.logistic_normal', 'torch.distributions.lowrank_multivariate_normal', 'torch.distributions.multivariate_normal', 'torch.distributions.one_hot_categorical', 'torch.distributions.pareto', 'torch.distributions.poisson', 'torch.distributions.log_normal', 'torch.distributions.multinomial', 'torch.distributions.negative_binomial', 'torch.distributions.relaxed_bernoulli', 'torch.distributions.relaxed_categorical', 'torch.distributions.studentT', 'torch.distributions.weibull', 'torch.backends.cuda', 'torch.backends.mkl', 'torch._torch_docs', 'torch._tensor_docs', 'torch._storage_docs', 'torch._ops', 'torch.utils.data', 'torch.utils.data.sampler', 'torch.utils.data.distributed', 'torch.utils.data.dataset', 'torch.utils.data.dataloader', 'allennlp', 'spacy', 'thinc', 'thinc.about', 'thinc.neural', 'thinc.neural._classes', 'thinc.neural._classes.model', 'msgpack', 'msgpack._version', 'msgpack.exceptions', 'msgpack._packer', 'msgpack._unpacker', 'msgpack_numpy', 'thinc.neural.util', 'preshed', 'preshed.about', 'preshed.maps', 'cymem', 'cymem.about', 'cymem.cymem', 'thinc.neural.train', 'thinc.neural.optimizers', '_cython_0_29_1', 'thinc.neural.ops', 'thinc.linalg', 'murmurhash', 'murmurhash.about', 'murmurhash.mrmr', 'cytoolz', '_cython_0_27_3', 'cytoolz.itertoolz', 'cytoolz.compatibility', 'cytoolz.utils', 'toolz', 'toolz.itertoolz', 'toolz.compatibility', 'toolz.utils', 'toolz.functoolz', 'toolz._signatures', 'toolz.dicttoolz', 'toolz.recipes', 'toolz.sandbox', 'toolz.sandbox.core', 'toolz.sandbox.parallel', 'cytoolz.functoolz', 'cytoolz._signatures', 'cytoolz.dicttoolz', 'cytoolz.recipes', 'cytoolz._version', 'thinc.neural.mem', 'thinc.check', 'wrapt', 'wrapt.wrappers', 'wrapt._wrappers', 'wrapt.decorators', 'wrapt.importer', 'thinc.exceptions', 'thinc.describe', 'spacy.cli', 'spacy.cli.download', 'plac', 'plac_core', 'plac_ext', 'asyncore', 'asynchat', 'requests', 'urllib3', 'urllib3.connectionpool', 'urllib3.exceptions', 'urllib3.packages', 'urllib3.packages.ssl_match_hostname', 'urllib3.packages.six', 'urllib3.packages.six.moves', 'urllib3.packages.six.moves.http_client', 'urllib3.connection', 'urllib3.util', 'urllib3.util.connection', 'urllib3.util.wait', 'urllib3.contrib', 'urllib3.contrib._appengine_environ', 'urllib3.util.request', 'urllib3.util.response', 'urllib3.util.ssl_', 'urllib3.util.timeout', 'urllib3.util.retry', 'urllib3.util.url', 'urllib3._collections', 'urllib3.request', 'urllib3.filepost', 'urllib3.fields', 'urllib3.packages.six.moves.urllib', 'urllib3.packages.six.moves.urllib.parse', 'urllib3.response', 'urllib3.util.queue', 'urllib3.poolmanager', 'chardet', 'chardet.compat', 'chardet.universaldetector', 'chardet.charsetgroupprober', 'chardet.enums', 'chardet.charsetprober', 'chardet.escprober', 'chardet.codingstatemachine', 'chardet.escsm', 'chardet.latin1prober', 'chardet.mbcsgroupprober', 'chardet.utf8prober', 'chardet.mbcssm', 'chardet.sjisprober', 'chardet.mbcharsetprober', 'chardet.chardistribution', 'chardet.euctwfreq', 'chardet.euckrfreq', 'chardet.gb2312freq', 'chardet.big5freq', 'chardet.jisfreq', 'chardet.jpcntx', 'chardet.eucjpprober', 'chardet.gb2312prober', 'chardet.euckrprober', 'chardet.cp949prober', 'chardet.big5prober', 'chardet.euctwprober', 'chardet.sbcsgroupprober', 'chardet.sbcharsetprober', 'chardet.langcyrillicmodel', 'chardet.langgreekmodel', 'chardet.langbulgarianmodel', 'chardet.langthaimodel', 'chardet.langhebrewmodel', 'chardet.hebrewprober', 'chardet.langturkishmodel', 'chardet.version', 'requests.exceptions', 'requests.__version__', 'requests.utils', 'requests.certs', 'certifi', 'certifi.core', 'requests._internal_utils', 'requests.compat', 'http.cookiejar', 'http.cookies', 'requests.cookies', 'requests.structures', 'requests.packages', 'requests.packages.urllib3', 'requests.packages.urllib3.connectionpool', 'requests.packages.urllib3.exceptions', 'requests.packages.urllib3.packages', 'requests.packages.urllib3.packages.ssl_match_hostname', 'requests.packages.urllib3.packages.six', 'requests.packages.urllib3.packages.six.moves', 'requests.packages.urllib3.packages.six.moves.http_client', 'requests.packages.urllib3.connection', 'requests.packages.urllib3.util', 'requests.packages.urllib3.util.connection', 'requests.packages.urllib3.util.wait', 'requests.packages.urllib3.contrib', 'requests.packages.urllib3.contrib._appengine_environ', 'requests.packages.urllib3.util.request', 'requests.packages.urllib3.util.response', 'requests.packages.urllib3.util.ssl_', 'requests.packages.urllib3.util.timeout', 'requests.packages.urllib3.util.retry', 'requests.packages.urllib3.util.url', 'requests.packages.urllib3._collections', 'requests.packages.urllib3.request', 'requests.packages.urllib3.filepost', 'requests.packages.urllib3.fields', 'requests.packages.urllib3.packages.six.moves.urllib', 'requests.packages.urllib3.packages.six.moves.urllib.parse', 'requests.packages.urllib3.response', 'requests.packages.urllib3.util.queue', 'requests.packages.urllib3.poolmanager', 'idna', 'idna.package_data', 'idna.core', 'idna.idnadata', 'idna.intranges', 'requests.packages.idna', 'requests.packages.idna.package_data', 'requests.packages.idna.core', 'requests.packages.idna.idnadata', 'requests.packages.idna.intranges', 'requests.packages.chardet', 'requests.packages.chardet.compat', 'requests.packages.chardet.universaldetector', 'requests.packages.chardet.charsetgroupprober', 'requests.packages.chardet.enums', 'requests.packages.chardet.charsetprober', 'requests.packages.chardet.escprober', 'requests.packages.chardet.codingstatemachine', 'requests.packages.chardet.escsm', 'requests.packages.chardet.latin1prober', 'requests.packages.chardet.mbcsgroupprober', 'requests.packages.chardet.utf8prober', 'requests.packages.chardet.mbcssm', 'requests.packages.chardet.sjisprober', 'requests.packages.chardet.mbcharsetprober', 'requests.packages.chardet.chardistribution', 'requests.packages.chardet.euctwfreq', 'requests.packages.chardet.euckrfreq', 'requests.packages.chardet.gb2312freq', 'requests.packages.chardet.big5freq', 'requests.packages.chardet.jisfreq', 'requests.packages.chardet.jpcntx', 'requests.packages.chardet.eucjpprober', 'requests.packages.chardet.gb2312prober', 'requests.packages.chardet.euckrprober', 'requests.packages.chardet.cp949prober', 'requests.packages.chardet.big5prober', 'requests.packages.chardet.euctwprober', 'requests.packages.chardet.sbcsgroupprober', 'requests.packages.chardet.sbcharsetprober', 'requests.packages.chardet.langcyrillicmodel', 'requests.packages.chardet.langgreekmodel', 'requests.packages.chardet.langbulgarianmodel', 'requests.packages.chardet.langthaimodel', 'requests.packages.chardet.langhebrewmodel', 'requests.packages.chardet.hebrewprober', 'requests.packages.chardet.langturkishmodel', 'requests.packages.chardet.version', 'requests.models', 'encodings.idna', 'stringprep', 'requests.hooks', 'requests.auth', 'requests.status_codes', 'requests.api', 'requests.sessions', 'requests.adapters', 'spacy.cli._messages', 'spacy.cli.link', 'spacy.compat', 'ujson', 'spacy.util', 'spacy.symbols', 'spacy.errors', 'spacy.about', 'spacy.cli.info', 'spacy.cli.package', 'spacy.cli.profile', 'thinc.extra', 'thinc.extra.datasets', 'thinc.extra._vendorized', 'thinc.extra._vendorized.keras_data_utils', 'thinc.extra._vendorized.keras_generic_utils', 'thinc.compat', 'spacy.cli.train', 'spacy.attrs', 'spacy.gold', 'spacy.strings', 'spacy.morphology', 'spacy.vocab', 'spacy.lexeme', 'preshed.counter', 'spacy.tokens', 'spacy.tokens.doc', 'spacy.tokens.span', 'spacy.tokens.underscore', 'spacy.tokens.token', 'spacy.parts_of_speech', 'dill', 'dill.info', 'dill._dill', '_pyio', 'dill.settings', 'dill.source', 'dill.temp', 'dill.detect', 'dill.pointers', 'dill.objtypes', 'spacy.tokens.printers', 'spacy.tokens._retokenize', 'spacy.lemmatizer', 'spacy.vectors', 'spacy._ml', 'thinc.v2v', 'thinc.neural._classes.affine', 'thinc.neural._classes.relu', 'thinc.neural._classes.maxout', 'thinc.neural._classes.softmax', 'thinc.neural._classes.selu', 'thinc.neural._lsuv', 'thinc.i2v', 'thinc.neural._classes.hash_embed', 'thinc.neural._classes.embed', 'thinc.neural._classes.static_vectors', 'thinc.extra.load_nlp', 'thinc.t2t', 'thinc.neural._classes.convolution', 'thinc.neural._classes.attention', 'thinc.neural._classes.rnn', 'thinc.api', 'thinc.t2v', 'thinc.neural.pooling', 'thinc.misc', 'thinc.neural._classes.batchnorm', 'thinc.neural._classes.layernorm', 'thinc.neural._classes.resnet', 'thinc.linear', 'thinc.linear.linear', 'spacy.syntax', 'spacy.syntax.stateclass', 'spacy.syntax.transition_system', 'spacy.syntax.nonproj', 'spacy.displacy', 'spacy.displacy.render', 'spacy.displacy.templates', 'spacy.cli.evaluate', 'spacy.cli.convert', 'spacy.cli.converters', 'spacy.cli.converters.conllu2json', 'spacy.cli.converters.conllubio2json', 'spacy.cli.converters.iob2json', 'spacy.cli.converters.conll_ner2json', 'spacy.cli.vocab', 'spacy.cli.init_model', 'ftfy', 'ftfy.bad_codecs', 'ftfy.fixes', 'ftfy.chardata', 'ftfy.bad_codecs.sloppy', 'encodings.cp1250', 'encodings.cp1251', 'encodings.cp1252', 'encodings.cp1253', 'encodings.cp1254', 'encodings.cp1255', 'encodings.cp1256', 'encodings.cp1257', 'encodings.cp1258', 'encodings.iso8859_3', 'encodings.iso8859_6', 'encodings.iso8859_7', 'encodings.iso8859_8', 'encodings.iso8859_11', 'encodings.cp874', 'encodings.iso8859_2', 'encodings.mac_roman', 'encodings.cp437', 'ftfy.badness', 'ftfy.formatting', 'spacy.cli.validate', 'spacy.glossary', 'allennlp.version', 'allennlp.nn', 'allennlp.nn.activations', 'allennlp.common', 'allennlp.common.params', 'overrides', 'overrides.overrides', 'overrides.final', '_jsonnet', 'allennlp.common.checks', 'allennlp.common.file_utils', 'boto3', 'boto3.session', 'botocore', 'botocore.session', 'botocore.configloader', 'botocore.compat', 'botocore.vendored', 'botocore.vendored.six', 'botocore.exceptions', 'botocore.vendored.requests', 'botocore.vendored.requests.packages', 'botocore.vendored.requests.packages.urllib3', 'botocore.vendored.requests.packages.urllib3.connectionpool', 'botocore.vendored.requests.packages.urllib3.exceptions', 'botocore.vendored.requests.packages.urllib3.packages', 'botocore.vendored.requests.packages.urllib3.packages.ssl_match_hostname', 'botocore.vendored.requests.packages.urllib3.packages.six', 'botocore.vendored.requests.packages.urllib3.packages.six.moves', 'botocore.vendored.requests.packages.urllib3.connection', 'botocore.vendored.requests.packages.urllib3.util', 'botocore.vendored.requests.packages.urllib3.util.connection', 'botocore.vendored.requests.packages.urllib3.util.request', 'botocore.vendored.requests.packages.urllib3.util.response', 'botocore.vendored.requests.packages.urllib3.util.ssl_', 'botocore.vendored.requests.packages.urllib3.util.timeout', 'botocore.vendored.requests.packages.urllib3.util.retry', 'botocore.vendored.requests.packages.urllib3.util.url', 'botocore.vendored.requests.packages.urllib3.request', 'botocore.vendored.requests.packages.urllib3.filepost', 'botocore.vendored.requests.packages.urllib3.fields', 'botocore.vendored.requests.packages.urllib3.response', 'botocore.vendored.requests.packages.urllib3._collections', 'botocore.vendored.requests.packages.urllib3.poolmanager', 'botocore.vendored.requests.packages.urllib3.contrib', 'botocore.vendored.requests.utils', 'cgi', 'botocore.vendored.requests.certs', 'botocore.vendored.requests.compat', 'botocore.vendored.requests.packages.chardet', 'botocore.vendored.requests.cookies', 'botocore.vendored.requests.structures', 'botocore.vendored.requests.exceptions', 'botocore.vendored.requests.models', 'botocore.vendored.requests.hooks', 'botocore.vendored.requests.auth', 'botocore.vendored.requests.status_codes', 'botocore.vendored.requests.api', 'botocore.vendored.requests.sessions', 'botocore.vendored.requests.adapters', 'botocore.vendored.six.moves', 'botocore.credentials', 'botocore.utils', 'botocore.awsrequest', 'botocore.httpsession', 'botocore.vendored.six.moves.urllib_parse', 'botocore.vendored.six.moves.urllib', 'botocore.vendored.six.moves.urllib.request', 'botocore.client', 'botocore.waiter', 'jmespath', 'jmespath.parser', 'jmespath.lexer', 'jmespath.exceptions', 'jmespath.compat', 'jmespath.ast', 'jmespath.visitor', 'jmespath.functions', 'botocore.docs', 'botocore.docs.service', 'botocore.docs.utils', 'botocore.docs.client', 'botocore.docs.method', 'botocore.docs.params', 'botocore.docs.shape', 'botocore.docs.example', 'botocore.docs.sharedexample', 'botocore.docs.waiter', 'botocore.docs.paginator', 'botocore.docs.bcdoc', 'botocore.docs.bcdoc.restdoc', 'botocore.docs.bcdoc.docstringparser', 'html.parser', '_markupbase', 'botocore.docs.bcdoc.style', 'botocore.docs.docstring', 'botocore.auth', 'botocore.hooks', 'botocore.model', 'botocore.paginate', 'botocore.args', 'botocore.serialize', 'botocore.validate', 'botocore.signers', 'botocore.config', 'botocore.endpoint', 'botocore.history', 'botocore.response', 'botocore.parsers', 'botocore.eventstream', 'botocore.discovery', 'botocore.configprovider', 'botocore.errorfactory', 'botocore.handlers', 'botocore.retryhandler', 'botocore.translate', 'botocore.loaders', 'botocore.regions', 'botocore.monitoring', 'boto3.utils', 'boto3.exceptions', 'boto3.resources', 'boto3.resources.factory', 'boto3.resources.action', 'boto3.resources.params', 'boto3.resources.response', 'boto3.resources.model', 'boto3.docs', 'boto3.docs.service', 'boto3.docs.client', 'boto3.docs.resource', 'boto3.docs.base', 'boto3.docs.action', 'boto3.docs.method', 'boto3.docs.utils', 'boto3.docs.waiter', 'boto3.docs.collection', 'boto3.docs.subresource', 'boto3.docs.attr', 'boto3.docs.docstring', 'boto3.resources.base', 'boto3.resources.collection', 'allennlp.common.tqdm', 'allennlp.common.registrable', 'allennlp.common.from_params', 'allennlp.common.tee_logger', 'allennlp.common.util', 'spacy.language', 'spacy.tokenizer', 'spacy.pipeline', 'spacy.syntax.nn_parser', 'spacy.syntax.arc_eager', 'thinc.extra.search', 'spacy.syntax._beam_utils', 'spacy.syntax.ner', 'thinc.neural._classes.difference', 'spacy.scorer', 'spacy.lang', 'spacy.lang.punctuation', 'spacy.lang.char_classes', 'spacy.lang.tokenizer_exceptions', 'spacy.lang.tag_map', 'spacy.lang.lex_attrs', 'allennlp.nn.initializers', 'allennlp.nn.regularizers', 'allennlp.nn.regularizers.regularizer', 'allennlp.nn.regularizers.regularizers', 'allennlp.nn.regularizers.regularizer_applicator', 'allennlp.nn.util', 'torch.backends.cudnn.rnn', 'matplotlib', 'matplotlib.cbook', 'matplotlib.cbook.deprecation', 'matplotlib.rcsetup', 'matplotlib.fontconfig_pattern', 'pyparsing', 'matplotlib.colors', 'matplotlib._color_data', 'cycler', 'matplotlib._version']\n"
     ]
    },
    {
     "name": "stdout",
     "output_type": "stream",
     "text": [
      "01-14 15:33 CACHEDIR=/home/labry/.cache/matplotlib\n",
      "01-14 15:33 Using fontManager instance from /home/labry/.cache/matplotlib/fontlist-v300.json\n",
      "01-14 15:33 Loaded backend module://ipykernel.pylab.backend_inline version unknown.\n",
      "01-14 15:33 Loaded backend module://ipykernel.pylab.backend_inline version unknown.\n"
     ]
    }
   ],
   "source": [
    "import matplotlib.pyplot as plt"
   ]
  },
  {
   "cell_type": "code",
   "execution_count": 19,
   "metadata": {},
   "outputs": [
    {
     "data": {
      "text/plain": [
       "[<matplotlib.lines.Line2D at 0x7f3fdb9d3278>]"
      ]
     },
     "execution_count": 19,
     "metadata": {},
     "output_type": "execute_result"
    },
    {
     "name": "stdout",
     "output_type": "stream",
     "text": [
      "01-14 15:33 update_title_pos\n",
      "01-14 15:33 findfont: Matching :family=sans-serif:style=normal:variant=normal:weight=normal:stretch=normal:size=10.0 to DejaVu Sans ('/home/labry/miniconda3/envs/nlp/lib/python3.7/site-packages/matplotlib/mpl-data/fonts/ttf/DejaVuSans.ttf') with score of 0.050000.\n",
      "01-14 15:33 findfont: Matching :family=sans-serif:style=normal:variant=normal:weight=normal:stretch=normal:size=12.0 to DejaVu Sans ('/home/labry/miniconda3/envs/nlp/lib/python3.7/site-packages/matplotlib/mpl-data/fonts/ttf/DejaVuSans.ttf') with score of 0.050000.\n",
      "01-14 15:33 update_title_pos\n",
      "01-14 15:33 update_title_pos\n",
      "01-14 15:33 update_title_pos\n",
      "01-14 15:33 update_title_pos\n"
     ]
    },
    {
     "data": {
      "image/png": "[encoded data removed]",
      "text/plain": [
       "<Figure size 432x288 with 1 Axes>"
      ]
     },
     "metadata": {
      "needs_background": "light"
     },
     "output_type": "display_data"
    }
   ],
   "source": [
    "plt.figure()\n",
    "plt.title(\"Validation Loss in Gradient Descent\")\n",
    "plt.plot(eval_loss_record)"
   ]
  },
  {
   "cell_type": "code",
   "execution_count": 20,
   "metadata": {},
   "outputs": [
    {
     "data": {
      "text/plain": [
       "[<matplotlib.lines.Line2D at 0x7f3fdb9f35c0>]"
      ]
     },
     "execution_count": 20,
     "metadata": {},
     "output_type": "execute_result"
    },
    {
     "name": "stdout",
     "output_type": "stream",
     "text": [
      "01-14 15:33 update_title_pos\n",
      "01-14 15:33 update_title_pos\n",
      "01-14 15:33 update_title_pos\n",
      "01-14 15:33 update_title_pos\n",
      "01-14 15:33 update_title_pos\n"
     ]
    },
    {
     "data": {
      "image/png": "[encoded data removed]",
      "text/plain": [
       "<Figure size 432x288 with 1 Axes>"
      ]
     },
     "metadata": {
      "needs_background": "light"
     },
     "output_type": "display_data"
    }
   ],
   "source": [
    "plt.figure()\n",
    "plt.title(\"Training Loss in Gradient Descent\")\n",
    "plt.plot(train_loss_record)"
   ]
  },
  {
   "cell_type": "markdown",
   "metadata": {},
   "source": [
    "## Checkout Performance"
   ]
  },
  {
   "cell_type": "code",
   "execution_count": 21,
   "metadata": {},
   "outputs": [
    {
     "name": "stdout",
     "output_type": "stream",
     "text": [
      "[('a', 0.11359608414018153), ('b', 0.045774916221312516), ('c', 0.048276064209158503), ('d', 0.030625384698054772), ('e', 0.024376422772170822), ('f', 0.041670493292819945), ('g', 0.017116254530888202), ('h', 0.05375221048723535), ('i', 0.06712065108008558), ('j', 0.007162467148007386), ('k', 0.005085341904975916), ('l', 0.024102859711000166), ('m', 0.03973308061317206), ('n', 0.021799067931570153), ('o', 0.07066036168944731), ('p', 0.039085322364757265), ('q', 0.0019295965921858665), ('r', 0.02630797338622219), ('s', 0.07485369261282034), ('t', 0.15950485085928112), ('u', 0.011582464607778961), ('v', 0.00669154787842076), ('w', 0.06041053999394253), ('x', 3.712641544458882e-05), ('y', 0.008524420388264144), ('z', 0.00022080447080202829)]\n"
     ]
    }
   ],
   "source": [
    "char_probs = []\n",
    "with open(tokens_csv_fp) as f:\n",
    "    lines = csv.reader(f)\n",
    "    next(lines)\n",
    "    for line in lines:\n",
    "        tok = line[0]\n",
    "        cnt = int(line[1])\n",
    "        for i in range(cnt):\n",
    "            char_probs.append(tok[0])\n",
    "char_probs = sorted(Counter(char_probs).items(), key=lambda pair: pair[0], reverse=False)\n",
    "total_cnt = 0\n",
    "for (_, cnt) in char_probs:\n",
    "    total_cnt += cnt\n",
    "for idx, (c, cnt) in enumerate(char_probs):\n",
    "    char_probs[idx] = (c, float(cnt)/float(total_cnt))\n",
    "print(char_probs)"
   ]
  },
  {
   "cell_type": "code",
   "execution_count": 22,
   "metadata": {},
   "outputs": [
    {
     "ename": "NameError",
     "evalue": "name 'second' is not defined",
     "output_type": "error",
     "traceback": [
      "\u001b[0;31m---------------------------------------------------------------------------\u001b[0m",
      "\u001b[0;31mNameError\u001b[0m                                 Traceback (most recent call last)",
      "\u001b[0;32m<ipython-input-22-9d758593a8b0>\u001b[0m in \u001b[0;36m<module>\u001b[0;34m\u001b[0m\n\u001b[1;32m     18\u001b[0m     \u001b[0;32mif\u001b[0m \u001b[0musing_GPU\u001b[0m\u001b[0;34m:\u001b[0m\u001b[0;34m\u001b[0m\u001b[0;34m\u001b[0m\u001b[0m\n\u001b[1;32m     19\u001b[0m         \u001b[0mstart\u001b[0m \u001b[0;34m=\u001b[0m \u001b[0mstart\u001b[0m\u001b[0;34m.\u001b[0m\u001b[0mcuda\u001b[0m\u001b[0;34m(\u001b[0m\u001b[0;34m)\u001b[0m\u001b[0;34m\u001b[0m\u001b[0;34m\u001b[0m\u001b[0m\n\u001b[0;32m---> 20\u001b[0;31m         \u001b[0msecond\u001b[0m \u001b[0;34m=\u001b[0m \u001b[0msecond\u001b[0m\u001b[0;34m.\u001b[0m\u001b[0mcuda\u001b[0m\u001b[0;34m(\u001b[0m\u001b[0;34m)\u001b[0m\u001b[0;34m\u001b[0m\u001b[0;34m\u001b[0m\u001b[0m\n\u001b[0m\u001b[1;32m     21\u001b[0m         \u001b[0mhidden\u001b[0m \u001b[0;34m=\u001b[0m \u001b[0;34m(\u001b[0m\u001b[0mhidden\u001b[0m\u001b[0;34m[\u001b[0m\u001b[0;36m0\u001b[0m\u001b[0;34m]\u001b[0m\u001b[0;34m.\u001b[0m\u001b[0mcuda\u001b[0m\u001b[0;34m(\u001b[0m\u001b[0;34m)\u001b[0m\u001b[0;34m,\u001b[0m \u001b[0mhidden\u001b[0m\u001b[0;34m[\u001b[0m\u001b[0;36m1\u001b[0m\u001b[0;34m]\u001b[0m\u001b[0;34m.\u001b[0m\u001b[0mcuda\u001b[0m\u001b[0;34m(\u001b[0m\u001b[0;34m)\u001b[0m\u001b[0;34m)\u001b[0m\u001b[0;34m\u001b[0m\u001b[0;34m\u001b[0m\u001b[0m\n\u001b[1;32m     22\u001b[0m     \u001b[0moutput\u001b[0m\u001b[0;34m,\u001b[0m \u001b[0mhidden\u001b[0m \u001b[0;34m=\u001b[0m \u001b[0mRNN_model\u001b[0m\u001b[0;34m.\u001b[0m\u001b[0mforward2\u001b[0m\u001b[0;34m(\u001b[0m\u001b[0mstart\u001b[0m\u001b[0;34m,\u001b[0m \u001b[0mhidden\u001b[0m\u001b[0;34m)\u001b[0m\u001b[0;34m\u001b[0m\u001b[0;34m\u001b[0m\u001b[0m\n",
      "\u001b[0;31mNameError\u001b[0m: name 'second' is not defined"
     ]
    }
   ],
   "source": [
    "RNN_model = CharLSTM(alphabet_size=alphabet_size,\n",
    "                     hidden_dim=hidden_dim,\n",
    "                     batch_size=batch_size,\n",
    "                     dropout1=dropout1, dropout2=dropout2, dropout3=dropout3)\n",
    "if using_GPU:\n",
    "    RNN_model = RNN_model.cuda()\n",
    "state = torch.load(model_path)\n",
    "RNN_model.load_state_dict(state['model'])\n",
    "RNN_model.eval()\n",
    "hidden = RNN_model.init_hidden()\n",
    "start = [torch.Tensor(np.zeros((1, alphabet_size)))]\n",
    "start = torch.stack(start)\n",
    "# second = [torch.Tensor(np.zeros((1, alphabet_size)))]\n",
    "# second[0][0][1] = 1\n",
    "# second = torch.stack(second)\n",
    "with torch.no_grad():\n",
    "    start = Variable(start)\n",
    "    if using_GPU:\n",
    "        start = start.cuda()\n",
    "        second = second.cuda()\n",
    "        hidden = (hidden[0].cuda(), hidden[1].cuda())\n",
    "    output, hidden = RNN_model.forward2(start, hidden)\n",
    "predicted_char_probs = []\n",
    "for idx, prob in enumerate(list(output.cpu().numpy()[0][0])):\n",
    "    if idx != 0:\n",
    "        predicted_char_probs.append((int2char[idx], prob))\n",
    "print(predicted_char_probs)"
   ]
  },
  {
   "cell_type": "code",
   "execution_count": null,
   "metadata": {},
   "outputs": [],
   "source": [
    "for actual, predicted in zip(char_probs, predicted_char_probs):\n",
    "    difference = predicted[1] - actual[1]\n",
    "    print('char: {} \\tactual: {:.4f}  \\tpredicted: {:.4f} \\tdifference: {:.5f}'.format(actual[0],\n",
    "                                                                                       actual[1],\n",
    "                                                                                       predicted[1],\n",
    "                                                                                       difference))"
   ]
  },
  {
   "cell_type": "code",
   "execution_count": null,
   "metadata": {},
   "outputs": [],
   "source": []
  }
 ],
 "metadata": {
  "kernelspec": {
   "display_name": "Python (other-env)",
   "language": "python",
   "name": "other-env"
  },
  "language_info": {
   "codemirror_mode": {
    "name": "ipython",
    "version": 3
   },
   "file_extension": ".py",
   "mimetype": "text/x-python",
   "name": "python",
   "nbconvert_exporter": "python",
   "pygments_lexer": "ipython3",
   "version": "3.7.1"
  }
 },
 "nbformat": 4,
 "nbformat_minor": 2
}
