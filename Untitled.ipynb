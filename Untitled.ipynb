{
 "cells": [
  {
   "cell_type": "code",
   "execution_count": 32,
   "metadata": {},
   "outputs": [],
   "source": [
    "corpus = 'brown'\n",
    "epoch_print_cycle = 50\n",
    "num_node = 500\n",
    "y_limit = 500\n",
    "markov_order = 3"
   ]
  },
  {
   "cell_type": "markdown",
   "metadata": {},
   "source": [
    "## Load RNN Model and Check Training Graph"
   ]
  },
  {
   "cell_type": "code",
   "execution_count": 33,
   "metadata": {},
   "outputs": [
    {
     "name": "stdout",
     "output_type": "stream",
     "text": [
      "01-17 22:29 Loaded backend module://ipykernel.pylab.backend_inline version unknown.\n"
     ]
    }
   ],
   "source": [
    "import torch\n",
    "%matplotlib inline\n",
    "import matplotlib.pyplot as plt\n",
    "model_path = './data/checkpoint/' + corpus + '/rnn.pkl'\n",
    "state = torch.load(model_path)\n",
    "eval_loss_record = state['eval_loss_record']\n",
    "train_loss_record = state['train_loss_record']\n",
    "epoch_print_cycle = state['epoch_print_cycle']"
   ]
  },
  {
   "cell_type": "code",
   "execution_count": 34,
   "metadata": {},
   "outputs": [
    {
     "data": {
      "text/plain": [
       "[<matplotlib.lines.Line2D at 0x7eff13944ba8>]"
      ]
     },
     "execution_count": 34,
     "metadata": {},
     "output_type": "execute_result"
    },
    {
     "name": "stdout",
     "output_type": "stream",
     "text": [
      "01-17 22:29 update_title_pos\n",
      "01-17 22:29 update_title_pos\n",
      "01-17 22:29 update_title_pos\n",
      "01-17 22:29 update_title_pos\n",
      "01-17 22:29 update_title_pos\n"
     ]
    },
    {
     "data": {
      "image/png": "[encoded data removed]",
      "text/plain": [
       "<Figure size 432x288 with 1 Axes>"
      ]
     },
     "metadata": {
      "needs_background": "light"
     },
     "output_type": "display_data"
    }
   ],
   "source": [
    "plt.figure()\n",
    "plt.title(\"Validation Loss in Gradient Descent\")\n",
    "eval_loss_xrange = [(i+1)*epoch_print_cycle for i in list(range(len(eval_loss_record)))]\n",
    "plt.xlabel(\"Epoch\")\n",
    "plt.ylabel(\"Loss\")\n",
    "plt.plot(eval_loss_xrange, eval_loss_record)"
   ]
  },
  {
   "cell_type": "code",
   "execution_count": 4,
   "metadata": {},
   "outputs": [
    {
     "data": {
      "text/plain": [
       "[<matplotlib.lines.Line2D at 0x7eff1aa06c18>]"
      ]
     },
     "execution_count": 4,
     "metadata": {},
     "output_type": "execute_result"
    },
    {
     "data": {
      "image/png": "[encoded data removed]",
      "text/plain": [
       "<Figure size 432x288 with 1 Axes>"
      ]
     },
     "metadata": {
      "needs_background": "light"
     },
     "output_type": "display_data"
    }
   ],
   "source": [
    "plt.figure()\n",
    "plt.title(\"Training Batch Loss in Gradient Descent\")\n",
    "plt.xlabel(\"Iteration\")\n",
    "plt.ylabel(\"Loss\")\n",
    "plt.plot(train_loss_record)"
   ]
  },
  {
   "cell_type": "markdown",
   "metadata": {},
   "source": [
    "## Checkout Performance"
   ]
  },
  {
   "cell_type": "code",
   "execution_count": 5,
   "metadata": {},
   "outputs": [],
   "source": [
    "from collections import Counter\n",
    "import csv\n",
    "from models import CharLSTM, Markov\n",
    "from torch.autograd import Variable\n",
    "import logging\n",
    "import numpy as np\n",
    "import sys\n",
    "import string\n",
    "import torch\n",
    "\n",
    "logging.basicConfig(level=logging.DEBUG, format='%(asctime)s %(message)s', datefmt='%m-%d %H:%M', stream=sys.stdout)\n",
    "using_GPU = torch.cuda.is_available()\n",
    "train_tokens_fp = './data/'+ corpus + '/train_tokens.txt'\n",
    "test_tokens_fp = './data/'+ corpus +'/test_tokens.txt'\n",
    "hidden_dim = 64"
   ]
  },
  {
   "cell_type": "code",
   "execution_count": 6,
   "metadata": {},
   "outputs": [
    {
     "name": "stdout",
     "output_type": "stream",
     "text": [
      "[('<END>', 0), ('a', 0.06752411575562701), ('b', 0.0552215853488047), ('c', 0.09758143436320425), ('d', 0.059555431287571646), ('e', 0.04452677198378303), ('f', 0.0441073675380959), ('g', 0.0327135467635957), ('h', 0.03669788899762338), ('i', 0.039983223822172516), ('j', 0.010345309660282399), ('k', 0.008667691877533901), ('l', 0.03383195861876136), ('m', 0.0552215853488047), ('n', 0.019082902278764156), ('o', 0.0241856563679575), ('p', 0.07898783727107507), ('q', 0.0037047392702362647), ('r', 0.0596253320285195), ('s', 0.11261009366699287), ('t', 0.051027540891933454), ('u', 0.01740528449601566), ('v', 0.014749056339997204), ('w', 0.02782049489724591), ('x', 0.00020970222284356213), ('y', 0.0035649377883405563), ('z', 0.0010485111142178108)]\n"
     ]
    }
   ],
   "source": [
    "char_probs = []\n",
    "first_char_test = []\n",
    "with open(test_tokens_fp) as f:\n",
    "    test_tokens = f.readlines()\n",
    "    test_tokens = [x.strip() for x in test_tokens] \n",
    "    for tok in test_tokens:\n",
    "        first_char_test.append(tok[0])\n",
    "first_char_test = sorted(Counter(first_char_test).items(), key=lambda pair: pair[0], reverse=False)\n",
    "total_cnt = 0\n",
    "for (_, cnt) in first_char_test:\n",
    "    total_cnt += cnt\n",
    "char_probs.append(tuple([\"<END>\", 0]))\n",
    "for idx, (c, cnt) in enumerate(first_char_test):\n",
    "    char_probs.append(tuple([c, float(cnt)/float(total_cnt)]))\n",
    "print(char_probs)"
   ]
  },
  {
   "cell_type": "code",
   "execution_count": 7,
   "metadata": {},
   "outputs": [
    {
     "name": "stdout",
     "output_type": "stream",
     "text": [
      "[('<END>', 0.0003000951), ('a', 0.06392952), ('b', 0.060848612), ('c', 0.0954593), ('d', 0.059004825), ('e', 0.042024318), ('f', 0.042132374), ('g', 0.033636995), ('h', 0.038175102), ('i', 0.041003603), ('j', 0.010611073), ('k', 0.011629208), ('l', 0.03392166), ('m', 0.053383477), ('n', 0.020706993), ('o', 0.022834567), ('p', 0.075965345), ('q', 0.0040999474), ('r', 0.055733256), ('s', 0.11244832), ('t', 0.04957841), ('u', 0.02327131), ('v', 0.016249262), ('w', 0.027107282), ('x', 0.00020972468), ('y', 0.0037960229), ('z', 0.0019392859)]\n"
     ]
    }
   ],
   "source": [
    "alphabets = list(string.ascii_lowercase)\n",
    "alphabet_size = len(alphabets) + 2\n",
    "int2char = dict(enumerate(alphabets, start=2))\n",
    "int2char[0] = '<PAD>'\n",
    "int2char[1] = '<END>'\n",
    "RNN_model = CharLSTM(alphabet_size=alphabet_size,\n",
    "                     hidden_dim=hidden_dim)\n",
    "if using_GPU:\n",
    "    RNN_model = RNN_model.cuda()\n",
    "state = torch.load(model_path)\n",
    "RNN_model.load_state_dict(state['model'])\n",
    "RNN_model.eval()\n",
    "hidden = RNN_model.init_hidden()\n",
    "start = [torch.Tensor(np.zeros((1, alphabet_size)))]\n",
    "start = torch.stack(start)\n",
    "with torch.no_grad():\n",
    "    start = Variable(start)\n",
    "    if using_GPU:\n",
    "        start = start.cuda()\n",
    "        hidden = (hidden[0].cuda(), hidden[1].cuda())\n",
    "    output, hidden = RNN_model.forward2(start, hidden)\n",
    "predicted_char_probs = []\n",
    "pad_prob = 0\n",
    "for idx, prob in enumerate(list(output.cpu().numpy()[0][0])):\n",
    "    if idx == 1:\n",
    "        prob += pad_prob\n",
    "    if idx != 0:\n",
    "        predicted_char_probs.append((int2char[idx], prob))\n",
    "    else:\n",
    "        pad_prob = prob\n",
    "print(predicted_char_probs)"
   ]
  },
  {
   "cell_type": "code",
   "execution_count": 8,
   "metadata": {},
   "outputs": [
    {
     "name": "stdout",
     "output_type": "stream",
     "text": [
      "01-17 22:23 Comparing Actual Probabilities of the First Character with Predicted Probabilities by LSTM\n",
      "char: <END> \tactual: 0.00000  \tpredicted: 0.00030 \tdifference: 0.00030\n",
      "char: a \tactual: 0.06752  \tpredicted: 0.06393 \tdifference: -0.00359\n",
      "char: b \tactual: 0.05522  \tpredicted: 0.06085 \tdifference: 0.00563\n",
      "char: c \tactual: 0.09758  \tpredicted: 0.09546 \tdifference: -0.00212\n",
      "char: d \tactual: 0.05956  \tpredicted: 0.05900 \tdifference: -0.00055\n",
      "char: e \tactual: 0.04453  \tpredicted: 0.04202 \tdifference: -0.00250\n",
      "char: f \tactual: 0.04411  \tpredicted: 0.04213 \tdifference: -0.00197\n",
      "char: g \tactual: 0.03271  \tpredicted: 0.03364 \tdifference: 0.00092\n",
      "char: h \tactual: 0.03670  \tpredicted: 0.03818 \tdifference: 0.00148\n",
      "char: i \tactual: 0.03998  \tpredicted: 0.04100 \tdifference: 0.00102\n",
      "char: j \tactual: 0.01035  \tpredicted: 0.01061 \tdifference: 0.00027\n",
      "char: k \tactual: 0.00867  \tpredicted: 0.01163 \tdifference: 0.00296\n",
      "char: l \tactual: 0.03383  \tpredicted: 0.03392 \tdifference: 0.00009\n",
      "char: m \tactual: 0.05522  \tpredicted: 0.05338 \tdifference: -0.00184\n",
      "char: n \tactual: 0.01908  \tpredicted: 0.02071 \tdifference: 0.00162\n",
      "char: o \tactual: 0.02419  \tpredicted: 0.02283 \tdifference: -0.00135\n",
      "char: p \tactual: 0.07899  \tpredicted: 0.07597 \tdifference: -0.00302\n",
      "char: q \tactual: 0.00370  \tpredicted: 0.00410 \tdifference: 0.00040\n",
      "char: r \tactual: 0.05963  \tpredicted: 0.05573 \tdifference: -0.00389\n",
      "char: s \tactual: 0.11261  \tpredicted: 0.11245 \tdifference: -0.00016\n",
      "char: t \tactual: 0.05103  \tpredicted: 0.04958 \tdifference: -0.00145\n",
      "char: u \tactual: 0.01741  \tpredicted: 0.02327 \tdifference: 0.00587\n",
      "char: v \tactual: 0.01475  \tpredicted: 0.01625 \tdifference: 0.00150\n",
      "char: w \tactual: 0.02782  \tpredicted: 0.02711 \tdifference: -0.00071\n",
      "char: x \tactual: 0.00021  \tpredicted: 0.00021 \tdifference: 0.00000\n",
      "char: y \tactual: 0.00356  \tpredicted: 0.00380 \tdifference: 0.00023\n",
      "char: z \tactual: 0.00105  \tpredicted: 0.00194 \tdifference: 0.00089\n",
      "01-17 22:23 Standard Deviation: 0.01204\n"
     ]
    }
   ],
   "source": [
    "std_dev = 0\n",
    "logging.info(\"Comparing Actual Probabilities of the First Character with Predicted Probabilities by LSTM\")\n",
    "for actual, predicted in zip(char_probs, predicted_char_probs):\n",
    "    difference = predicted[1] - actual[1]\n",
    "    std_dev += difference * difference\n",
    "    print('char: {} \\tactual: {:.5f}  \\tpredicted: {:.5f} \\tdifference: {:.5f}'.format(actual[0],\n",
    "                                                                                       actual[1],\n",
    "                                                                                       predicted[1],\n",
    "                                                                                       difference))\n",
    "import math\n",
    "std_dev = math.sqrt(std_dev)\n",
    "logging.info('Standard Deviation: {:.5f}'.format(std_dev))"
   ]
  },
  {
   "cell_type": "markdown",
   "metadata": {},
   "source": [
    "## Markov Chain"
   ]
  },
  {
   "cell_type": "code",
   "execution_count": 9,
   "metadata": {},
   "outputs": [
    {
     "name": "stdout",
     "output_type": "stream",
     "text": [
      "[('<END>', 2.5771203257480092e-05), ('a', 0.06337138881014355), ('b', 0.06071695487462309), ('c', 0.09561116408525114), ('d', 0.05888719944334201), ('e', 0.04203283251295003), ('f', 0.04218745973249491), ('g', 0.03360564904775404), ('h', 0.03811560961781305), ('i', 0.041156611602195706), ('j', 0.010514650929051877), ('k', 0.011751668685410922), ('l', 0.0337860474705564), ('m', 0.05344947555601371), ('n', 0.020539648996211635), ('o', 0.023142540525217123), ('p', 0.07602504960956627), ('q', 0.004149163724454295), ('r', 0.05574311264592944), ('s', 0.11259438703193052), ('t', 0.049686879880421614), ('u', 0.023219854134989563), ('v', 0.016210086848954978), ('w', 0.027162848233384017), ('x', 0.00023194082931732082), ('y', 0.004046078911424374), ('z', 0.002035925057340927)]\n"
     ]
    }
   ],
   "source": [
    "from models import Markov\n",
    "\n",
    "alphabets = list(string.ascii_lowercase)\n",
    "alphabet_size = len(alphabets) + 1\n",
    "int2char = dict(enumerate(alphabets, start=1))\n",
    "int2char[0] = '<PAD>'\n",
    "char2int = {char: index for index, char in int2char.items()}\n",
    "\n",
    "with open(train_tokens_fp) as f:\n",
    "    train_tokens = f.readlines()\n",
    "    train_tokens = [x.strip() for x in train_tokens] \n",
    "mc = Markov(markov_order)\n",
    "mc.learn(train_tokens)\n",
    "markov_char_probs = mc.get_probs('')\n",
    "print(markov_char_probs)"
   ]
  },
  {
   "cell_type": "code",
   "execution_count": 10,
   "metadata": {},
   "outputs": [
    {
     "name": "stdout",
     "output_type": "stream",
     "text": [
      "01-17 22:23 Comparing Actual Probabilities of the First Character with Predicted Probabilities by Markov Chain\n",
      "char: <END> \tactual: 0.00000  \tpredicted: 0.00003 \tdifference: 0.00003\n",
      "char: a \tactual: 0.06747  \tpredicted: 0.06337 \tdifference: -0.00410\n",
      "char: b \tactual: 0.05519  \tpredicted: 0.06072 \tdifference: 0.00553\n",
      "char: c \tactual: 0.09747  \tpredicted: 0.09561 \tdifference: -0.00186\n",
      "char: d \tactual: 0.05951  \tpredicted: 0.05889 \tdifference: -0.00063\n",
      "char: e \tactual: 0.04451  \tpredicted: 0.04203 \tdifference: -0.00248\n",
      "char: f \tactual: 0.04409  \tpredicted: 0.04219 \tdifference: -0.00191\n",
      "char: g \tactual: 0.03272  \tpredicted: 0.03361 \tdifference: 0.00088\n",
      "char: h \tactual: 0.03670  \tpredicted: 0.03812 \tdifference: 0.00142\n",
      "char: i \tactual: 0.03998  \tpredicted: 0.04116 \tdifference: 0.00118\n",
      "char: j \tactual: 0.01040  \tpredicted: 0.01051 \tdifference: 0.00012\n",
      "char: k \tactual: 0.00872  \tpredicted: 0.01175 \tdifference: 0.00303\n",
      "char: l \tactual: 0.03384  \tpredicted: 0.03379 \tdifference: -0.00005\n",
      "char: m \tactual: 0.05519  \tpredicted: 0.05345 \tdifference: -0.00174\n",
      "char: n \tactual: 0.01912  \tpredicted: 0.02054 \tdifference: 0.00142\n",
      "char: o \tactual: 0.02421  \tpredicted: 0.02314 \tdifference: -0.00107\n",
      "char: p \tactual: 0.07891  \tpredicted: 0.07603 \tdifference: -0.00288\n",
      "char: q \tactual: 0.00377  \tpredicted: 0.00415 \tdifference: 0.00038\n",
      "char: r \tactual: 0.05958  \tpredicted: 0.05574 \tdifference: -0.00384\n",
      "char: s \tactual: 0.11247  \tpredicted: 0.11259 \tdifference: 0.00013\n",
      "char: t \tactual: 0.05100  \tpredicted: 0.04969 \tdifference: -0.00131\n",
      "char: u \tactual: 0.01744  \tpredicted: 0.02322 \tdifference: 0.00578\n",
      "char: v \tactual: 0.01479  \tpredicted: 0.01621 \tdifference: 0.00142\n",
      "char: w \tactual: 0.02784  \tpredicted: 0.02716 \tdifference: -0.00068\n",
      "char: x \tactual: 0.00028  \tpredicted: 0.00023 \tdifference: -0.00005\n",
      "char: y \tactual: 0.00363  \tpredicted: 0.00405 \tdifference: 0.00042\n",
      "char: z \tactual: 0.00112  \tpredicted: 0.00204 \tdifference: 0.00092\n",
      "01-17 22:23 Standard Deviation: 0.01193\n"
     ]
    }
   ],
   "source": [
    "char_probs = []\n",
    "first_char_test = []\n",
    "with open(test_tokens_fp) as f:\n",
    "    test_tokens = f.readlines()\n",
    "    test_tokens = [x.strip() for x in test_tokens] \n",
    "    for tok in test_tokens:\n",
    "        first_char_test.append(tok[0])\n",
    "first_char_test = sorted(Counter(first_char_test).items(), key=lambda pair: pair[0], reverse=False)\n",
    "total_cnt = 0\n",
    "for (_, cnt) in first_char_test:\n",
    "    total_cnt += cnt\n",
    "char_probs.append(tuple([\"<END>\", 0]))\n",
    "for idx, (c, cnt) in enumerate(first_char_test):\n",
    "    char_probs.append(tuple([c, (1 + float(cnt))/(float(total_cnt) + alphabet_size)]))\n",
    "\n",
    "std_dev = 0\n",
    "logging.info(\"Comparing Actual Probabilities of the First Character with Predicted Probabilities by Markov Chain\")\n",
    "for actual, predicted in zip(char_probs, markov_char_probs):\n",
    "    difference = predicted[1] - actual[1]\n",
    "    std_dev += difference * difference\n",
    "    print('char: {} \\tactual: {:.5f}  \\tpredicted: {:.5f} \\tdifference: {:.5f}'.format(actual[0],\n",
    "                                                                                       actual[1],\n",
    "                                                                                       predicted[1],\n",
    "                                                                                       difference))\n",
    "import math\n",
    "std_dev = math.sqrt(std_dev)\n",
    "logging.info('Standard Deviation: {:.5f}'.format(std_dev))"
   ]
  },
  {
   "cell_type": "markdown",
   "metadata": {},
   "source": [
    "## Token -> Position from [0, 1]"
   ]
  },
  {
   "cell_type": "code",
   "execution_count": 11,
   "metadata": {},
   "outputs": [],
   "source": [
    "from models import RNN_Map, Markov_Map\n",
    "from tqdm import tqdm\n",
    "from util import get_stddev\n",
    "using_GPU = torch.cuda.is_available()\n",
    "rnn_map = RNN_Map(model_path, num_node, using_GPU)"
   ]
  },
  {
   "cell_type": "code",
   "execution_count": 12,
   "metadata": {},
   "outputs": [
    {
     "name": "stdout",
     "output_type": "stream",
     "text": [
      "419\n"
     ]
    }
   ],
   "source": [
    "print(rnn_map.get_node('south'))"
   ]
  },
  {
   "cell_type": "code",
   "execution_count": 13,
   "metadata": {},
   "outputs": [],
   "source": [
    "markov_map = Markov_Map(3, train_tokens_fp, num_node)"
   ]
  },
  {
   "cell_type": "code",
   "execution_count": 14,
   "metadata": {},
   "outputs": [
    {
     "name": "stdout",
     "output_type": "stream",
     "text": [
      "415\n"
     ]
    }
   ],
   "source": [
    "print(markov_map.get_node('south'))"
   ]
  },
  {
   "cell_type": "code",
   "execution_count": 15,
   "metadata": {},
   "outputs": [],
   "source": [
    "token_counter = []\n",
    "with open(test_tokens_fp) as f:\n",
    "    test_tokens = f.readlines()\n",
    "    test_tokens = [x.strip() for x in test_tokens] "
   ]
  },
  {
   "cell_type": "code",
   "execution_count": 16,
   "metadata": {},
   "outputs": [
    {
     "name": "stderr",
     "output_type": "stream",
     "text": [
      "100%|██████████| 14306/14306 [00:05<00:00, 2812.87it/s]\n"
     ]
    }
   ],
   "source": [
    "cnt_per_node = [0] * num_node\n",
    "for token in tqdm(test_tokens):\n",
    "    node_num = markov_map.get_node(token)\n",
    "    cnt_per_node[node_num - 1] += 1"
   ]
  },
  {
   "cell_type": "code",
   "execution_count": 17,
   "metadata": {},
   "outputs": [
    {
     "name": "stdout",
     "output_type": "stream",
     "text": [
      "01-17 22:23 Loaded backend module://ipykernel.pylab.backend_inline version unknown.\n"
     ]
    }
   ],
   "source": [
    "%matplotlib inline\n",
    "import matplotlib.pyplot as plt"
   ]
  },
  {
   "cell_type": "code",
   "execution_count": 18,
   "metadata": {},
   "outputs": [
    {
     "data": {
      "text/plain": [
       "[<matplotlib.lines.Line2D at 0x7eff138e5a90>]"
      ]
     },
     "execution_count": 18,
     "metadata": {},
     "output_type": "execute_result"
    },
    {
     "name": "stdout",
     "output_type": "stream",
     "text": [
      "01-17 22:23 update_title_pos\n",
      "01-17 22:23 update_title_pos\n",
      "01-17 22:23 update_title_pos\n",
      "01-17 22:23 update_title_pos\n",
      "01-17 22:23 update_title_pos\n"
     ]
    },
    {
     "data": {
      "image/png": "[encoded data removed]",
      "text/plain": [
       "<Figure size 432x288 with 1 Axes>"
      ]
     },
     "metadata": {
      "needs_background": "light"
     },
     "output_type": "display_data"
    }
   ],
   "source": [
    "plt.figure()\n",
    "plt.title(\"Zipf distirbution from Markov Chain based Mapper\")\n",
    "zipf_xrange = [i+1 for i in list(range(500))]\n",
    "plt.xlabel(\"Iteration\")\n",
    "plt.ylabel(\"Loss\")\n",
    "plt.ylim(top=y_limit)\n",
    "plt.plot(zipf_xrange, cnt_per_node)"
   ]
  },
  {
   "cell_type": "code",
   "execution_count": 19,
   "metadata": {},
   "outputs": [
    {
     "name": "stdout",
     "output_type": "stream",
     "text": [
      "1.3919625085942622\n"
     ]
    }
   ],
   "source": [
    "std_dev = get_stddev(num_node, len(test_tokens), cnt_per_node)\n",
    "print(std_dev)"
   ]
  },
  {
   "cell_type": "code",
   "execution_count": 20,
   "metadata": {},
   "outputs": [
    {
     "name": "stderr",
     "output_type": "stream",
     "text": [
      "100%|██████████| 14306/14306 [00:50<00:00, 285.35it/s]\n"
     ]
    }
   ],
   "source": [
    "cnt_per_node = [0] * num_node\n",
    "for token in tqdm(test_tokens):\n",
    "    node_num = rnn_map.get_node(token)\n",
    "    cnt_per_node[node_num - 1] += 1"
   ]
  },
  {
   "cell_type": "code",
   "execution_count": 21,
   "metadata": {},
   "outputs": [
    {
     "data": {
      "text/plain": [
       "[<matplotlib.lines.Line2D at 0x7eff147cae80>]"
      ]
     },
     "execution_count": 21,
     "metadata": {},
     "output_type": "execute_result"
    },
    {
     "name": "stdout",
     "output_type": "stream",
     "text": [
      "01-17 22:24 update_title_pos\n",
      "01-17 22:24 update_title_pos\n",
      "01-17 22:24 update_title_pos\n",
      "01-17 22:24 update_title_pos\n",
      "01-17 22:24 update_title_pos\n"
     ]
    },
    {
     "data": {
      "image/png": "[encoded data removed]",
      "text/plain": [
       "<Figure size 432x288 with 1 Axes>"
      ]
     },
     "metadata": {
      "needs_background": "light"
     },
     "output_type": "display_data"
    }
   ],
   "source": [
    "plt.figure()\n",
    "plt.title(\"Zipf distirbution from RNN based Mapper\")\n",
    "zipf_xrange = [i+1 for i in list(range(num_node))]\n",
    "plt.xlabel(\"Iteration\")\n",
    "plt.ylabel(\"Loss\")\n",
    "plt.ylim(top=y_limit)\n",
    "plt.plot(zipf_xrange, cnt_per_node)"
   ]
  },
  {
   "cell_type": "code",
   "execution_count": 22,
   "metadata": {},
   "outputs": [
    {
     "name": "stdout",
     "output_type": "stream",
     "text": [
      "2.020631873079202\n"
     ]
    }
   ],
   "source": [
    "std_dev = get_stddev(num_node, len(test_tokens), cnt_per_node)\n",
    "print(std_dev)"
   ]
  },
  {
   "cell_type": "code",
   "execution_count": null,
   "metadata": {},
   "outputs": [],
   "source": []
  }
 ],
 "metadata": {
  "kernelspec": {
   "display_name": "Python (other-env)",
   "language": "python",
   "name": "other-env"
  },
  "language_info": {
   "codemirror_mode": {
    "name": "ipython",
    "version": 3
   },
   "file_extension": ".py",
   "mimetype": "text/x-python",
   "name": "python",
   "nbconvert_exporter": "python",
   "pygments_lexer": "ipython3",
   "version": "3.7.1"
  }
 },
 "nbformat": 4,
 "nbformat_minor": 2
}
