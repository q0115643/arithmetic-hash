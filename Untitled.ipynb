{
 "cells": [
  {
   "cell_type": "markdown",
   "metadata": {},
   "source": [
    "## Load RNN Model and Check Training Graph"
   ]
  },
  {
   "cell_type": "code",
   "execution_count": 1,
   "metadata": {},
   "outputs": [],
   "source": [
    "import torch\n",
    "%matplotlib inline\n",
    "import matplotlib.pyplot as plt\n",
    "model_path = './data/checkpoint/rnn.pkl'\n",
    "iter_print_cycle = 50\n",
    "state = torch.load(model_path)\n",
    "eval_loss_record = state['eval_loss_record']\n",
    "train_loss_record = state['train_loss_record']"
   ]
  },
  {
   "cell_type": "code",
   "execution_count": 2,
   "metadata": {},
   "outputs": [
    {
     "data": {
      "text/plain": [
       "[<matplotlib.lines.Line2D at 0x7f3dcc06b080>]"
      ]
     },
     "execution_count": 2,
     "metadata": {},
     "output_type": "execute_result"
    },
    {
     "data": {
      "image/png": "[encoded data removed]",
      "text/plain": [
       "<Figure size 432x288 with 1 Axes>"
      ]
     },
     "metadata": {
      "needs_background": "light"
     },
     "output_type": "display_data"
    }
   ],
   "source": [
    "plt.figure()\n",
    "plt.title(\"Validation Loss in Gradient Descent\")\n",
    "eval_loss_xrange = [(i+1)*iter_print_cycle for i in list(range(len(eval_loss_record)))]\n",
    "plt.xlabel(\"Iteration\")\n",
    "plt.ylabel(\"Loss\")\n",
    "plt.plot(eval_loss_xrange, eval_loss_record)"
   ]
  },
  {
   "cell_type": "code",
   "execution_count": 3,
   "metadata": {},
   "outputs": [
    {
     "data": {
      "text/plain": [
       "[<matplotlib.lines.Line2D at 0x7f3d979c0dd8>]"
      ]
     },
     "execution_count": 3,
     "metadata": {},
     "output_type": "execute_result"
    },
    {
     "data": {
      "image/png": "[encoded data removed]",
      "text/plain": [
       "<Figure size 432x288 with 1 Axes>"
      ]
     },
     "metadata": {
      "needs_background": "light"
     },
     "output_type": "display_data"
    }
   ],
   "source": [
    "plt.figure()\n",
    "plt.title(\"Training Batch Loss in Gradient Descent\")\n",
    "plt.xlabel(\"Iteration\")\n",
    "plt.ylabel(\"Loss\")\n",
    "plt.plot(train_loss_record)"
   ]
  },
  {
   "cell_type": "markdown",
   "metadata": {},
   "source": [
    "## Checkout Performance"
   ]
  },
  {
   "cell_type": "code",
   "execution_count": 4,
   "metadata": {},
   "outputs": [],
   "source": [
    "from collections import Counter\n",
    "import csv\n",
    "from models import CharLSTM, Markov\n",
    "from torch.autograd import Variable\n",
    "import logging\n",
    "import numpy as np\n",
    "import sys\n",
    "import string\n",
    "import torch\n",
    "\n",
    "logging.basicConfig(level=logging.DEBUG, format='%(asctime)s %(message)s', datefmt='%m-%d %H:%M', stream=sys.stdout)\n",
    "using_GPU = torch.cuda.is_available()\n",
    "test_tokens_csv_fp = './data/test_tokens.csv'\n",
    "train_tokens_csv_fp = './data/train_tokens.csv'\n",
    "hidden_dim = 64\n",
    "model_path = './data/checkpoint/rnn.pkl'"
   ]
  },
  {
   "cell_type": "code",
   "execution_count": 5,
   "metadata": {},
   "outputs": [
    {
     "name": "stdout",
     "output_type": "stream",
     "text": [
      "[('a', 0.11241487792248395), ('b', 0.04624192744716813), ('c', 0.0482350297499829), ('d', 0.032397682530067515), ('e', 0.024708606489306617), ('f', 0.04220687229490098), ('g', 0.016980450011235625), ('h', 0.052934452336521644), ('i', 0.06549881293171671), ('j', 0.007347122214297578), ('k', 0.005158617724932342), ('l', 0.024776997254599278), ('m', 0.03959825310445224), ('n', 0.02174826336306703), ('o', 0.07097984426445732), ('p', 0.039236759059333874), ('q', 0.0019149414281945814), ('r', 0.026418375621623205), ('s', 0.07535685324318779), ('t', 0.15910623039871816), ('u', 0.01160688988109777), ('v', 0.006585053686750755), ('w', 0.059841919631080674), ('x', 3.90804373100935e-05), ('y', 0.008392523912342579), ('z', 0.0002735630611706545)]\n"
     ]
    }
   ],
   "source": [
    "char_probs = []\n",
    "with open(test_tokens_csv_fp) as f:\n",
    "    lines = csv.reader(f)\n",
    "    next(lines)\n",
    "    for line in lines:\n",
    "        tok = line[0]\n",
    "        cnt = int(line[1])\n",
    "        for i in range(cnt):\n",
    "            char_probs.append(tok[0])\n",
    "char_probs = sorted(Counter(char_probs).items(), key=lambda pair: pair[0], reverse=False)\n",
    "total_cnt = 0\n",
    "for (_, cnt) in char_probs:\n",
    "    total_cnt += cnt\n",
    "for idx, (c, cnt) in enumerate(char_probs):\n",
    "    char_probs[idx] = (c, float(cnt)/float(total_cnt))\n",
    "print(char_probs)"
   ]
  },
  {
   "cell_type": "code",
   "execution_count": 6,
   "metadata": {},
   "outputs": [
    {
     "name": "stdout",
     "output_type": "stream",
     "text": [
      "[('a', 0.11412509), ('b', 0.045754034), ('c', 0.048151206), ('d', 0.030508), ('e', 0.024057586), ('f', 0.041576445), ('g', 0.017265597), ('h', 0.05386081), ('i', 0.06727507), ('j', 0.0070682694), ('k', 0.0051208036), ('l', 0.02411191), ('m', 0.03933416), ('n', 0.022063836), ('o', 0.070853546), ('p', 0.03860916), ('q', 0.0019301559), ('r', 0.02620434), ('s', 0.07505569), ('t', 0.15994309), ('u', 0.011529333), ('v', 0.006783167), ('w', 0.060113043), ('x', 9.280002e-05), ('y', 0.0083270185), ('z', 0.0002496539)]\n"
     ]
    }
   ],
   "source": [
    "alphabets = list(string.ascii_lowercase)\n",
    "alphabet_size = len(alphabets) + 1\n",
    "int2char = dict(enumerate(alphabets, start=1))\n",
    "int2char[0] = '<PAD>'\n",
    "RNN_model = CharLSTM(alphabet_size=alphabet_size,\n",
    "                     hidden_dim=hidden_dim)\n",
    "if using_GPU:\n",
    "    RNN_model = RNN_model.cuda()\n",
    "state = torch.load(model_path)\n",
    "RNN_model.load_state_dict(state['model'])\n",
    "RNN_model.eval()\n",
    "hidden = RNN_model.init_hidden()\n",
    "start = [torch.Tensor(np.zeros((1, alphabet_size)))]\n",
    "start = torch.stack(start)\n",
    "with torch.no_grad():\n",
    "    start = Variable(start)\n",
    "    if using_GPU:\n",
    "        start = start.cuda()\n",
    "        hidden = (hidden[0].cuda(), hidden[1].cuda())\n",
    "    output, hidden = RNN_model.forward2(start, hidden)\n",
    "predicted_char_probs = []\n",
    "for idx, prob in enumerate(list(output.cpu().numpy()[0][0])):\n",
    "    if idx != 0:\n",
    "        predicted_char_probs.append((int2char[idx], prob))\n",
    "print(predicted_char_probs)"
   ]
  },
  {
   "cell_type": "code",
   "execution_count": 7,
   "metadata": {},
   "outputs": [
    {
     "name": "stdout",
     "output_type": "stream",
     "text": [
      "01-16 20:46 Comparing Actual Probabilities of the First Character with Predicted Probabilities by LSTM\n",
      "char: a \tactual: 0.11241  \tpredicted: 0.11413 \tdifference: 0.00171\n",
      "char: b \tactual: 0.04624  \tpredicted: 0.04575 \tdifference: -0.00049\n",
      "char: c \tactual: 0.04824  \tpredicted: 0.04815 \tdifference: -0.00008\n",
      "char: d \tactual: 0.03240  \tpredicted: 0.03051 \tdifference: -0.00189\n",
      "char: e \tactual: 0.02471  \tpredicted: 0.02406 \tdifference: -0.00065\n",
      "char: f \tactual: 0.04221  \tpredicted: 0.04158 \tdifference: -0.00063\n",
      "char: g \tactual: 0.01698  \tpredicted: 0.01727 \tdifference: 0.00029\n",
      "char: h \tactual: 0.05293  \tpredicted: 0.05386 \tdifference: 0.00093\n",
      "char: i \tactual: 0.06550  \tpredicted: 0.06728 \tdifference: 0.00178\n",
      "char: j \tactual: 0.00735  \tpredicted: 0.00707 \tdifference: -0.00028\n",
      "char: k \tactual: 0.00516  \tpredicted: 0.00512 \tdifference: -0.00004\n",
      "char: l \tactual: 0.02478  \tpredicted: 0.02411 \tdifference: -0.00067\n",
      "char: m \tactual: 0.03960  \tpredicted: 0.03933 \tdifference: -0.00026\n",
      "char: n \tactual: 0.02175  \tpredicted: 0.02206 \tdifference: 0.00032\n",
      "char: o \tactual: 0.07098  \tpredicted: 0.07085 \tdifference: -0.00013\n",
      "char: p \tactual: 0.03924  \tpredicted: 0.03861 \tdifference: -0.00063\n",
      "char: q \tactual: 0.00191  \tpredicted: 0.00193 \tdifference: 0.00002\n",
      "char: r \tactual: 0.02642  \tpredicted: 0.02620 \tdifference: -0.00021\n",
      "char: s \tactual: 0.07536  \tpredicted: 0.07506 \tdifference: -0.00030\n",
      "char: t \tactual: 0.15911  \tpredicted: 0.15994 \tdifference: 0.00084\n",
      "char: u \tactual: 0.01161  \tpredicted: 0.01153 \tdifference: -0.00008\n",
      "char: v \tactual: 0.00659  \tpredicted: 0.00678 \tdifference: 0.00020\n",
      "char: w \tactual: 0.05984  \tpredicted: 0.06011 \tdifference: 0.00027\n",
      "char: x \tactual: 0.00004  \tpredicted: 0.00009 \tdifference: 0.00005\n",
      "char: y \tactual: 0.00839  \tpredicted: 0.00833 \tdifference: -0.00007\n",
      "char: z \tactual: 0.00027  \tpredicted: 0.00025 \tdifference: -0.00002\n"
     ]
    }
   ],
   "source": [
    "logging.info(\"Comparing Actual Probabilities of the First Character with Predicted Probabilities by LSTM\")\n",
    "for actual, predicted in zip(char_probs, predicted_char_probs):\n",
    "    difference = predicted[1] - actual[1]\n",
    "    print('char: {} \\tactual: {:.5f}  \\tpredicted: {:.5f} \\tdifference: {:.5f}'.format(actual[0],\n",
    "                                                                                       actual[1],\n",
    "                                                                                       predicted[1],\n",
    "                                                                                       difference))"
   ]
  },
  {
   "cell_type": "markdown",
   "metadata": {},
   "source": [
    "## Markov Chain"
   ]
  },
  {
   "cell_type": "code",
   "execution_count": 8,
   "metadata": {},
   "outputs": [],
   "source": [
    "from models import Markov\n",
    "\n",
    "alphabets = list(string.ascii_lowercase)\n",
    "alphabet_size = len(alphabets) + 1\n",
    "int2char = dict(enumerate(alphabets, start=1))\n",
    "int2char[0] = '<PAD>'\n",
    "char2int = {char: index for index, char in int2char.items()}\n",
    "\n",
    "train_token_counter = []\n",
    "with open(train_tokens_csv_fp) as f:\n",
    "    lines = csv.reader(f)\n",
    "    next(lines)\n",
    "    for line in lines:\n",
    "        tok = line[0]\n",
    "        cnt = int(line[1])\n",
    "        train_token_counter.append(tuple([tok, cnt]))\n",
    "mc = Markov(3)\n",
    "mc.learn(train_token_counter)\n",
    "markov_char_probs = mc.get_probs('')"
   ]
  },
  {
   "cell_type": "code",
   "execution_count": 9,
   "metadata": {},
   "outputs": [
    {
     "name": "stdout",
     "output_type": "stream",
     "text": [
      "01-16 20:46 Comparing Actual Probabilities of the First Character with Predicted Probabilities by Markov Chain\n",
      "char: a \tactual: 0.11241  \tpredicted: 0.11373 \tdifference: 0.00131\n",
      "char: b \tactual: 0.04624  \tpredicted: 0.04572 \tdifference: -0.00052\n",
      "char: c \tactual: 0.04824  \tpredicted: 0.04828 \tdifference: 0.00005\n",
      "char: d \tactual: 0.03240  \tpredicted: 0.03043 \tdifference: -0.00197\n",
      "char: e \tactual: 0.02471  \tpredicted: 0.02434 \tdifference: -0.00037\n",
      "char: f \tactual: 0.04221  \tpredicted: 0.04161 \tdifference: -0.00060\n",
      "char: g \tactual: 0.01698  \tpredicted: 0.01713 \tdifference: 0.00015\n",
      "char: h \tactual: 0.05293  \tpredicted: 0.05384 \tdifference: 0.00091\n",
      "char: i \tactual: 0.06550  \tpredicted: 0.06730 \tdifference: 0.00180\n",
      "char: j \tactual: 0.00735  \tpredicted: 0.00714 \tdifference: -0.00021\n",
      "char: k \tactual: 0.00516  \tpredicted: 0.00508 \tdifference: -0.00008\n",
      "char: l \tactual: 0.02478  \tpredicted: 0.02403 \tdifference: -0.00075\n",
      "char: m \tactual: 0.03960  \tpredicted: 0.03975 \tdifference: 0.00015\n",
      "char: n \tactual: 0.02175  \tpredicted: 0.02180 \tdifference: 0.00006\n",
      "char: o \tactual: 0.07098  \tpredicted: 0.07062 \tdifference: -0.00035\n",
      "char: p \tactual: 0.03924  \tpredicted: 0.03907 \tdifference: -0.00017\n",
      "char: q \tactual: 0.00191  \tpredicted: 0.00193 \tdifference: 0.00002\n",
      "char: r \tactual: 0.02642  \tpredicted: 0.02630 \tdifference: -0.00012\n",
      "char: s \tactual: 0.07536  \tpredicted: 0.07480 \tdifference: -0.00056\n",
      "char: t \tactual: 0.15911  \tpredicted: 0.15955 \tdifference: 0.00044\n",
      "char: u \tactual: 0.01161  \tpredicted: 0.01158 \tdifference: -0.00003\n",
      "char: v \tactual: 0.00659  \tpredicted: 0.00670 \tdifference: 0.00012\n",
      "char: w \tactual: 0.05984  \tpredicted: 0.06047 \tdifference: 0.00063\n",
      "char: x \tactual: 0.00004  \tpredicted: 0.00004 \tdifference: -0.00000\n",
      "char: y \tactual: 0.00839  \tpredicted: 0.00854 \tdifference: 0.00015\n",
      "char: z \tactual: 0.00027  \tpredicted: 0.00021 \tdifference: -0.00006\n"
     ]
    }
   ],
   "source": [
    "char_probs = []\n",
    "with open(test_tokens_csv_fp) as f:\n",
    "    lines = csv.reader(f)\n",
    "    next(lines)\n",
    "    for line in lines:\n",
    "        tok = line[0]\n",
    "        cnt = int(line[1])\n",
    "        for i in range(cnt):\n",
    "            char_probs.append(tok[0])\n",
    "char_probs = sorted(Counter(char_probs).items(), key=lambda pair: pair[0], reverse=False)\n",
    "total_cnt = 0\n",
    "for (_, cnt) in char_probs:\n",
    "    total_cnt += cnt\n",
    "for idx, (c, cnt) in enumerate(char_probs):\n",
    "    char_probs[idx] = (c, float(cnt)/float(total_cnt))\n",
    "logging.info(\"Comparing Actual Probabilities of the First Character with Predicted Probabilities by Markov Chain\")\n",
    "for actual, predicted in zip(char_probs, markov_char_probs):\n",
    "    difference = predicted[1] - actual[1]\n",
    "    print('char: {} \\tactual: {:.5f}  \\tpredicted: {:.5f} \\tdifference: {:.5f}'.format(actual[0],\n",
    "                                                                                       actual[1],\n",
    "                                                                                       predicted[1],\n",
    "                                                                                       difference))"
   ]
  },
  {
   "cell_type": "markdown",
   "metadata": {},
   "source": [
    "## Token -> Position from [0, 1]"
   ]
  },
  {
   "cell_type": "code",
   "execution_count": 10,
   "metadata": {},
   "outputs": [],
   "source": [
    "from models import RNN_Map\n",
    "using_GPU = torch.cuda.is_available()\n",
    "model_path = './data/checkpoint/rnn.pkl'\n",
    "rnn_map = RNN_Map(model_path, 500, using_GPU)"
   ]
  },
  {
   "cell_type": "code",
   "execution_count": 25,
   "metadata": {},
   "outputs": [
    {
     "name": "stdout",
     "output_type": "stream",
     "text": [
      "0.002\n",
      "0.9129049619768921\n",
      "457\n"
     ]
    }
   ],
   "source": [
    "print(rnn_map.get_node('u'))"
   ]
  },
  {
   "cell_type": "code",
   "execution_count": null,
   "metadata": {},
   "outputs": [],
   "source": []
  }
 ],
 "metadata": {
  "kernelspec": {
   "display_name": "Python (other-env)",
   "language": "python",
   "name": "other-env"
  },
  "language_info": {
   "codemirror_mode": {
    "name": "ipython",
    "version": 3
   },
   "file_extension": ".py",
   "mimetype": "text/x-python",
   "name": "python",
   "nbconvert_exporter": "python",
   "pygments_lexer": "ipython3",
   "version": "3.7.1"
  }
 },
 "nbformat": 4,
 "nbformat_minor": 2
}
