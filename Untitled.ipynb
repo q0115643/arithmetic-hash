{
 "cells": [
  {
   "cell_type": "markdown",
   "metadata": {},
   "source": [
    "## Parsing from raw Brown Corpus"
   ]
  },
  {
   "cell_type": "code",
   "execution_count": 1,
   "metadata": {},
   "outputs": [],
   "source": [
    "brown_fp = './data/corpora/brown.txt'\n",
    "train_tokens_csv_fp = './data/train_tokens.csv'\n",
    "test_tokens_csv_fp = './data/test_tokens.csv'"
   ]
  },
  {
   "cell_type": "code",
   "execution_count": 2,
   "metadata": {},
   "outputs": [],
   "source": [
    "from collections import Counter\n",
    "from nltk.tokenize import word_tokenize\n",
    "from tqdm import tqdm_notebook\n",
    "from util import list_to_string, only_alphabets\n",
    "import csv\n",
    "import sys\n",
    "import logging\n",
    "from sklearn.model_selection import train_test_split\n",
    "logging.basicConfig(level=logging.DEBUG, format='%(asctime)s %(message)s', datefmt='%m-%d %H:%M', stream=sys.stdout)"
   ]
  },
  {
   "cell_type": "code",
   "execution_count": 3,
   "metadata": {},
   "outputs": [
    {
     "name": "stdout",
     "output_type": "stream",
     "text": [
      "01-15 15:52 Tokenizing Brown Corpus...\n"
     ]
    },
    {
     "data": {
      "application/vnd.jupyter.widget-view+json": {
       "model_id": "00f8f77a35c14940a35825d390330db3",
       "version_major": 2,
       "version_minor": 0
      },
      "text/plain": [
       "HBox(children=(IntProgress(value=0, max=51763), HTML(value='')))"
      ]
     },
     "metadata": {},
     "output_type": "display_data"
    },
    {
     "name": "stdout",
     "output_type": "stream",
     "text": [
      "\n"
     ]
    }
   ],
   "source": [
    "tokens = []\n",
    "logging.info('Tokenizing Brown Corpus...')\n",
    "with open(brown_fp, 'r') as brown:\n",
    "    brown = list(brown)\n",
    "    for line in tqdm_notebook(brown, total=len(brown)):\n",
    "        words = word_tokenize(only_alphabets(line))\n",
    "        tokens += words"
   ]
  },
  {
   "cell_type": "code",
   "execution_count": 4,
   "metadata": {},
   "outputs": [
    {
     "name": "stdout",
     "output_type": "stream",
     "text": [
      "01-15 15:52 Writing Token-Count info on new csv file...\n"
     ]
    },
    {
     "data": {
      "application/vnd.jupyter.widget-view+json": {
       "model_id": "3b215033bb574482a1e458f44f3437d9",
       "version_major": 2,
       "version_minor": 0
      },
      "text/plain": [
       "HBox(children=(IntProgress(value=0, max=39513), HTML(value='')))"
      ]
     },
     "metadata": {},
     "output_type": "display_data"
    },
    {
     "name": "stdout",
     "output_type": "stream",
     "text": [
      "\n"
     ]
    },
    {
     "data": {
      "application/vnd.jupyter.widget-view+json": {
       "model_id": "c3d31b7ac233484582234be555e46bbd",
       "version_major": 2,
       "version_minor": 0
      },
      "text/plain": [
       "HBox(children=(IntProgress(value=0, max=14445), HTML(value='')))"
      ]
     },
     "metadata": {},
     "output_type": "display_data"
    },
    {
     "name": "stdout",
     "output_type": "stream",
     "text": [
      "\n"
     ]
    }
   ],
   "source": [
    "logging.info(\"Writing Token-Count info on new csv file...\")\n",
    "train_tokens, test_tokens = train_test_split(tokens, test_size=0.1)\n",
    "with open(train_tokens_csv_fp, 'w') as csvfile:\n",
    "    fieldnames = [\n",
    "        'token',\n",
    "        'count'\n",
    "    ]\n",
    "    writer = csv.DictWriter(\n",
    "        csvfile,\n",
    "        fieldnames=fieldnames,\n",
    "        quoting=csv.QUOTE_ALL)\n",
    "    writer.writeheader()\n",
    "    output = []\n",
    "    token_counter = sorted(Counter(train_tokens).items(), key=lambda pair: pair[1], reverse=True)\n",
    "    for tok, cnt in tqdm_notebook(token_counter):\n",
    "        output.append({'token': tok,\n",
    "                       'count': cnt})\n",
    "    writer.writerows(output)\n",
    "with open(test_tokens_csv_fp, 'w') as csvfile:\n",
    "    fieldnames = [\n",
    "        'token',\n",
    "        'count'\n",
    "    ]\n",
    "    writer = csv.DictWriter(\n",
    "        csvfile,\n",
    "        fieldnames=fieldnames,\n",
    "        quoting=csv.QUOTE_ALL)\n",
    "    writer.writeheader()\n",
    "    output = []\n",
    "    token_counter = sorted(Counter(test_tokens).items(), key=lambda pair: pair[1], reverse=True)\n",
    "    for tok, cnt in tqdm_notebook(token_counter):\n",
    "        output.append({'token': tok,\n",
    "                       'count': cnt})\n",
    "    writer.writerows(output)"
   ]
  },
  {
   "cell_type": "markdown",
   "metadata": {},
   "source": [
    "## Dataloader"
   ]
  },
  {
   "cell_type": "code",
   "execution_count": 5,
   "metadata": {},
   "outputs": [],
   "source": [
    "batch_size = 256"
   ]
  },
  {
   "cell_type": "code",
   "execution_count": 6,
   "metadata": {},
   "outputs": [
    {
     "name": "stdout",
     "output_type": "stream",
     "text": [
      "01-15 15:52 PyTorch version: 1.0.0\n",
      "01-15 15:52 GPU Detected: True\n"
     ]
    }
   ],
   "source": [
    "import torch\n",
    "from torch.utils.data import DataLoader\n",
    "import torch.nn.functional as F\n",
    "from sklearn.model_selection import train_test_split\n",
    "import numpy as np\n",
    "from util import to_categorical\n",
    "from util import CharDataset\n",
    "import string\n",
    "logging.info(\"PyTorch version: {}\".format(torch.__version__))\n",
    "logging.info(\"GPU Detected: {}\".format(torch.cuda.is_available()))\n",
    "using_GPU = torch.cuda.is_available()"
   ]
  },
  {
   "cell_type": "code",
   "execution_count": 7,
   "metadata": {},
   "outputs": [
    {
     "name": "stdout",
     "output_type": "stream",
     "text": [
      "01-15 15:52 int2char\n",
      "{1: 'a', 2: 'b', 3: 'c', 4: 'd', 5: 'e', 6: 'f', 7: 'g', 8: 'h', 9: 'i', 10: 'j', 11: 'k', 12: 'l', 13: 'm', 14: 'n', 15: 'o', 16: 'p', 17: 'q', 18: 'r', 19: 's', 20: 't', 21: 'u', 22: 'v', 23: 'w', 24: 'x', 25: 'y', 26: 'z', 0: '<PAD>'}\n",
      "01-15 15:52 char2int\n",
      "{'a': 1, 'b': 2, 'c': 3, 'd': 4, 'e': 5, 'f': 6, 'g': 7, 'h': 8, 'i': 9, 'j': 10, 'k': 11, 'l': 12, 'm': 13, 'n': 14, 'o': 15, 'p': 16, 'q': 17, 'r': 18, 's': 19, 't': 20, 'u': 21, 'v': 22, 'w': 23, 'x': 24, 'y': 25, 'z': 26, '<PAD>': 0}\n"
     ]
    }
   ],
   "source": [
    "alphabets = list(string.ascii_lowercase)\n",
    "alphabet_size = len(alphabets) + 1\n",
    "int2char = dict(enumerate(alphabets, start=1))\n",
    "int2char[0] = '<PAD>'\n",
    "char2int = {char: index for index, char in int2char.items()}\n",
    "logging.info('int2char')\n",
    "print(int2char)\n",
    "logging.info('char2int')\n",
    "print(char2int)"
   ]
  },
  {
   "cell_type": "code",
   "execution_count": 8,
   "metadata": {},
   "outputs": [],
   "source": [
    "train_tokens = []\n",
    "with open(train_tokens_csv_fp) as f:\n",
    "    lines = csv.reader(f)\n",
    "    next(lines)\n",
    "    for line in lines:\n",
    "        tok = line[0]\n",
    "        cnt = int(line[1])\n",
    "        for i in range(cnt):\n",
    "            train_tokens.append(tok)\n",
    "train_tokens = [np.array([char2int[char] for char in token]) for token in train_tokens]\n",
    "test_tokens = []\n",
    "with open(test_tokens_csv_fp) as f:\n",
    "    lines = csv.reader(f)\n",
    "    next(lines)\n",
    "    for line in lines:\n",
    "        tok = line[0]\n",
    "        cnt = int(line[1])\n",
    "        for i in range(cnt):\n",
    "            test_tokens.append(tok)\n",
    "test_tokens = [np.array([char2int[char] for char in token]) for token in test_tokens]"
   ]
  },
  {
   "cell_type": "code",
   "execution_count": 10,
   "metadata": {},
   "outputs": [
    {
     "name": "stdout",
     "output_type": "stream",
     "text": [
      "01-15 15:55 One-hot Encoding Train Tokens...\n"
     ]
    },
    {
     "data": {
      "application/vnd.jupyter.widget-view+json": {
       "model_id": "7a93c5f1e774491fb468c1d096ea171b",
       "version_major": 2,
       "version_minor": 0
      },
      "text/plain": [
       "HBox(children=(IntProgress(value=0, max=921177), HTML(value='')))"
      ]
     },
     "metadata": {},
     "output_type": "display_data"
    },
    {
     "name": "stdout",
     "output_type": "stream",
     "text": [
      "\n",
      "01-15 15:56 One-hot Encoding Test Tokens...\n"
     ]
    },
    {
     "data": {
      "application/vnd.jupyter.widget-view+json": {
       "model_id": "38674991f29c4b84a836ad45a511da4f",
       "version_major": 2,
       "version_minor": 0
      },
      "text/plain": [
       "HBox(children=(IntProgress(value=0, max=102353), HTML(value='')))"
      ]
     },
     "metadata": {},
     "output_type": "display_data"
    },
    {
     "name": "stdout",
     "output_type": "stream",
     "text": [
      "\n"
     ]
    }
   ],
   "source": [
    "encoded_train_tokens = []\n",
    "logging.info('One-hot Encoding Train Tokens...')\n",
    "for token in tqdm_notebook(train_tokens):\n",
    "    encoded_train_tokens.append(to_categorical(token, alphabet_size))\n",
    "encoded_test_tokens = []\n",
    "logging.info('One-hot Encoding Test Tokens...')\n",
    "for token in tqdm_notebook(test_tokens):\n",
    "    encoded_test_tokens.append(to_categorical(token, alphabet_size))"
   ]
  },
  {
   "cell_type": "code",
   "execution_count": 12,
   "metadata": {},
   "outputs": [],
   "source": [
    "train_tokens, val_tokens = train_test_split(encoded_train_tokens, test_size=0.05)\n",
    "test_tokens = encoded_test_tokens\n",
    "training_dataset = CharDataset(train_tokens)\n",
    "val_dataset = CharDataset(val_tokens)\n",
    "test_dataset = CharDataset(test_tokens)"
   ]
  },
  {
   "cell_type": "code",
   "execution_count": 13,
   "metadata": {},
   "outputs": [],
   "source": [
    "train_dataloader = DataLoader(dataset=training_dataset,\n",
    "                              batch_size=batch_size,\n",
    "                              shuffle=True,\n",
    "                              collate_fn=CharDataset.collate_fn)\n",
    "val_dataloader = DataLoader(dataset=val_dataset,\n",
    "                            batch_size=batch_size,\n",
    "                            shuffle=False,\n",
    "                            collate_fn=CharDataset.collate_fn)\n",
    "test_dataloader = DataLoader(dataset=test_dataset,\n",
    "                             batch_size=batch_size,\n",
    "                             shuffle=False,\n",
    "                             collate_fn=CharDataset.collate_fn)"
   ]
  },
  {
   "cell_type": "markdown",
   "metadata": {},
   "source": [
    "## Define Model"
   ]
  },
  {
   "cell_type": "code",
   "execution_count": 22,
   "metadata": {},
   "outputs": [],
   "source": [
    "from models import CharLSTM\n",
    "import torch.nn as nn\n",
    "hidden_dim = 64\n",
    "dropout1 = 0.2\n",
    "dropout2 = 0\n",
    "dropout3 = 0.2\n",
    "lr = 0.5"
   ]
  },
  {
   "cell_type": "code",
   "execution_count": 23,
   "metadata": {},
   "outputs": [],
   "source": [
    "RNN_model = CharLSTM(alphabet_size=alphabet_size,\n",
    "                     hidden_dim=hidden_dim,\n",
    "                     batch_size=batch_size,\n",
    "                     dropout1=dropout1, dropout2=dropout2, dropout3=dropout3)\n",
    "if using_GPU:\n",
    "    RNN_model = RNN_model.cuda()\n",
    "loss_criterion = nn.NLLLoss(reduction='mean')\n",
    "optimizer = torch.optim.Adam(RNN_model.parameters(), lr=lr)\n",
    "#optimizer = torch.optim.SGD(RNN_model.parameters(), lr=lr, momentum=0.9, nesterov=True, weight_decay=1e-5)"
   ]
  },
  {
   "cell_type": "markdown",
   "metadata": {},
   "source": [
    "## Train Model"
   ]
  },
  {
   "cell_type": "code",
   "execution_count": 24,
   "metadata": {},
   "outputs": [],
   "source": [
    "from torch.autograd import Variable\n",
    "from util import evaluate\n",
    "model_path = './data/checkpoint/rnn.pkl'"
   ]
  },
  {
   "cell_type": "code",
   "execution_count": 25,
   "metadata": {},
   "outputs": [
    {
     "name": "stdout",
     "output_type": "stream",
     "text": [
      "01-15 15:58 ******************************\n",
      "01-15 15:58 Epoch 0. Learning Rate 0.5\n",
      "01-15 15:58 ******************************\n",
      "01-15 15:58 Iteration 400. Training Loss 0.9497.\n",
      "01-15 15:58 Validation Loss 0.8390. Validataion Accuracy 0.75.\n",
      "01-15 15:58 New Best Validation Loss 9999999.0000 -> 0.8390, Saving Model Checkpoint\n",
      "01-15 15:58 Iteration 800. Training Loss 0.7758.\n",
      "01-15 15:58 Validation Loss 0.7937. Validataion Accuracy 0.76.\n",
      "01-15 15:58 New Best Validation Loss 0.8390 -> 0.7937, Saving Model Checkpoint\n",
      "01-15 15:58 Iteration 1200. Training Loss 0.8828.\n",
      "01-15 15:58 Validation Loss 0.7740. Validataion Accuracy 0.76.\n",
      "01-15 15:58 New Best Validation Loss 0.7937 -> 0.7740, Saving Model Checkpoint\n",
      "01-15 15:58 Iteration 1600. Training Loss 0.8465.\n",
      "01-15 15:58 Validation Loss 0.7661. Validataion Accuracy 0.77.\n",
      "01-15 15:58 New Best Validation Loss 0.7740 -> 0.7661, Saving Model Checkpoint\n",
      "01-15 15:59 Iteration 2000. Training Loss 0.7871.\n",
      "01-15 15:59 Validation Loss 0.7614. Validataion Accuracy 0.77.\n",
      "01-15 15:59 New Best Validation Loss 0.7661 -> 0.7614, Saving Model Checkpoint\n",
      "01-15 15:59 Iteration 2400. Training Loss 0.7881.\n",
      "01-15 15:59 Validation Loss 0.7631. Validataion Accuracy 0.77.\n",
      "01-15 15:59 Learning Rate Decay 0.5 -> 0.45\n",
      "01-15 15:59 Iteration 2800. Training Loss 0.8748.\n",
      "01-15 15:59 Validation Loss 0.7562. Validataion Accuracy 0.77.\n",
      "01-15 15:59 New Best Validation Loss 0.7614 -> 0.7562, Saving Model Checkpoint\n",
      "01-15 15:59 Iteration 3200. Training Loss 0.7814.\n",
      "01-15 15:59 Validation Loss 0.7559. Validataion Accuracy 0.77.\n",
      "01-15 15:59 New Best Validation Loss 0.7562 -> 0.7559, Saving Model Checkpoint\n",
      "01-15 15:59 ******************************\n",
      "01-15 15:59 Epoch 1. Learning Rate 0.45\n",
      "01-15 15:59 ******************************\n",
      "01-15 15:59 Iteration 3600. Training Loss 0.9967.\n",
      "01-15 15:59 Validation Loss 0.7596. Validataion Accuracy 0.77.\n",
      "01-15 15:59 Learning Rate Decay 0.45 -> 0.405\n",
      "01-15 15:59 Iteration 4000. Training Loss 0.9344.\n",
      "01-15 15:59 Validation Loss 0.7501. Validataion Accuracy 0.77.\n",
      "01-15 15:59 New Best Validation Loss 0.7559 -> 0.7501, Saving Model Checkpoint\n",
      "01-15 16:00 Iteration 4400. Training Loss 0.7701.\n",
      "01-15 16:00 Validation Loss 0.7543. Validataion Accuracy 0.77.\n",
      "01-15 16:00 Iteration 4800. Training Loss 0.8890.\n",
      "01-15 16:00 Validation Loss 0.7609. Validataion Accuracy 0.76.\n",
      "01-15 16:00 Learning Rate Decay 0.405 -> 0.36450000000000005\n",
      "01-15 16:00 Iteration 5200. Training Loss 0.8966.\n",
      "01-15 16:00 Validation Loss 0.7527. Validataion Accuracy 0.77.\n",
      "01-15 16:00 Learning Rate Decay 0.36450000000000005 -> 0.32805000000000006\n",
      "01-15 16:00 Iteration 5600. Training Loss 0.8501.\n",
      "01-15 16:00 Validation Loss 0.7511. Validataion Accuracy 0.77.\n",
      "01-15 16:00 Learning Rate Decay 0.32805000000000006 -> 0.2952450000000001\n",
      "01-15 16:00 Iteration 6000. Training Loss 0.7914.\n",
      "01-15 16:00 Validation Loss 0.7498. Validataion Accuracy 0.77.\n",
      "01-15 16:00 New Best Validation Loss 0.7501 -> 0.7498, Saving Model Checkpoint\n",
      "01-15 16:01 Iteration 6400. Training Loss 0.6050.\n",
      "01-15 16:01 Validation Loss 0.7546. Validataion Accuracy 0.77.\n",
      "01-15 16:01 Iteration 6800. Training Loss 0.8875.\n",
      "01-15 16:01 Validation Loss 0.7475. Validataion Accuracy 0.77.\n",
      "01-15 16:01 New Best Validation Loss 0.7498 -> 0.7475, Saving Model Checkpoint\n",
      "01-15 16:01 ******************************\n",
      "01-15 16:01 Epoch 2. Learning Rate 0.2952450000000001\n",
      "01-15 16:01 ******************************\n",
      "01-15 16:01 Iteration 7200. Training Loss 0.8208.\n",
      "01-15 16:01 Validation Loss 0.7488. Validataion Accuracy 0.77.\n",
      "01-15 16:01 Learning Rate Decay 0.2952450000000001 -> 0.2657205000000001\n",
      "01-15 16:01 Iteration 7600. Training Loss 0.8199.\n",
      "01-15 16:01 Validation Loss 0.7509. Validataion Accuracy 0.77.\n",
      "01-15 16:01 Learning Rate Decay 0.2657205000000001 -> 0.23914845000000007\n",
      "01-15 16:01 Iteration 8000. Training Loss 0.8933.\n",
      "01-15 16:01 Validation Loss 0.7436. Validataion Accuracy 0.77.\n",
      "01-15 16:01 New Best Validation Loss 0.7475 -> 0.7436, Saving Model Checkpoint\n",
      "01-15 16:02 Iteration 8400. Training Loss 0.8408.\n",
      "01-15 16:02 Validation Loss 0.7398. Validataion Accuracy 0.77.\n",
      "01-15 16:02 New Best Validation Loss 0.7436 -> 0.7398, Saving Model Checkpoint\n",
      "01-15 16:02 Iteration 8800. Training Loss 0.8551.\n",
      "01-15 16:02 Validation Loss 0.7400. Validataion Accuracy 0.77.\n",
      "01-15 16:02 Learning Rate Decay 0.23914845000000007 -> 0.21523360500000008\n",
      "01-15 16:02 Iteration 9200. Training Loss 0.7124.\n",
      "01-15 16:02 Validation Loss 0.7381. Validataion Accuracy 0.78.\n",
      "01-15 16:02 New Best Validation Loss 0.7398 -> 0.7381, Saving Model Checkpoint\n",
      "01-15 16:02 Iteration 9600. Training Loss 0.7248.\n",
      "01-15 16:02 Validation Loss 0.7425. Validataion Accuracy 0.77.\n",
      "01-15 16:02 Learning Rate Decay 0.21523360500000008 -> 0.19371024450000007\n",
      "01-15 16:02 Iteration 10000. Training Loss 0.7781.\n",
      "01-15 16:02 Validation Loss 0.7362. Validataion Accuracy 0.77.\n",
      "01-15 16:02 New Best Validation Loss 0.7381 -> 0.7362, Saving Model Checkpoint\n",
      "01-15 16:02 ******************************\n",
      "01-15 16:02 Epoch 3. Learning Rate 0.19371024450000007\n",
      "01-15 16:02 ******************************\n",
      "01-15 16:03 Iteration 10400. Training Loss 0.8172.\n",
      "01-15 16:03 Validation Loss 0.7396. Validataion Accuracy 0.77.\n",
      "01-15 16:03 Learning Rate Decay 0.19371024450000007 -> 0.17433922005000008\n",
      "01-15 16:03 Iteration 10800. Training Loss 0.7590.\n",
      "01-15 16:03 Validation Loss 0.7354. Validataion Accuracy 0.77.\n",
      "01-15 16:03 New Best Validation Loss 0.7362 -> 0.7354, Saving Model Checkpoint\n",
      "01-15 16:03 Iteration 11200. Training Loss 0.8226.\n",
      "01-15 16:03 Validation Loss 0.7383. Validataion Accuracy 0.77.\n",
      "01-15 16:03 Learning Rate Decay 0.17433922005000008 -> 0.15690529804500009\n",
      "01-15 16:03 Iteration 11600. Training Loss 0.8904.\n",
      "01-15 16:03 Validation Loss 0.7339. Validataion Accuracy 0.78.\n",
      "01-15 16:03 New Best Validation Loss 0.7354 -> 0.7339, Saving Model Checkpoint\n",
      "01-15 16:03 Iteration 12000. Training Loss 0.8900.\n",
      "01-15 16:03 Validation Loss 0.7326. Validataion Accuracy 0.78.\n",
      "01-15 16:03 New Best Validation Loss 0.7339 -> 0.7326, Saving Model Checkpoint\n",
      "01-15 16:04 Iteration 12400. Training Loss 0.8960.\n",
      "01-15 16:04 Validation Loss 0.7324. Validataion Accuracy 0.78.\n",
      "01-15 16:04 New Best Validation Loss 0.7326 -> 0.7324, Saving Model Checkpoint\n",
      "01-15 16:04 Iteration 12800. Training Loss 0.7719.\n",
      "01-15 16:04 Validation Loss 0.7364. Validataion Accuracy 0.77.\n",
      "01-15 16:04 Learning Rate Decay 0.15690529804500009 -> 0.14121476824050008\n",
      "01-15 16:04 Iteration 13200. Training Loss 0.7931.\n",
      "01-15 16:04 Validation Loss 0.7319. Validataion Accuracy 0.77.\n",
      "01-15 16:04 New Best Validation Loss 0.7324 -> 0.7319, Saving Model Checkpoint\n",
      "01-15 16:04 Iteration 13600. Training Loss 0.6369.\n",
      "01-15 16:04 Validation Loss 0.7305. Validataion Accuracy 0.78.\n",
      "01-15 16:04 New Best Validation Loss 0.7319 -> 0.7305, Saving Model Checkpoint\n",
      "01-15 16:04 ******************************\n",
      "01-15 16:04 Epoch 4. Learning Rate 0.14121476824050008\n",
      "01-15 16:04 ******************************\n",
      "01-15 16:04 Iteration 14000. Training Loss 0.7127.\n",
      "01-15 16:04 Validation Loss 0.7315. Validataion Accuracy 0.78.\n",
      "01-15 16:04 Learning Rate Decay 0.14121476824050008 -> 0.12709329141645007\n",
      "01-15 16:05 Iteration 14400. Training Loss 0.7855.\n",
      "01-15 16:05 Validation Loss 0.7341. Validataion Accuracy 0.77.\n",
      "01-15 16:05 Learning Rate Decay 0.12709329141645007 -> 0.11438396227480506\n",
      "01-15 16:05 Iteration 14800. Training Loss 0.6925.\n",
      "01-15 16:05 Validation Loss 0.7311. Validataion Accuracy 0.77.\n",
      "01-15 16:05 Learning Rate Decay 0.11438396227480506 -> 0.10294556604732455\n",
      "01-15 16:05 Iteration 15200. Training Loss 0.8797.\n",
      "01-15 16:05 Validation Loss 0.7279. Validataion Accuracy 0.78.\n",
      "01-15 16:05 New Best Validation Loss 0.7305 -> 0.7279, Saving Model Checkpoint\n",
      "01-15 16:05 Iteration 15600. Training Loss 0.7739.\n",
      "01-15 16:05 Validation Loss 0.7274. Validataion Accuracy 0.78.\n",
      "01-15 16:05 New Best Validation Loss 0.7279 -> 0.7274, Saving Model Checkpoint\n",
      "01-15 16:05 Iteration 16000. Training Loss 0.9264.\n",
      "01-15 16:05 Validation Loss 0.7263. Validataion Accuracy 0.78.\n",
      "01-15 16:05 New Best Validation Loss 0.7274 -> 0.7263, Saving Model Checkpoint\n",
      "01-15 16:05 Iteration 16400. Training Loss 0.8471.\n",
      "01-15 16:05 Validation Loss 0.7261. Validataion Accuracy 0.78.\n",
      "01-15 16:05 New Best Validation Loss 0.7263 -> 0.7261, Saving Model Checkpoint\n"
     ]
    },
    {
     "name": "stdout",
     "output_type": "stream",
     "text": [
      "01-15 16:06 Iteration 16800. Training Loss 0.8110.\n",
      "01-15 16:06 Validation Loss 0.7273. Validataion Accuracy 0.78.\n",
      "01-15 16:06 Learning Rate Decay 0.10294556604732455 -> 0.0926510094425921\n",
      "01-15 16:06 ******************************\n",
      "01-15 16:06 Epoch 5. Learning Rate 0.0926510094425921\n",
      "01-15 16:06 ******************************\n",
      "01-15 16:06 Iteration 17200. Training Loss 0.8364.\n",
      "01-15 16:06 Validation Loss 0.7253. Validataion Accuracy 0.78.\n",
      "01-15 16:06 New Best Validation Loss 0.7261 -> 0.7253, Saving Model Checkpoint\n",
      "01-15 16:06 Iteration 17600. Training Loss 0.7395.\n",
      "01-15 16:06 Validation Loss 0.7254. Validataion Accuracy 0.78.\n",
      "01-15 16:06 Learning Rate Decay 0.0926510094425921 -> 0.08338590849833288\n",
      "01-15 16:06 Iteration 18000. Training Loss 0.7166.\n",
      "01-15 16:06 Validation Loss 0.7272. Validataion Accuracy 0.78.\n",
      "01-15 16:06 Learning Rate Decay 0.08338590849833288 -> 0.0750473176484996\n",
      "01-15 16:06 Iteration 18400. Training Loss 0.6408.\n",
      "01-15 16:06 Validation Loss 0.7266. Validataion Accuracy 0.78.\n",
      "01-15 16:06 Learning Rate Decay 0.0750473176484996 -> 0.06754258588364964\n",
      "01-15 16:07 Iteration 18800. Training Loss 0.7536.\n",
      "01-15 16:07 Validation Loss 0.7251. Validataion Accuracy 0.78.\n",
      "01-15 16:07 New Best Validation Loss 0.7253 -> 0.7251, Saving Model Checkpoint\n",
      "01-15 16:07 Iteration 19200. Training Loss 0.7656.\n",
      "01-15 16:07 Validation Loss 0.7298. Validataion Accuracy 0.78.\n",
      "01-15 16:07 Learning Rate Decay 0.06754258588364964 -> 0.06078832729528468\n",
      "01-15 16:07 Iteration 19600. Training Loss 0.6875.\n",
      "01-15 16:07 Validation Loss 0.7295. Validataion Accuracy 0.78.\n",
      "01-15 16:07 Learning Rate Decay 0.06078832729528468 -> 0.05470949456575622\n",
      "01-15 16:07 Stop By KeyboardInterrupt...\n"
     ]
    }
   ],
   "source": [
    "num_iter = 0\n",
    "min_val_loss = 9999999\n",
    "min_train_loss = 9999999\n",
    "train_loss_record = []\n",
    "eval_loss_record = []\n",
    "RNN_model.train()\n",
    "try:\n",
    "    for epoch in range(30):\n",
    "        logging.info(\"*\" * 30)\n",
    "        logging.info('Epoch {}. Learning Rate {}'.format(epoch, lr))\n",
    "        logging.info(\"*\" * 30)\n",
    "        for (inputs, targets, lengths) in train_dataloader:\n",
    "            inputs = Variable(inputs) # shape(batch_size, longest_length, alphabet_num) (ex. 128, 13, 28)\n",
    "            lengths = Variable(lengths)\n",
    "            targets = Variable(targets)\n",
    "            if using_GPU:\n",
    "                inputs = inputs.cuda() # [128, maxlen, 26]\n",
    "                lengths = lengths.cuda()\n",
    "                targets = targets.cuda()\n",
    "            output = RNN_model(inputs, lengths) # [batch_size, maxlen, hidden_dim]\n",
    "            batch_loss = loss_criterion(output.view(-1, alphabet_size), targets.view(-1))\n",
    "            optimizer.zero_grad()\n",
    "            batch_loss.backward()\n",
    "            optimizer.step()\n",
    "            train_loss_record.append(batch_loss.item())\n",
    "            num_iter += 1\n",
    "            if num_iter % 400 == 0:\n",
    "                val_loss, accuracy = evaluate(RNN_model, val_dataloader, loss_criterion, alphabet_size, using_GPU)\n",
    "                eval_loss_record.append(val_loss)\n",
    "                logging.info(\"Iteration {}. Training Loss {:.4f}.\".format(num_iter, batch_loss))\n",
    "                logging.info(\"Validation Loss {:.4f}. Validataion Accuracy {:.2f}.\".format(val_loss, accuracy))\n",
    "                if min_val_loss > val_loss:\n",
    "                    logging.info(\"New Best Validation Loss {:.4f} -> {:.4f}, Saving Model Checkpoint\".format(min_val_loss, val_loss))\n",
    "                    min_val_loss = val_loss\n",
    "                    torch.save({'model': RNN_model.state_dict(),\n",
    "                                'optimizer': optimizer.state_dict(),\n",
    "                                'train_loss_record': train_loss_record,\n",
    "                                'eval_loss_record': eval_loss_record\n",
    "                               }, model_path)\n",
    "                elif min_train_loss < batch_loss:\n",
    "                    new_lr = lr * 0.9\n",
    "                    logging.info(\"Learning Rate Decay {} -> {}\".format(lr, new_lr))\n",
    "                    lr = new_lr\n",
    "                    for param_group in optimizer.param_groups:\n",
    "                        param_group['lr'] = lr\n",
    "                if min_train_loss > batch_loss:\n",
    "                    min_train_loss = batch_loss\n",
    "except KeyboardInterrupt:\n",
    "    logging.info(\"Stop By KeyboardInterrupt...\")"
   ]
  },
  {
   "cell_type": "code",
   "execution_count": 26,
   "metadata": {},
   "outputs": [
    {
     "name": "stdout",
     "output_type": "stream",
     "text": [
      "01-15 16:07 Loaded backend module://ipykernel.pylab.backend_inline version unknown.\n"
     ]
    }
   ],
   "source": [
    "%matplotlib inline\n",
    "import matplotlib.pyplot as plt\n",
    "state = torch.load(model_path)\n",
    "eval_loss_record = state['eval_loss_record']\n",
    "train_loss_record = state['train_loss_record']"
   ]
  },
  {
   "cell_type": "code",
   "execution_count": 27,
   "metadata": {},
   "outputs": [
    {
     "data": {
      "text/plain": [
       "[<matplotlib.lines.Line2D at 0x7f0098152cc0>]"
      ]
     },
     "execution_count": 27,
     "metadata": {},
     "output_type": "execute_result"
    },
    {
     "name": "stdout",
     "output_type": "stream",
     "text": [
      "01-15 16:07 update_title_pos\n",
      "01-15 16:07 update_title_pos\n",
      "01-15 16:07 update_title_pos\n",
      "01-15 16:07 update_title_pos\n",
      "01-15 16:07 update_title_pos\n"
     ]
    },
    {
     "data": {
      "image/png": "[encoded data removed]",
      "text/plain": [
       "<Figure size 432x288 with 1 Axes>"
      ]
     },
     "metadata": {
      "needs_background": "light"
     },
     "output_type": "display_data"
    }
   ],
   "source": [
    "plt.figure()\n",
    "plt.title(\"Validation Loss in Gradient Descent\")\n",
    "plt.plot(eval_loss_record)"
   ]
  },
  {
   "cell_type": "code",
   "execution_count": 28,
   "metadata": {},
   "outputs": [
    {
     "data": {
      "text/plain": [
       "[<matplotlib.lines.Line2D at 0x7f00982975c0>]"
      ]
     },
     "execution_count": 28,
     "metadata": {},
     "output_type": "execute_result"
    },
    {
     "name": "stdout",
     "output_type": "stream",
     "text": [
      "01-15 16:07 update_title_pos\n",
      "01-15 16:07 update_title_pos\n",
      "01-15 16:07 update_title_pos\n",
      "01-15 16:07 update_title_pos\n",
      "01-15 16:07 update_title_pos\n"
     ]
    },
    {
     "data": {
      "image/png": "[encoded data removed]",
      "text/plain": [
       "<Figure size 432x288 with 1 Axes>"
      ]
     },
     "metadata": {
      "needs_background": "light"
     },
     "output_type": "display_data"
    }
   ],
   "source": [
    "plt.figure()\n",
    "plt.title(\"Training Loss in Gradient Descent\")\n",
    "plt.plot(train_loss_record)"
   ]
  },
  {
   "cell_type": "markdown",
   "metadata": {},
   "source": [
    "## Checkout Performance"
   ]
  },
  {
   "cell_type": "code",
   "execution_count": 29,
   "metadata": {},
   "outputs": [
    {
     "name": "stdout",
     "output_type": "stream",
     "text": [
      "[('a', 0.1142321182574033), ('b', 0.04475687082938458), ('c', 0.04866491456039393), ('d', 0.029906304651549052), ('e', 0.023790216212519418), ('f', 0.04227526306019364), ('g', 0.016970679901908103), ('h', 0.05347180834953543), ('i', 0.06706203042412044), ('j', 0.007376432542280148), ('k', 0.004767813351831407), ('l', 0.024181020585620352), ('m', 0.039451701464539385), ('n', 0.021494240520551426), ('o', 0.07071605131261419), ('p', 0.03974480474436509), ('q', 0.0020419528494523853), ('r', 0.025832169061971805), ('s', 0.0764901859251805), ('t', 0.1595751956464393), ('u', 0.011567809443787677), ('v', 0.006712065108008558), ('w', 0.06012525280157885), ('x', 2.9310327982570125e-05), ('y', 0.008548845661582953), ('z', 0.00021494240520551425)]\n"
     ]
    }
   ],
   "source": [
    "char_probs = []\n",
    "with open(test_tokens_csv_fp) as f:\n",
    "    lines = csv.reader(f)\n",
    "    next(lines)\n",
    "    for line in lines:\n",
    "        tok = line[0]\n",
    "        cnt = int(line[1])\n",
    "        for i in range(cnt):\n",
    "            char_probs.append(tok[0])\n",
    "char_probs = sorted(Counter(char_probs).items(), key=lambda pair: pair[0], reverse=False)\n",
    "total_cnt = 0\n",
    "for (_, cnt) in char_probs:\n",
    "    total_cnt += cnt\n",
    "for idx, (c, cnt) in enumerate(char_probs):\n",
    "    char_probs[idx] = (c, float(cnt)/float(total_cnt))\n",
    "print(char_probs)"
   ]
  },
  {
   "cell_type": "code",
   "execution_count": 30,
   "metadata": {},
   "outputs": [
    {
     "name": "stdout",
     "output_type": "stream",
     "text": [
      "[('a', 0.12121149), ('b', 0.050893523), ('c', 0.046010073), ('d', 0.021876125), ('e', 0.026788687), ('f', 0.045225702), ('g', 0.015140357), ('h', 0.052354753), ('i', 0.05956704), ('j', 0.0051380666), ('k', 0.005776867), ('l', 0.026021672), ('m', 0.0378599), ('n', 0.023605607), ('o', 0.077236965), ('p', 0.032334596), ('q', 0.0021797873), ('r', 0.02748524), ('s', 0.09068422), ('t', 0.14068814), ('u', 0.012324616), ('v', 0.007626959), ('w', 0.06395412), ('x', 3.7695827e-05), ('y', 0.007600985), ('z', 0.0003767802)]\n"
     ]
    }
   ],
   "source": [
    "RNN_model = CharLSTM(alphabet_size=alphabet_size,\n",
    "                     hidden_dim=hidden_dim,\n",
    "                     batch_size=batch_size,\n",
    "                     dropout1=dropout1, dropout2=dropout2, dropout3=dropout3)\n",
    "if using_GPU:\n",
    "    RNN_model = RNN_model.cuda()\n",
    "state = torch.load(model_path)\n",
    "RNN_model.load_state_dict(state['model'])\n",
    "RNN_model.eval()\n",
    "hidden = RNN_model.init_hidden()\n",
    "start = [torch.Tensor(np.zeros((1, alphabet_size)))]\n",
    "start = torch.stack(start)\n",
    "with torch.no_grad():\n",
    "    start = Variable(start)\n",
    "    if using_GPU:\n",
    "        start = start.cuda()\n",
    "        hidden = (hidden[0].cuda(), hidden[1].cuda())\n",
    "    output, hidden = RNN_model.forward2(start, hidden)\n",
    "predicted_char_probs = []\n",
    "for idx, prob in enumerate(list(output.cpu().numpy()[0][0])):\n",
    "    if idx != 0:\n",
    "        predicted_char_probs.append((int2char[idx], prob))\n",
    "print(predicted_char_probs)"
   ]
  },
  {
   "cell_type": "code",
   "execution_count": 31,
   "metadata": {},
   "outputs": [
    {
     "name": "stdout",
     "output_type": "stream",
     "text": [
      "01-15 16:08 Comparing Actual Probabilities of the First Character with Predicted Probabilities by LSTM\n",
      "char: a \tactual: 0.1142  \tpredicted: 0.1212 \tdifference: 0.00698\n",
      "char: b \tactual: 0.0448  \tpredicted: 0.0509 \tdifference: 0.00614\n",
      "char: c \tactual: 0.0487  \tpredicted: 0.0460 \tdifference: -0.00265\n",
      "char: d \tactual: 0.0299  \tpredicted: 0.0219 \tdifference: -0.00803\n",
      "char: e \tactual: 0.0238  \tpredicted: 0.0268 \tdifference: 0.00300\n",
      "char: f \tactual: 0.0423  \tpredicted: 0.0452 \tdifference: 0.00295\n",
      "char: g \tactual: 0.0170  \tpredicted: 0.0151 \tdifference: -0.00183\n",
      "char: h \tactual: 0.0535  \tpredicted: 0.0524 \tdifference: -0.00112\n",
      "char: i \tactual: 0.0671  \tpredicted: 0.0596 \tdifference: -0.00749\n",
      "char: j \tactual: 0.0074  \tpredicted: 0.0051 \tdifference: -0.00224\n",
      "char: k \tactual: 0.0048  \tpredicted: 0.0058 \tdifference: 0.00101\n",
      "char: l \tactual: 0.0242  \tpredicted: 0.0260 \tdifference: 0.00184\n",
      "char: m \tactual: 0.0395  \tpredicted: 0.0379 \tdifference: -0.00159\n",
      "char: n \tactual: 0.0215  \tpredicted: 0.0236 \tdifference: 0.00211\n",
      "char: o \tactual: 0.0707  \tpredicted: 0.0772 \tdifference: 0.00652\n",
      "char: p \tactual: 0.0397  \tpredicted: 0.0323 \tdifference: -0.00741\n",
      "char: q \tactual: 0.0020  \tpredicted: 0.0022 \tdifference: 0.00014\n",
      "char: r \tactual: 0.0258  \tpredicted: 0.0275 \tdifference: 0.00165\n",
      "char: s \tactual: 0.0765  \tpredicted: 0.0907 \tdifference: 0.01419\n",
      "char: t \tactual: 0.1596  \tpredicted: 0.1407 \tdifference: -0.01889\n",
      "char: u \tactual: 0.0116  \tpredicted: 0.0123 \tdifference: 0.00076\n",
      "char: v \tactual: 0.0067  \tpredicted: 0.0076 \tdifference: 0.00091\n",
      "char: w \tactual: 0.0601  \tpredicted: 0.0640 \tdifference: 0.00383\n",
      "char: x \tactual: 0.0000  \tpredicted: 0.0000 \tdifference: 0.00001\n",
      "char: y \tactual: 0.0085  \tpredicted: 0.0076 \tdifference: -0.00095\n",
      "char: z \tactual: 0.0002  \tpredicted: 0.0004 \tdifference: 0.00016\n"
     ]
    }
   ],
   "source": [
    "logging.info(\"Comparing Actual Probabilities of the First Character with Predicted Probabilities by LSTM\")\n",
    "for actual, predicted in zip(char_probs, predicted_char_probs):\n",
    "    difference = predicted[1] - actual[1]\n",
    "    print('char: {} \\tactual: {:.4f}  \\tpredicted: {:.4f} \\tdifference: {:.5f}'.format(actual[0],\n",
    "                                                                                       actual[1],\n",
    "                                                                                       predicted[1],\n",
    "                                                                                       difference))"
   ]
  },
  {
   "cell_type": "markdown",
   "metadata": {},
   "source": [
    "## Markov Chain"
   ]
  },
  {
   "cell_type": "code",
   "execution_count": 58,
   "metadata": {},
   "outputs": [],
   "source": [
    "import random\n",
    "\n",
    "class Markov:\n",
    "    \"\"\"An nth-Order Markov Chain class with some lexical processing elements.\"\"\"\n",
    "    def __init__(self, order):\n",
    "        \"\"\"Initialized with a delimiting character (usually a space) and the order of the Markov chain.\"\"\"\n",
    "        self.states = {}\n",
    "        if order > 0:\n",
    "            self.order = order\n",
    "        else:\n",
    "            raise Exception('Markov Chain order cannot be negative or zero.')\n",
    "        self.states[self.init_chain()] = self.empty_counter()\n",
    "        \n",
    "    def init_chain(self):\n",
    "        \"\"\"Helper function to generate the correct initial chain value.\"\"\"\n",
    "        init = []\n",
    "        for i in range(self.order):\n",
    "            init.append('');\n",
    "        return tuple(init)\n",
    "    \n",
    "    def empty_counter(self):\n",
    "        empty_cnt = {}\n",
    "        alphabets = list(string.ascii_lowercase)\n",
    "        for a in alphabets:\n",
    "            empty_cnt[a] = 0\n",
    "        return empty_cnt\n",
    "\n",
    "    def step(self, a, e):\n",
    "        \"\"\"Helper function that pops the end of tuple 'a' and tags on str 'e'.\"\"\"\n",
    "        d = a[1:] + (e,)\n",
    "        return d\n",
    "    \n",
    "    def learn(self, token_counter):\n",
    "        \"\"\"Adds states to the dictionary; works best with sentences.\"\"\"\n",
    "        for tok, cnt in token_counter:\n",
    "            prev = self.init_chain()\n",
    "            for c in tok:\n",
    "                if prev not in self.states:\n",
    "                    self.states[prev] = self.empty_counter()\n",
    "                curr = self.step(prev, c)\n",
    "                self.states[prev][c] += cnt\n",
    "                prev = curr\n",
    "    \n",
    "    def get_probs(self, prefix):\n",
    "        request = self.init_chain()\n",
    "        if len(prefix) > 0:\n",
    "            for c in prefix:\n",
    "                request = self.step(request, c)\n",
    "        char_counter = self.states[request]\n",
    "        char_probs = []\n",
    "        total_cnt = 0\n",
    "        for tok, cnt in char_counter.items():\n",
    "            total_cnt += cnt\n",
    "        for tok, cnt in char_counter.items():\n",
    "            prob = float(cnt)/float(total_cnt)\n",
    "            char_probs.append(tuple([tok, prob]))\n",
    "        return char_probs"
   ]
  },
  {
   "cell_type": "code",
   "execution_count": 61,
   "metadata": {},
   "outputs": [],
   "source": [
    "alphabets = list(string.ascii_lowercase)\n",
    "alphabet_size = len(alphabets) + 1\n",
    "int2char = dict(enumerate(alphabets, start=1))\n",
    "int2char[0] = '<PAD>'\n",
    "char2int = {char: index for index, char in int2char.items()}\n",
    "\n",
    "train_token_counter = []\n",
    "with open(train_tokens_csv_fp) as f:\n",
    "    lines = csv.reader(f)\n",
    "    next(lines)\n",
    "    for line in lines:\n",
    "        tok = line[0]\n",
    "        cnt = int(line[1])\n",
    "        train_token_counter.append(tuple([tok, cnt]))\n",
    "mc = Markov(3)\n",
    "mc.learn(train_token_counter)\n",
    "markov_char_probs = mc.get_probs('')"
   ]
  },
  {
   "cell_type": "code",
   "execution_count": 62,
   "metadata": {},
   "outputs": [
    {
     "name": "stdout",
     "output_type": "stream",
     "text": [
      "01-15 16:31 Comparing Actual Probabilities of the First Character with Predicted Probabilities by Markov Chain\n",
      "char: a \tactual: 0.1142  \tpredicted: 0.1135 \tdifference: -0.00071\n",
      "char: b \tactual: 0.0448  \tpredicted: 0.0459 \tdifference: 0.00113\n",
      "char: c \tactual: 0.0487  \tpredicted: 0.0482 \tdifference: -0.00043\n",
      "char: d \tactual: 0.0299  \tpredicted: 0.0307 \tdifference: 0.00080\n",
      "char: e \tactual: 0.0238  \tpredicted: 0.0244 \tdifference: 0.00065\n",
      "char: f \tactual: 0.0423  \tpredicted: 0.0416 \tdifference: -0.00067\n",
      "char: g \tactual: 0.0170  \tpredicted: 0.0171 \tdifference: 0.00016\n",
      "char: h \tactual: 0.0535  \tpredicted: 0.0538 \tdifference: 0.00031\n",
      "char: i \tactual: 0.0671  \tpredicted: 0.0671 \tdifference: 0.00007\n",
      "char: j \tactual: 0.0074  \tpredicted: 0.0071 \tdifference: -0.00024\n",
      "char: k \tactual: 0.0048  \tpredicted: 0.0051 \tdifference: 0.00035\n",
      "char: l \tactual: 0.0242  \tpredicted: 0.0241 \tdifference: -0.00009\n",
      "char: m \tactual: 0.0395  \tpredicted: 0.0398 \tdifference: 0.00031\n",
      "char: n \tactual: 0.0215  \tpredicted: 0.0218 \tdifference: 0.00034\n",
      "char: o \tactual: 0.0707  \tpredicted: 0.0707 \tdifference: -0.00006\n",
      "char: p \tactual: 0.0397  \tpredicted: 0.0390 \tdifference: -0.00073\n",
      "char: q \tactual: 0.0020  \tpredicted: 0.0019 \tdifference: -0.00012\n",
      "char: r \tactual: 0.0258  \tpredicted: 0.0264 \tdifference: 0.00053\n",
      "char: s \tactual: 0.0765  \tpredicted: 0.0747 \tdifference: -0.00182\n",
      "char: t \tactual: 0.1596  \tpredicted: 0.1595 \tdifference: -0.00008\n",
      "char: u \tactual: 0.0116  \tpredicted: 0.0116 \tdifference: 0.00002\n",
      "char: v \tactual: 0.0067  \tpredicted: 0.0067 \tdifference: -0.00002\n",
      "char: w \tactual: 0.0601  \tpredicted: 0.0604 \tdifference: 0.00032\n",
      "char: x \tactual: 0.0000  \tpredicted: 0.0000 \tdifference: 0.00001\n",
      "char: y \tactual: 0.0085  \tpredicted: 0.0085 \tdifference: -0.00003\n",
      "char: z \tactual: 0.0002  \tpredicted: 0.0002 \tdifference: 0.00001\n"
     ]
    }
   ],
   "source": [
    "char_probs = []\n",
    "with open(test_tokens_csv_fp) as f:\n",
    "    lines = csv.reader(f)\n",
    "    next(lines)\n",
    "    for line in lines:\n",
    "        tok = line[0]\n",
    "        cnt = int(line[1])\n",
    "        for i in range(cnt):\n",
    "            char_probs.append(tok[0])\n",
    "char_probs = sorted(Counter(char_probs).items(), key=lambda pair: pair[0], reverse=False)\n",
    "total_cnt = 0\n",
    "for (_, cnt) in char_probs:\n",
    "    total_cnt += cnt\n",
    "for idx, (c, cnt) in enumerate(char_probs):\n",
    "    char_probs[idx] = (c, float(cnt)/float(total_cnt))\n",
    "logging.info(\"Comparing Actual Probabilities of the First Character with Predicted Probabilities by Markov Chain\")\n",
    "for actual, predicted in zip(char_probs, markov_char_probs):\n",
    "    difference = predicted[1] - actual[1]\n",
    "    print('char: {} \\tactual: {:.4f}  \\tpredicted: {:.4f} \\tdifference: {:.5f}'.format(actual[0],\n",
    "                                                                                       actual[1],\n",
    "                                                                                       predicted[1],\n",
    "                                                                                       difference))"
   ]
  },
  {
   "cell_type": "code",
   "execution_count": null,
   "metadata": {},
   "outputs": [],
   "source": []
  }
 ],
 "metadata": {
  "kernelspec": {
   "display_name": "Python (other-env)",
   "language": "python",
   "name": "other-env"
  },
  "language_info": {
   "codemirror_mode": {
    "name": "ipython",
    "version": 3
   },
   "file_extension": ".py",
   "mimetype": "text/x-python",
   "name": "python",
   "nbconvert_exporter": "python",
   "pygments_lexer": "ipython3",
   "version": "3.7.1"
  }
 },
 "nbformat": 4,
 "nbformat_minor": 2
}
